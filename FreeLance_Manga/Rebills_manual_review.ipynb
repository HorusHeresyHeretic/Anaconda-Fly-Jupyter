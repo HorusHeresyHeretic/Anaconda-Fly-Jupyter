{
 "cells": [
  {
   "cell_type": "code",
   "execution_count": 1,
   "metadata": {
    "collapsed": true
   },
   "outputs": [],
   "source": [
    "import pandas as pd\n",
    "import numpy as np\n",
    "\n",
    "import warnings\n",
    "warnings.filterwarnings(\"ignore\")\n",
    "\n",
    "import seaborn as sns\n",
    "\n",
    "import matplotlib\n",
    "import matplotlib.pyplot as plt\n",
    "import matplotlib.ticker\n",
    "%matplotlib inline\n",
    "\n",
    "sns.set_context(\n",
    "    \"notebook\", \n",
    "    font_scale = 1.5,       \n",
    "    rc = { \n",
    "        \"figure.figsize\" : (12, 9), \n",
    "        \"axes.titlesize\" : 18 \n",
    "    }\n",
    ")"
   ]
  },
  {
   "cell_type": "code",
   "execution_count": 2,
   "metadata": {
    "collapsed": true
   },
   "outputs": [],
   "source": [
    "df_1 = pd.read_csv('J:/MKS_homework/rebills_2018-01-01_2018-01-31/rebills_2018-01-01_2018-01-31.csv', sep=';', encoding = 'windows-1251')   "
   ]
  },
  {
   "cell_type": "code",
   "execution_count": 3,
   "metadata": {},
   "outputs": [
    {
     "name": "stdout",
     "output_type": "stream",
     "text": [
      "<class 'pandas.core.frame.DataFrame'>\n",
      "RangeIndex: 1135143 entries, 0 to 1135142\n",
      "Data columns (total 11 columns):\n",
      "uuid            1135143 non-null object\n",
      "sub_uuid        1135143 non-null object\n",
      "Лэндинг         1135143 non-null int64\n",
      "URL             1135143 non-null object\n",
      "Подключение     1135143 non-null object\n",
      "Юр.лицо         1135143 non-null object\n",
      "ОСС             1135143 non-null object\n",
      "msisdn          1135143 non-null int64\n",
      "Дата ребилла    1135143 non-null object\n",
      "Код ошибки      1135143 non-null int64\n",
      "Статус          1135143 non-null int64\n",
      "dtypes: int64(4), object(7)\n",
      "memory usage: 95.3+ MB\n"
     ]
    }
   ],
   "source": [
    "df_1.info()"
   ]
  },
  {
   "cell_type": "code",
   "execution_count": 4,
   "metadata": {},
   "outputs": [
    {
     "data": {
      "text/html": [
       "<div>\n",
       "<style>\n",
       "    .dataframe thead tr:only-child th {\n",
       "        text-align: right;\n",
       "    }\n",
       "\n",
       "    .dataframe thead th {\n",
       "        text-align: left;\n",
       "    }\n",
       "\n",
       "    .dataframe tbody tr th {\n",
       "        vertical-align: top;\n",
       "    }\n",
       "</style>\n",
       "<table border=\"1\" class=\"dataframe\">\n",
       "  <thead>\n",
       "    <tr style=\"text-align: right;\">\n",
       "      <th></th>\n",
       "      <th>uuid</th>\n",
       "      <th>sub_uuid</th>\n",
       "      <th>Лэндинг</th>\n",
       "      <th>URL</th>\n",
       "      <th>Подключение</th>\n",
       "      <th>Юр.лицо</th>\n",
       "      <th>ОСС</th>\n",
       "      <th>msisdn</th>\n",
       "      <th>Дата ребилла</th>\n",
       "      <th>Код ошибки</th>\n",
       "      <th>Статус</th>\n",
       "    </tr>\n",
       "  </thead>\n",
       "  <tbody>\n",
       "    <tr>\n",
       "      <th>0</th>\n",
       "      <td>d1030000-d496-48d1-a3f5-05636924ed67</td>\n",
       "      <td>43c1ab76-617c-45f2-b0d6-4fc2336f05ca</td>\n",
       "      <td>933</td>\n",
       "      <td>Амедиатека</td>\n",
       "      <td>mks (478)</td>\n",
       "      <td>МКС ООО</td>\n",
       "      <td>МТС</td>\n",
       "      <td>79112146342</td>\n",
       "      <td>2018-01-30 16:47:37</td>\n",
       "      <td>0</td>\n",
       "      <td>1</td>\n",
       "    </tr>\n",
       "    <tr>\n",
       "      <th>1</th>\n",
       "      <td>ea040000-d95e-4ded-aa31-9757c77b87dc</td>\n",
       "      <td>9b93bd74-faab-11e7-9e5e-05658cf45565</td>\n",
       "      <td>1521</td>\n",
       "      <td>Амедиатека</td>\n",
       "      <td>mks (478)</td>\n",
       "      <td>МКС ООО</td>\n",
       "      <td>МТС</td>\n",
       "      <td>79814696460</td>\n",
       "      <td>2018-01-22 13:56:34</td>\n",
       "      <td>0</td>\n",
       "      <td>1</td>\n",
       "    </tr>\n",
       "    <tr>\n",
       "      <th>2</th>\n",
       "      <td>36230000-3c3e-4a9d-99a6-c44654c6f7e7</td>\n",
       "      <td>63241734-01ce-11e8-9e5e-05658cf45565</td>\n",
       "      <td>1521</td>\n",
       "      <td>Амедиатека</td>\n",
       "      <td>mks (478)</td>\n",
       "      <td>МКС ООО</td>\n",
       "      <td>МТС</td>\n",
       "      <td>79803438608</td>\n",
       "      <td>2018-01-25 15:52:14</td>\n",
       "      <td>0</td>\n",
       "      <td>1</td>\n",
       "    </tr>\n",
       "    <tr>\n",
       "      <th>3</th>\n",
       "      <td>072b0000-8a74-4fe2-8373-636db16b621c</td>\n",
       "      <td>713ac9a4-b9c6-48cf-8e3a-384d99171333</td>\n",
       "      <td>933</td>\n",
       "      <td>Амедиатека</td>\n",
       "      <td>mks (478)</td>\n",
       "      <td>МКС ООО</td>\n",
       "      <td>МТС</td>\n",
       "      <td>79198598960</td>\n",
       "      <td>2018-01-23 17:08:20</td>\n",
       "      <td>0</td>\n",
       "      <td>1</td>\n",
       "    </tr>\n",
       "    <tr>\n",
       "      <th>4</th>\n",
       "      <td>d23d0000-4814-455b-96aa-55eddeba8784</td>\n",
       "      <td>c31983d0-e73c-4081-8430-e6e444982b0f</td>\n",
       "      <td>933</td>\n",
       "      <td>Амедиатека</td>\n",
       "      <td>mks (478)</td>\n",
       "      <td>МКС ООО</td>\n",
       "      <td>МТС</td>\n",
       "      <td>79145218681</td>\n",
       "      <td>2018-01-18 13:51:42</td>\n",
       "      <td>0</td>\n",
       "      <td>1</td>\n",
       "    </tr>\n",
       "  </tbody>\n",
       "</table>\n",
       "</div>"
      ],
      "text/plain": [
       "                                   uuid                              sub_uuid  \\\n",
       "0  d1030000-d496-48d1-a3f5-05636924ed67  43c1ab76-617c-45f2-b0d6-4fc2336f05ca   \n",
       "1  ea040000-d95e-4ded-aa31-9757c77b87dc  9b93bd74-faab-11e7-9e5e-05658cf45565   \n",
       "2  36230000-3c3e-4a9d-99a6-c44654c6f7e7  63241734-01ce-11e8-9e5e-05658cf45565   \n",
       "3  072b0000-8a74-4fe2-8373-636db16b621c  713ac9a4-b9c6-48cf-8e3a-384d99171333   \n",
       "4  d23d0000-4814-455b-96aa-55eddeba8784  c31983d0-e73c-4081-8430-e6e444982b0f   \n",
       "\n",
       "   Лэндинг         URL Подключение  Юр.лицо  ОСС       msisdn  \\\n",
       "0      933  Амедиатека   mks (478)  МКС ООО  МТС  79112146342   \n",
       "1     1521  Амедиатека   mks (478)  МКС ООО  МТС  79814696460   \n",
       "2     1521  Амедиатека   mks (478)  МКС ООО  МТС  79803438608   \n",
       "3      933  Амедиатека   mks (478)  МКС ООО  МТС  79198598960   \n",
       "4      933  Амедиатека   mks (478)  МКС ООО  МТС  79145218681   \n",
       "\n",
       "          Дата ребилла  Код ошибки  Статус  \n",
       "0  2018-01-30 16:47:37           0       1  \n",
       "1  2018-01-22 13:56:34           0       1  \n",
       "2  2018-01-25 15:52:14           0       1  \n",
       "3  2018-01-23 17:08:20           0       1  \n",
       "4  2018-01-18 13:51:42           0       1  "
      ]
     },
     "execution_count": 4,
     "metadata": {},
     "output_type": "execute_result"
    }
   ],
   "source": [
    "df_1.head()"
   ]
  },
  {
   "cell_type": "code",
   "execution_count": null,
   "metadata": {
    "collapsed": true
   },
   "outputs": [],
   "source": [
    "Задача 1.\n",
    " Разметить данные по стандарту, который не известен человеку, который убил мне 4 дня праздников и вынес мозг на работе.\n",
    " Поня_Хаоса (я) не пошла на свидание с анимащницей и не посмотрела 14 серий разных мультов, вместо этого она кодила код.\n",
    " А ещё похоже в понедельник мне предложат бесплатно стать техническим руководиелем нашего админа нашей БД, фу такими быть.\n",
    "\n",
    "Подзадача 1.\n",
    "Ебёмся и вручную размечаем данные по пользователям по оператором сотовой связи, 75 гигов чистых данных и полгода работы...\n",
    "- а откуда пришёл пользователь, должен разметить я, я а не боги эксель и скуля. Ну. ок. Мне за это платят, терпим и работаем.    "
   ]
  },
  {
   "cell_type": "code",
   "execution_count": 5,
   "metadata": {
    "collapsed": true
   },
   "outputs": [],
   "source": [
    "df_1['user_code'] = df_1['msisdn'].astype(str)\n",
    "df_1['user_code'] = df_1['user_code'].map(lambda x: str(x)[:-7])"
   ]
  },
  {
   "cell_type": "code",
   "execution_count": 6,
   "metadata": {},
   "outputs": [
    {
     "data": {
      "text/html": [
       "<div>\n",
       "<style>\n",
       "    .dataframe thead tr:only-child th {\n",
       "        text-align: right;\n",
       "    }\n",
       "\n",
       "    .dataframe thead th {\n",
       "        text-align: left;\n",
       "    }\n",
       "\n",
       "    .dataframe tbody tr th {\n",
       "        vertical-align: top;\n",
       "    }\n",
       "</style>\n",
       "<table border=\"1\" class=\"dataframe\">\n",
       "  <thead>\n",
       "    <tr style=\"text-align: right;\">\n",
       "      <th></th>\n",
       "      <th>uuid</th>\n",
       "      <th>sub_uuid</th>\n",
       "      <th>Лэндинг</th>\n",
       "      <th>URL</th>\n",
       "      <th>Подключение</th>\n",
       "      <th>Юр.лицо</th>\n",
       "      <th>ОСС</th>\n",
       "      <th>msisdn</th>\n",
       "      <th>Дата ребилла</th>\n",
       "      <th>Код ошибки</th>\n",
       "      <th>Статус</th>\n",
       "      <th>user_code</th>\n",
       "    </tr>\n",
       "  </thead>\n",
       "  <tbody>\n",
       "    <tr>\n",
       "      <th>0</th>\n",
       "      <td>d1030000-d496-48d1-a3f5-05636924ed67</td>\n",
       "      <td>43c1ab76-617c-45f2-b0d6-4fc2336f05ca</td>\n",
       "      <td>933</td>\n",
       "      <td>Амедиатека</td>\n",
       "      <td>mks (478)</td>\n",
       "      <td>МКС ООО</td>\n",
       "      <td>МТС</td>\n",
       "      <td>79112146342</td>\n",
       "      <td>2018-01-30 16:47:37</td>\n",
       "      <td>0</td>\n",
       "      <td>1</td>\n",
       "      <td>7911</td>\n",
       "    </tr>\n",
       "    <tr>\n",
       "      <th>1</th>\n",
       "      <td>ea040000-d95e-4ded-aa31-9757c77b87dc</td>\n",
       "      <td>9b93bd74-faab-11e7-9e5e-05658cf45565</td>\n",
       "      <td>1521</td>\n",
       "      <td>Амедиатека</td>\n",
       "      <td>mks (478)</td>\n",
       "      <td>МКС ООО</td>\n",
       "      <td>МТС</td>\n",
       "      <td>79814696460</td>\n",
       "      <td>2018-01-22 13:56:34</td>\n",
       "      <td>0</td>\n",
       "      <td>1</td>\n",
       "      <td>7981</td>\n",
       "    </tr>\n",
       "    <tr>\n",
       "      <th>2</th>\n",
       "      <td>36230000-3c3e-4a9d-99a6-c44654c6f7e7</td>\n",
       "      <td>63241734-01ce-11e8-9e5e-05658cf45565</td>\n",
       "      <td>1521</td>\n",
       "      <td>Амедиатека</td>\n",
       "      <td>mks (478)</td>\n",
       "      <td>МКС ООО</td>\n",
       "      <td>МТС</td>\n",
       "      <td>79803438608</td>\n",
       "      <td>2018-01-25 15:52:14</td>\n",
       "      <td>0</td>\n",
       "      <td>1</td>\n",
       "      <td>7980</td>\n",
       "    </tr>\n",
       "    <tr>\n",
       "      <th>3</th>\n",
       "      <td>072b0000-8a74-4fe2-8373-636db16b621c</td>\n",
       "      <td>713ac9a4-b9c6-48cf-8e3a-384d99171333</td>\n",
       "      <td>933</td>\n",
       "      <td>Амедиатека</td>\n",
       "      <td>mks (478)</td>\n",
       "      <td>МКС ООО</td>\n",
       "      <td>МТС</td>\n",
       "      <td>79198598960</td>\n",
       "      <td>2018-01-23 17:08:20</td>\n",
       "      <td>0</td>\n",
       "      <td>1</td>\n",
       "      <td>7919</td>\n",
       "    </tr>\n",
       "    <tr>\n",
       "      <th>4</th>\n",
       "      <td>d23d0000-4814-455b-96aa-55eddeba8784</td>\n",
       "      <td>c31983d0-e73c-4081-8430-e6e444982b0f</td>\n",
       "      <td>933</td>\n",
       "      <td>Амедиатека</td>\n",
       "      <td>mks (478)</td>\n",
       "      <td>МКС ООО</td>\n",
       "      <td>МТС</td>\n",
       "      <td>79145218681</td>\n",
       "      <td>2018-01-18 13:51:42</td>\n",
       "      <td>0</td>\n",
       "      <td>1</td>\n",
       "      <td>7914</td>\n",
       "    </tr>\n",
       "  </tbody>\n",
       "</table>\n",
       "</div>"
      ],
      "text/plain": [
       "                                   uuid                              sub_uuid  \\\n",
       "0  d1030000-d496-48d1-a3f5-05636924ed67  43c1ab76-617c-45f2-b0d6-4fc2336f05ca   \n",
       "1  ea040000-d95e-4ded-aa31-9757c77b87dc  9b93bd74-faab-11e7-9e5e-05658cf45565   \n",
       "2  36230000-3c3e-4a9d-99a6-c44654c6f7e7  63241734-01ce-11e8-9e5e-05658cf45565   \n",
       "3  072b0000-8a74-4fe2-8373-636db16b621c  713ac9a4-b9c6-48cf-8e3a-384d99171333   \n",
       "4  d23d0000-4814-455b-96aa-55eddeba8784  c31983d0-e73c-4081-8430-e6e444982b0f   \n",
       "\n",
       "   Лэндинг         URL Подключение  Юр.лицо  ОСС       msisdn  \\\n",
       "0      933  Амедиатека   mks (478)  МКС ООО  МТС  79112146342   \n",
       "1     1521  Амедиатека   mks (478)  МКС ООО  МТС  79814696460   \n",
       "2     1521  Амедиатека   mks (478)  МКС ООО  МТС  79803438608   \n",
       "3      933  Амедиатека   mks (478)  МКС ООО  МТС  79198598960   \n",
       "4      933  Амедиатека   mks (478)  МКС ООО  МТС  79145218681   \n",
       "\n",
       "          Дата ребилла  Код ошибки  Статус user_code  \n",
       "0  2018-01-30 16:47:37           0       1      7911  \n",
       "1  2018-01-22 13:56:34           0       1      7981  \n",
       "2  2018-01-25 15:52:14           0       1      7980  \n",
       "3  2018-01-23 17:08:20           0       1      7919  \n",
       "4  2018-01-18 13:51:42           0       1      7914  "
      ]
     },
     "execution_count": 6,
     "metadata": {},
     "output_type": "execute_result"
    }
   ],
   "source": [
    "df_1.head()"
   ]
  },
  {
   "cell_type": "code",
   "execution_count": 7,
   "metadata": {
    "collapsed": true
   },
   "outputs": [],
   "source": [
    "df_1['user_count'] = df_1['user_code'].astype(bool)\n",
    "df_1['user_count'] = df_1['user_count'].astype('int64')"
   ]
  },
  {
   "cell_type": "code",
   "execution_count": 8,
   "metadata": {},
   "outputs": [
    {
     "data": {
      "text/html": [
       "<div>\n",
       "<style>\n",
       "    .dataframe thead tr:only-child th {\n",
       "        text-align: right;\n",
       "    }\n",
       "\n",
       "    .dataframe thead th {\n",
       "        text-align: left;\n",
       "    }\n",
       "\n",
       "    .dataframe tbody tr th {\n",
       "        vertical-align: top;\n",
       "    }\n",
       "</style>\n",
       "<table border=\"1\" class=\"dataframe\">\n",
       "  <thead>\n",
       "    <tr style=\"text-align: right;\">\n",
       "      <th></th>\n",
       "      <th>uuid</th>\n",
       "      <th>sub_uuid</th>\n",
       "      <th>Лэндинг</th>\n",
       "      <th>URL</th>\n",
       "      <th>Подключение</th>\n",
       "      <th>Юр.лицо</th>\n",
       "      <th>ОСС</th>\n",
       "      <th>msisdn</th>\n",
       "      <th>Дата ребилла</th>\n",
       "      <th>Код ошибки</th>\n",
       "      <th>Статус</th>\n",
       "      <th>user_code</th>\n",
       "      <th>user_count</th>\n",
       "    </tr>\n",
       "  </thead>\n",
       "  <tbody>\n",
       "    <tr>\n",
       "      <th>0</th>\n",
       "      <td>d1030000-d496-48d1-a3f5-05636924ed67</td>\n",
       "      <td>43c1ab76-617c-45f2-b0d6-4fc2336f05ca</td>\n",
       "      <td>933</td>\n",
       "      <td>Амедиатека</td>\n",
       "      <td>mks (478)</td>\n",
       "      <td>МКС ООО</td>\n",
       "      <td>МТС</td>\n",
       "      <td>79112146342</td>\n",
       "      <td>2018-01-30 16:47:37</td>\n",
       "      <td>0</td>\n",
       "      <td>1</td>\n",
       "      <td>7911</td>\n",
       "      <td>1</td>\n",
       "    </tr>\n",
       "    <tr>\n",
       "      <th>1</th>\n",
       "      <td>ea040000-d95e-4ded-aa31-9757c77b87dc</td>\n",
       "      <td>9b93bd74-faab-11e7-9e5e-05658cf45565</td>\n",
       "      <td>1521</td>\n",
       "      <td>Амедиатека</td>\n",
       "      <td>mks (478)</td>\n",
       "      <td>МКС ООО</td>\n",
       "      <td>МТС</td>\n",
       "      <td>79814696460</td>\n",
       "      <td>2018-01-22 13:56:34</td>\n",
       "      <td>0</td>\n",
       "      <td>1</td>\n",
       "      <td>7981</td>\n",
       "      <td>1</td>\n",
       "    </tr>\n",
       "    <tr>\n",
       "      <th>2</th>\n",
       "      <td>36230000-3c3e-4a9d-99a6-c44654c6f7e7</td>\n",
       "      <td>63241734-01ce-11e8-9e5e-05658cf45565</td>\n",
       "      <td>1521</td>\n",
       "      <td>Амедиатека</td>\n",
       "      <td>mks (478)</td>\n",
       "      <td>МКС ООО</td>\n",
       "      <td>МТС</td>\n",
       "      <td>79803438608</td>\n",
       "      <td>2018-01-25 15:52:14</td>\n",
       "      <td>0</td>\n",
       "      <td>1</td>\n",
       "      <td>7980</td>\n",
       "      <td>1</td>\n",
       "    </tr>\n",
       "    <tr>\n",
       "      <th>3</th>\n",
       "      <td>072b0000-8a74-4fe2-8373-636db16b621c</td>\n",
       "      <td>713ac9a4-b9c6-48cf-8e3a-384d99171333</td>\n",
       "      <td>933</td>\n",
       "      <td>Амедиатека</td>\n",
       "      <td>mks (478)</td>\n",
       "      <td>МКС ООО</td>\n",
       "      <td>МТС</td>\n",
       "      <td>79198598960</td>\n",
       "      <td>2018-01-23 17:08:20</td>\n",
       "      <td>0</td>\n",
       "      <td>1</td>\n",
       "      <td>7919</td>\n",
       "      <td>1</td>\n",
       "    </tr>\n",
       "    <tr>\n",
       "      <th>4</th>\n",
       "      <td>d23d0000-4814-455b-96aa-55eddeba8784</td>\n",
       "      <td>c31983d0-e73c-4081-8430-e6e444982b0f</td>\n",
       "      <td>933</td>\n",
       "      <td>Амедиатека</td>\n",
       "      <td>mks (478)</td>\n",
       "      <td>МКС ООО</td>\n",
       "      <td>МТС</td>\n",
       "      <td>79145218681</td>\n",
       "      <td>2018-01-18 13:51:42</td>\n",
       "      <td>0</td>\n",
       "      <td>1</td>\n",
       "      <td>7914</td>\n",
       "      <td>1</td>\n",
       "    </tr>\n",
       "  </tbody>\n",
       "</table>\n",
       "</div>"
      ],
      "text/plain": [
       "                                   uuid                              sub_uuid  \\\n",
       "0  d1030000-d496-48d1-a3f5-05636924ed67  43c1ab76-617c-45f2-b0d6-4fc2336f05ca   \n",
       "1  ea040000-d95e-4ded-aa31-9757c77b87dc  9b93bd74-faab-11e7-9e5e-05658cf45565   \n",
       "2  36230000-3c3e-4a9d-99a6-c44654c6f7e7  63241734-01ce-11e8-9e5e-05658cf45565   \n",
       "3  072b0000-8a74-4fe2-8373-636db16b621c  713ac9a4-b9c6-48cf-8e3a-384d99171333   \n",
       "4  d23d0000-4814-455b-96aa-55eddeba8784  c31983d0-e73c-4081-8430-e6e444982b0f   \n",
       "\n",
       "   Лэндинг         URL Подключение  Юр.лицо  ОСС       msisdn  \\\n",
       "0      933  Амедиатека   mks (478)  МКС ООО  МТС  79112146342   \n",
       "1     1521  Амедиатека   mks (478)  МКС ООО  МТС  79814696460   \n",
       "2     1521  Амедиатека   mks (478)  МКС ООО  МТС  79803438608   \n",
       "3      933  Амедиатека   mks (478)  МКС ООО  МТС  79198598960   \n",
       "4      933  Амедиатека   mks (478)  МКС ООО  МТС  79145218681   \n",
       "\n",
       "          Дата ребилла  Код ошибки  Статус user_code  user_count  \n",
       "0  2018-01-30 16:47:37           0       1      7911           1  \n",
       "1  2018-01-22 13:56:34           0       1      7981           1  \n",
       "2  2018-01-25 15:52:14           0       1      7980           1  \n",
       "3  2018-01-23 17:08:20           0       1      7919           1  \n",
       "4  2018-01-18 13:51:42           0       1      7914           1  "
      ]
     },
     "execution_count": 8,
     "metadata": {},
     "output_type": "execute_result"
    }
   ],
   "source": [
    "df_1.head()"
   ]
  },
  {
   "cell_type": "code",
   "execution_count": 9,
   "metadata": {
    "collapsed": true
   },
   "outputs": [],
   "source": [
    "df_1['rebill_count'] = df_1['Дата ребилла'].astype(bool)\n",
    "df_1['rebill_count'] = df_1['rebill_count'].astype('int64')"
   ]
  },
  {
   "cell_type": "code",
   "execution_count": 10,
   "metadata": {},
   "outputs": [
    {
     "data": {
      "text/html": [
       "<div>\n",
       "<style>\n",
       "    .dataframe thead tr:only-child th {\n",
       "        text-align: right;\n",
       "    }\n",
       "\n",
       "    .dataframe thead th {\n",
       "        text-align: left;\n",
       "    }\n",
       "\n",
       "    .dataframe tbody tr th {\n",
       "        vertical-align: top;\n",
       "    }\n",
       "</style>\n",
       "<table border=\"1\" class=\"dataframe\">\n",
       "  <thead>\n",
       "    <tr style=\"text-align: right;\">\n",
       "      <th></th>\n",
       "      <th>uuid</th>\n",
       "      <th>sub_uuid</th>\n",
       "      <th>Лэндинг</th>\n",
       "      <th>URL</th>\n",
       "      <th>Подключение</th>\n",
       "      <th>Юр.лицо</th>\n",
       "      <th>ОСС</th>\n",
       "      <th>msisdn</th>\n",
       "      <th>Дата ребилла</th>\n",
       "      <th>Код ошибки</th>\n",
       "      <th>Статус</th>\n",
       "      <th>user_code</th>\n",
       "      <th>user_count</th>\n",
       "      <th>rebill_count</th>\n",
       "    </tr>\n",
       "  </thead>\n",
       "  <tbody>\n",
       "    <tr>\n",
       "      <th>0</th>\n",
       "      <td>d1030000-d496-48d1-a3f5-05636924ed67</td>\n",
       "      <td>43c1ab76-617c-45f2-b0d6-4fc2336f05ca</td>\n",
       "      <td>933</td>\n",
       "      <td>Амедиатека</td>\n",
       "      <td>mks (478)</td>\n",
       "      <td>МКС ООО</td>\n",
       "      <td>МТС</td>\n",
       "      <td>79112146342</td>\n",
       "      <td>2018-01-30 16:47:37</td>\n",
       "      <td>0</td>\n",
       "      <td>1</td>\n",
       "      <td>7911</td>\n",
       "      <td>1</td>\n",
       "      <td>1</td>\n",
       "    </tr>\n",
       "    <tr>\n",
       "      <th>1</th>\n",
       "      <td>ea040000-d95e-4ded-aa31-9757c77b87dc</td>\n",
       "      <td>9b93bd74-faab-11e7-9e5e-05658cf45565</td>\n",
       "      <td>1521</td>\n",
       "      <td>Амедиатека</td>\n",
       "      <td>mks (478)</td>\n",
       "      <td>МКС ООО</td>\n",
       "      <td>МТС</td>\n",
       "      <td>79814696460</td>\n",
       "      <td>2018-01-22 13:56:34</td>\n",
       "      <td>0</td>\n",
       "      <td>1</td>\n",
       "      <td>7981</td>\n",
       "      <td>1</td>\n",
       "      <td>1</td>\n",
       "    </tr>\n",
       "    <tr>\n",
       "      <th>2</th>\n",
       "      <td>36230000-3c3e-4a9d-99a6-c44654c6f7e7</td>\n",
       "      <td>63241734-01ce-11e8-9e5e-05658cf45565</td>\n",
       "      <td>1521</td>\n",
       "      <td>Амедиатека</td>\n",
       "      <td>mks (478)</td>\n",
       "      <td>МКС ООО</td>\n",
       "      <td>МТС</td>\n",
       "      <td>79803438608</td>\n",
       "      <td>2018-01-25 15:52:14</td>\n",
       "      <td>0</td>\n",
       "      <td>1</td>\n",
       "      <td>7980</td>\n",
       "      <td>1</td>\n",
       "      <td>1</td>\n",
       "    </tr>\n",
       "    <tr>\n",
       "      <th>3</th>\n",
       "      <td>072b0000-8a74-4fe2-8373-636db16b621c</td>\n",
       "      <td>713ac9a4-b9c6-48cf-8e3a-384d99171333</td>\n",
       "      <td>933</td>\n",
       "      <td>Амедиатека</td>\n",
       "      <td>mks (478)</td>\n",
       "      <td>МКС ООО</td>\n",
       "      <td>МТС</td>\n",
       "      <td>79198598960</td>\n",
       "      <td>2018-01-23 17:08:20</td>\n",
       "      <td>0</td>\n",
       "      <td>1</td>\n",
       "      <td>7919</td>\n",
       "      <td>1</td>\n",
       "      <td>1</td>\n",
       "    </tr>\n",
       "    <tr>\n",
       "      <th>4</th>\n",
       "      <td>d23d0000-4814-455b-96aa-55eddeba8784</td>\n",
       "      <td>c31983d0-e73c-4081-8430-e6e444982b0f</td>\n",
       "      <td>933</td>\n",
       "      <td>Амедиатека</td>\n",
       "      <td>mks (478)</td>\n",
       "      <td>МКС ООО</td>\n",
       "      <td>МТС</td>\n",
       "      <td>79145218681</td>\n",
       "      <td>2018-01-18 13:51:42</td>\n",
       "      <td>0</td>\n",
       "      <td>1</td>\n",
       "      <td>7914</td>\n",
       "      <td>1</td>\n",
       "      <td>1</td>\n",
       "    </tr>\n",
       "  </tbody>\n",
       "</table>\n",
       "</div>"
      ],
      "text/plain": [
       "                                   uuid                              sub_uuid  \\\n",
       "0  d1030000-d496-48d1-a3f5-05636924ed67  43c1ab76-617c-45f2-b0d6-4fc2336f05ca   \n",
       "1  ea040000-d95e-4ded-aa31-9757c77b87dc  9b93bd74-faab-11e7-9e5e-05658cf45565   \n",
       "2  36230000-3c3e-4a9d-99a6-c44654c6f7e7  63241734-01ce-11e8-9e5e-05658cf45565   \n",
       "3  072b0000-8a74-4fe2-8373-636db16b621c  713ac9a4-b9c6-48cf-8e3a-384d99171333   \n",
       "4  d23d0000-4814-455b-96aa-55eddeba8784  c31983d0-e73c-4081-8430-e6e444982b0f   \n",
       "\n",
       "   Лэндинг         URL Подключение  Юр.лицо  ОСС       msisdn  \\\n",
       "0      933  Амедиатека   mks (478)  МКС ООО  МТС  79112146342   \n",
       "1     1521  Амедиатека   mks (478)  МКС ООО  МТС  79814696460   \n",
       "2     1521  Амедиатека   mks (478)  МКС ООО  МТС  79803438608   \n",
       "3      933  Амедиатека   mks (478)  МКС ООО  МТС  79198598960   \n",
       "4      933  Амедиатека   mks (478)  МКС ООО  МТС  79145218681   \n",
       "\n",
       "          Дата ребилла  Код ошибки  Статус user_code  user_count  rebill_count  \n",
       "0  2018-01-30 16:47:37           0       1      7911           1             1  \n",
       "1  2018-01-22 13:56:34           0       1      7981           1             1  \n",
       "2  2018-01-25 15:52:14           0       1      7980           1             1  \n",
       "3  2018-01-23 17:08:20           0       1      7919           1             1  \n",
       "4  2018-01-18 13:51:42           0       1      7914           1             1  "
      ]
     },
     "execution_count": 10,
     "metadata": {},
     "output_type": "execute_result"
    }
   ],
   "source": [
    "df_1.head()"
   ]
  },
  {
   "cell_type": "code",
   "execution_count": null,
   "metadata": {
    "collapsed": true
   },
   "outputs": [],
   "source": [
    "Подзадача 2.\n",
    "Проверить индикатор [Статус] на влияние со стороны возмущений в варпе и возможные козни лоялистов."
   ]
  },
  {
   "cell_type": "code",
   "execution_count": 11,
   "metadata": {},
   "outputs": [
    {
     "data": {
      "text/plain": [
       "0       1037110\n",
       "102       63740\n",
       "52        24634\n",
       "51         6868\n",
       "356        2452\n",
       "8           311\n",
       "50           22\n",
       "1001          2\n",
       "103           2\n",
       "101           1\n",
       "53            1\n",
       "Name: Код ошибки, dtype: int64"
      ]
     },
     "execution_count": 11,
     "metadata": {},
     "output_type": "execute_result"
    }
   ],
   "source": [
    "df_1['Код ошибки'].value_counts()"
   ]
  },
  {
   "cell_type": "code",
   "execution_count": 12,
   "metadata": {},
   "outputs": [
    {
     "data": {
      "text/plain": [
       "1    1037110\n",
       "0      98033\n",
       "Name: Статус, dtype: int64"
      ]
     },
     "execution_count": 12,
     "metadata": {},
     "output_type": "execute_result"
    }
   ],
   "source": [
    "df_1['Статус'].value_counts()"
   ]
  },
  {
   "cell_type": "code",
   "execution_count": 14,
   "metadata": {},
   "outputs": [
    {
     "name": "stdout",
     "output_type": "stream",
     "text": [
      "['7900', '7901', '7902', '7903', '7904', '7905', '7906', '7908', '7909', '7910', '7911', '7912', '7913', '7914', '7915', '7916', '7917', '7918', '7919', '7920', '7921', '7922', '7923', '7924', '7925', '7926', '7927', '7928', '7929', '7930', '7931', '7932', '7933', '7937', '7938', '7939', '7950', '7951', '7952', '7953', '7958', '7960', '7961', '7962', '7963', '7964', '7965', '7966', '7967', '7968', '7969', '7977', '7978', '7980', '7981', '7982', '7983', '7984', '7985', '7986', '7987', '7988', '7989', '7991', '7992', '7996', '7999']\n"
     ]
    }
   ],
   "source": [
    "user_types_1 = df_1['user_code'].drop_duplicates().values.tolist()\n",
    "user_types_1.sort()\n",
    "print(user_types_1)"
   ]
  },
  {
   "cell_type": "code",
   "execution_count": 15,
   "metadata": {
    "collapsed": true
   },
   "outputs": [],
   "source": [
    "user_operator_1 = {'7900': \"TELE2\", '7901': \"TELE2\", '7903':'BEE','7904':\"TELE2\",'7905':\"BEE\", '7906': 'BEE','7980':'TELE2',\n",
    "           '709':\"BEE\",'7910':'МТС', '7911':'МТС','7912':'МТС', '7913': \"МТС\", '7914':'МТС','7915':'МТС','7916':'МТС',\n",
    "           '7917':\"МТС\",'7918':'МТС','7919':'МТС','7920':'MEG','7921':'MEG','7922':'MEG','7923':'MEG','7924':'MEG',\n",
    "           '7925':'MEG','7926':'MEG','7927':'MEG','7928':'MEG','7929':'MEG','7930':'MEG','7931':'MEG','7932':'MEG',\n",
    "           '7933':'MEG','7938':'MEG','7939':'MEG_SMART','7950':'TELE2','7951':'TELE2','7952':'TELE2','7953':'TELE2',\n",
    "           '7958':'MIX_TELECOM','7960':'BEE','7961':'BEE','7962':'BEE','7963':'BEE',\"7964\":'BEE','7965':'BEE',\n",
    "           '7966':'BEE','7967':'BEE','7968':'BEE','7969':'BEE','7977':'TELE2','7978':'МТС-WIN','7980':'МТС',\n",
    "           '7981':'МТС','7982':'МТС','7983':'МТС','7984':'МТС','7985':'МТС','7986':'МТС','7987':'МТС',\n",
    "           '7988':'МТС','7989':'МТС','7996':'YOTA_TELE2','7999':'YOTA_MEG'}"
   ]
  },
  {
   "cell_type": "code",
   "execution_count": 16,
   "metadata": {},
   "outputs": [
    {
     "data": {
      "text/html": [
       "<div>\n",
       "<style>\n",
       "    .dataframe thead tr:only-child th {\n",
       "        text-align: right;\n",
       "    }\n",
       "\n",
       "    .dataframe thead th {\n",
       "        text-align: left;\n",
       "    }\n",
       "\n",
       "    .dataframe tbody tr th {\n",
       "        vertical-align: top;\n",
       "    }\n",
       "</style>\n",
       "<table border=\"1\" class=\"dataframe\">\n",
       "  <thead>\n",
       "    <tr style=\"text-align: right;\">\n",
       "      <th></th>\n",
       "      <th>uuid</th>\n",
       "      <th>sub_uuid</th>\n",
       "      <th>Лэндинг</th>\n",
       "      <th>URL</th>\n",
       "      <th>Подключение</th>\n",
       "      <th>Юр.лицо</th>\n",
       "      <th>ОСС</th>\n",
       "      <th>msisdn</th>\n",
       "      <th>Дата ребилла</th>\n",
       "      <th>Код ошибки</th>\n",
       "      <th>Статус</th>\n",
       "      <th>user_code</th>\n",
       "      <th>user_count</th>\n",
       "      <th>rebill_count</th>\n",
       "      <th>user_operator</th>\n",
       "    </tr>\n",
       "  </thead>\n",
       "  <tbody>\n",
       "    <tr>\n",
       "      <th>0</th>\n",
       "      <td>d1030000-d496-48d1-a3f5-05636924ed67</td>\n",
       "      <td>43c1ab76-617c-45f2-b0d6-4fc2336f05ca</td>\n",
       "      <td>933</td>\n",
       "      <td>Амедиатека</td>\n",
       "      <td>mks (478)</td>\n",
       "      <td>МКС ООО</td>\n",
       "      <td>МТС</td>\n",
       "      <td>79112146342</td>\n",
       "      <td>2018-01-30 16:47:37</td>\n",
       "      <td>0</td>\n",
       "      <td>1</td>\n",
       "      <td>7911</td>\n",
       "      <td>1</td>\n",
       "      <td>1</td>\n",
       "      <td>МТС</td>\n",
       "    </tr>\n",
       "    <tr>\n",
       "      <th>1</th>\n",
       "      <td>ea040000-d95e-4ded-aa31-9757c77b87dc</td>\n",
       "      <td>9b93bd74-faab-11e7-9e5e-05658cf45565</td>\n",
       "      <td>1521</td>\n",
       "      <td>Амедиатека</td>\n",
       "      <td>mks (478)</td>\n",
       "      <td>МКС ООО</td>\n",
       "      <td>МТС</td>\n",
       "      <td>79814696460</td>\n",
       "      <td>2018-01-22 13:56:34</td>\n",
       "      <td>0</td>\n",
       "      <td>1</td>\n",
       "      <td>7981</td>\n",
       "      <td>1</td>\n",
       "      <td>1</td>\n",
       "      <td>МТС</td>\n",
       "    </tr>\n",
       "    <tr>\n",
       "      <th>2</th>\n",
       "      <td>36230000-3c3e-4a9d-99a6-c44654c6f7e7</td>\n",
       "      <td>63241734-01ce-11e8-9e5e-05658cf45565</td>\n",
       "      <td>1521</td>\n",
       "      <td>Амедиатека</td>\n",
       "      <td>mks (478)</td>\n",
       "      <td>МКС ООО</td>\n",
       "      <td>МТС</td>\n",
       "      <td>79803438608</td>\n",
       "      <td>2018-01-25 15:52:14</td>\n",
       "      <td>0</td>\n",
       "      <td>1</td>\n",
       "      <td>7980</td>\n",
       "      <td>1</td>\n",
       "      <td>1</td>\n",
       "      <td>МТС</td>\n",
       "    </tr>\n",
       "    <tr>\n",
       "      <th>3</th>\n",
       "      <td>072b0000-8a74-4fe2-8373-636db16b621c</td>\n",
       "      <td>713ac9a4-b9c6-48cf-8e3a-384d99171333</td>\n",
       "      <td>933</td>\n",
       "      <td>Амедиатека</td>\n",
       "      <td>mks (478)</td>\n",
       "      <td>МКС ООО</td>\n",
       "      <td>МТС</td>\n",
       "      <td>79198598960</td>\n",
       "      <td>2018-01-23 17:08:20</td>\n",
       "      <td>0</td>\n",
       "      <td>1</td>\n",
       "      <td>7919</td>\n",
       "      <td>1</td>\n",
       "      <td>1</td>\n",
       "      <td>МТС</td>\n",
       "    </tr>\n",
       "    <tr>\n",
       "      <th>4</th>\n",
       "      <td>d23d0000-4814-455b-96aa-55eddeba8784</td>\n",
       "      <td>c31983d0-e73c-4081-8430-e6e444982b0f</td>\n",
       "      <td>933</td>\n",
       "      <td>Амедиатека</td>\n",
       "      <td>mks (478)</td>\n",
       "      <td>МКС ООО</td>\n",
       "      <td>МТС</td>\n",
       "      <td>79145218681</td>\n",
       "      <td>2018-01-18 13:51:42</td>\n",
       "      <td>0</td>\n",
       "      <td>1</td>\n",
       "      <td>7914</td>\n",
       "      <td>1</td>\n",
       "      <td>1</td>\n",
       "      <td>МТС</td>\n",
       "    </tr>\n",
       "  </tbody>\n",
       "</table>\n",
       "</div>"
      ],
      "text/plain": [
       "                                   uuid                              sub_uuid  \\\n",
       "0  d1030000-d496-48d1-a3f5-05636924ed67  43c1ab76-617c-45f2-b0d6-4fc2336f05ca   \n",
       "1  ea040000-d95e-4ded-aa31-9757c77b87dc  9b93bd74-faab-11e7-9e5e-05658cf45565   \n",
       "2  36230000-3c3e-4a9d-99a6-c44654c6f7e7  63241734-01ce-11e8-9e5e-05658cf45565   \n",
       "3  072b0000-8a74-4fe2-8373-636db16b621c  713ac9a4-b9c6-48cf-8e3a-384d99171333   \n",
       "4  d23d0000-4814-455b-96aa-55eddeba8784  c31983d0-e73c-4081-8430-e6e444982b0f   \n",
       "\n",
       "   Лэндинг         URL Подключение  Юр.лицо  ОСС       msisdn  \\\n",
       "0      933  Амедиатека   mks (478)  МКС ООО  МТС  79112146342   \n",
       "1     1521  Амедиатека   mks (478)  МКС ООО  МТС  79814696460   \n",
       "2     1521  Амедиатека   mks (478)  МКС ООО  МТС  79803438608   \n",
       "3      933  Амедиатека   mks (478)  МКС ООО  МТС  79198598960   \n",
       "4      933  Амедиатека   mks (478)  МКС ООО  МТС  79145218681   \n",
       "\n",
       "          Дата ребилла  Код ошибки  Статус user_code  user_count  \\\n",
       "0  2018-01-30 16:47:37           0       1      7911           1   \n",
       "1  2018-01-22 13:56:34           0       1      7981           1   \n",
       "2  2018-01-25 15:52:14           0       1      7980           1   \n",
       "3  2018-01-23 17:08:20           0       1      7919           1   \n",
       "4  2018-01-18 13:51:42           0       1      7914           1   \n",
       "\n",
       "   rebill_count user_operator  \n",
       "0             1           МТС  \n",
       "1             1           МТС  \n",
       "2             1           МТС  \n",
       "3             1           МТС  \n",
       "4             1           МТС  "
      ]
     },
     "execution_count": 16,
     "metadata": {},
     "output_type": "execute_result"
    }
   ],
   "source": [
    "df_1['user_operator'] = df_1['user_code'].map(user_operator_1)\n",
    "df_1.head()"
   ]
  },
  {
   "cell_type": "code",
   "execution_count": 17,
   "metadata": {},
   "outputs": [
    {
     "data": {
      "text/plain": [
       "МТС            1081864\n",
       "МТС-WIN          28620\n",
       "MEG               8177\n",
       "BEE               6285\n",
       "TELE2             3856\n",
       "MIX_TELECOM       1742\n",
       "YOTA_MEG           203\n",
       "YOTA_TELE2          11\n",
       "MEG_SMART            4\n",
       "Name: user_operator, dtype: int64"
      ]
     },
     "execution_count": 17,
     "metadata": {},
     "output_type": "execute_result"
    }
   ],
   "source": [
    "df_1['user_operator'].value_counts()"
   ]
  },
  {
   "cell_type": "code",
   "execution_count": null,
   "metadata": {
    "collapsed": true
   },
   "outputs": [],
   "source": [
    "Задача 2.\n",
    "Няша, я знаю что тебе плохо и грустно одному в ночь пятницы на субботу и что ты уже извел тонну кофе на ревью этих данных, но\n",
    "- надо разметить ещё две выборки, иначе в понедельник тебе совсем нечего будет им сказать и показать, им ведь будет наплевать\n",
    "на то, что ты психовал из-за Андрюшеньки, который включил против тебя чертово ублюдка оператора или на то, что было нужно\n",
    "время на подумать как именно это данные готовить. Ты с гордым видом спросил босса что делать на выходных - соотвествуй.\n",
    "\n",
    "Подзадача 1.\n",
    "разметить выборку за февраль.\n",
    "Подзадача 2.\n",
    "собрать из двух выборок одну."
   ]
  },
  {
   "cell_type": "code",
   "execution_count": 18,
   "metadata": {
    "collapsed": true
   },
   "outputs": [],
   "source": [
    "df_2 = pd.read_csv('J:/MKS_homework/rebills_2018-02-01_2018-02-28/rebills_2018-02-01_2018-02-28.csv', sep=';', encoding = 'windows-1251')"
   ]
  },
  {
   "cell_type": "code",
   "execution_count": 19,
   "metadata": {},
   "outputs": [
    {
     "name": "stdout",
     "output_type": "stream",
     "text": [
      "<class 'pandas.core.frame.DataFrame'>\n",
      "RangeIndex: 689323 entries, 0 to 689322\n",
      "Data columns (total 11 columns):\n",
      "uuid            689323 non-null object\n",
      "sub_uuid        689323 non-null object\n",
      "Лэндинг         689323 non-null int64\n",
      "URL             689323 non-null object\n",
      "Подключение     689323 non-null object\n",
      "Юр.лицо         689323 non-null object\n",
      "ОСС             689323 non-null object\n",
      "msisdn          689323 non-null int64\n",
      "Дата ребилла    689323 non-null object\n",
      "Код ошибки      689323 non-null int64\n",
      "Статус          689323 non-null int64\n",
      "dtypes: int64(4), object(7)\n",
      "memory usage: 57.9+ MB\n"
     ]
    }
   ],
   "source": [
    "df_2.info()"
   ]
  },
  {
   "cell_type": "code",
   "execution_count": 20,
   "metadata": {},
   "outputs": [
    {
     "data": {
      "text/html": [
       "<div>\n",
       "<style>\n",
       "    .dataframe thead tr:only-child th {\n",
       "        text-align: right;\n",
       "    }\n",
       "\n",
       "    .dataframe thead th {\n",
       "        text-align: left;\n",
       "    }\n",
       "\n",
       "    .dataframe tbody tr th {\n",
       "        vertical-align: top;\n",
       "    }\n",
       "</style>\n",
       "<table border=\"1\" class=\"dataframe\">\n",
       "  <thead>\n",
       "    <tr style=\"text-align: right;\">\n",
       "      <th></th>\n",
       "      <th>uuid</th>\n",
       "      <th>sub_uuid</th>\n",
       "      <th>Лэндинг</th>\n",
       "      <th>URL</th>\n",
       "      <th>Подключение</th>\n",
       "      <th>Юр.лицо</th>\n",
       "      <th>ОСС</th>\n",
       "      <th>msisdn</th>\n",
       "      <th>Дата ребилла</th>\n",
       "      <th>Код ошибки</th>\n",
       "      <th>Статус</th>\n",
       "    </tr>\n",
       "  </thead>\n",
       "  <tbody>\n",
       "    <tr>\n",
       "      <th>0</th>\n",
       "      <td>64100000-2c96-4d29-a6d0-db3ab1cc6f04</td>\n",
       "      <td>0643600c-fb0b-11e7-9e5e-05658cf45565</td>\n",
       "      <td>1521</td>\n",
       "      <td>Амедиатека</td>\n",
       "      <td>mks (478)</td>\n",
       "      <td>МКС ООО</td>\n",
       "      <td>МТС</td>\n",
       "      <td>79882025222</td>\n",
       "      <td>2018-02-13 04:38:08</td>\n",
       "      <td>0</td>\n",
       "      <td>1</td>\n",
       "    </tr>\n",
       "    <tr>\n",
       "      <th>1</th>\n",
       "      <td>37140000-0468-44c5-80a2-20d2fe10ef34</td>\n",
       "      <td>f0f7476c-fc41-11e7-9e5e-05658cf45565</td>\n",
       "      <td>1521</td>\n",
       "      <td>Амедиатека</td>\n",
       "      <td>mks (478)</td>\n",
       "      <td>МКС ООО</td>\n",
       "      <td>МТС</td>\n",
       "      <td>79121488694</td>\n",
       "      <td>2018-02-13 20:39:49</td>\n",
       "      <td>0</td>\n",
       "      <td>1</td>\n",
       "    </tr>\n",
       "    <tr>\n",
       "      <th>2</th>\n",
       "      <td>c32b0000-b4a9-4849-9d32-23935c60195e</td>\n",
       "      <td>eab93620-fb61-11e7-9e5e-05658cf45565</td>\n",
       "      <td>1521</td>\n",
       "      <td>Амедиатека</td>\n",
       "      <td>mks (478)</td>\n",
       "      <td>МКС ООО</td>\n",
       "      <td>МТС</td>\n",
       "      <td>79835665744</td>\n",
       "      <td>2018-02-28 12:19:16</td>\n",
       "      <td>0</td>\n",
       "      <td>1</td>\n",
       "    </tr>\n",
       "    <tr>\n",
       "      <th>3</th>\n",
       "      <td>623a0000-f4cd-499b-8023-4dfba4406a07</td>\n",
       "      <td>05722f9a-1092-11e8-bc66-63668cf45565</td>\n",
       "      <td>1521</td>\n",
       "      <td>Амедиатека</td>\n",
       "      <td>mks (478)</td>\n",
       "      <td>МКС ООО</td>\n",
       "      <td>МТС</td>\n",
       "      <td>79193877488</td>\n",
       "      <td>2018-02-13 10:48:22</td>\n",
       "      <td>102</td>\n",
       "      <td>0</td>\n",
       "    </tr>\n",
       "    <tr>\n",
       "      <th>4</th>\n",
       "      <td>85460000-6828-4b8e-b7fc-f12f90f82e13</td>\n",
       "      <td>33d6c9f6-0514-11e8-8375-185f8cf45565</td>\n",
       "      <td>1521</td>\n",
       "      <td>Амедиатека</td>\n",
       "      <td>mks (478)</td>\n",
       "      <td>МКС ООО</td>\n",
       "      <td>МТС</td>\n",
       "      <td>79874308442</td>\n",
       "      <td>2018-02-28 17:19:41</td>\n",
       "      <td>0</td>\n",
       "      <td>1</td>\n",
       "    </tr>\n",
       "  </tbody>\n",
       "</table>\n",
       "</div>"
      ],
      "text/plain": [
       "                                   uuid                              sub_uuid  \\\n",
       "0  64100000-2c96-4d29-a6d0-db3ab1cc6f04  0643600c-fb0b-11e7-9e5e-05658cf45565   \n",
       "1  37140000-0468-44c5-80a2-20d2fe10ef34  f0f7476c-fc41-11e7-9e5e-05658cf45565   \n",
       "2  c32b0000-b4a9-4849-9d32-23935c60195e  eab93620-fb61-11e7-9e5e-05658cf45565   \n",
       "3  623a0000-f4cd-499b-8023-4dfba4406a07  05722f9a-1092-11e8-bc66-63668cf45565   \n",
       "4  85460000-6828-4b8e-b7fc-f12f90f82e13  33d6c9f6-0514-11e8-8375-185f8cf45565   \n",
       "\n",
       "   Лэндинг         URL Подключение  Юр.лицо  ОСС       msisdn  \\\n",
       "0     1521  Амедиатека   mks (478)  МКС ООО  МТС  79882025222   \n",
       "1     1521  Амедиатека   mks (478)  МКС ООО  МТС  79121488694   \n",
       "2     1521  Амедиатека   mks (478)  МКС ООО  МТС  79835665744   \n",
       "3     1521  Амедиатека   mks (478)  МКС ООО  МТС  79193877488   \n",
       "4     1521  Амедиатека   mks (478)  МКС ООО  МТС  79874308442   \n",
       "\n",
       "          Дата ребилла  Код ошибки  Статус  \n",
       "0  2018-02-13 04:38:08           0       1  \n",
       "1  2018-02-13 20:39:49           0       1  \n",
       "2  2018-02-28 12:19:16           0       1  \n",
       "3  2018-02-13 10:48:22         102       0  \n",
       "4  2018-02-28 17:19:41           0       1  "
      ]
     },
     "execution_count": 20,
     "metadata": {},
     "output_type": "execute_result"
    }
   ],
   "source": [
    "df_2.head()"
   ]
  },
  {
   "cell_type": "code",
   "execution_count": 21,
   "metadata": {
    "collapsed": true
   },
   "outputs": [],
   "source": [
    "df_2['user_code'] = df_2['msisdn'].astype(str)\n",
    "df_2['user_code'] = df_2['user_code'].map(lambda x: str(x)[:-7])"
   ]
  },
  {
   "cell_type": "code",
   "execution_count": 22,
   "metadata": {
    "collapsed": true
   },
   "outputs": [],
   "source": [
    "df_2['user_count'] = df_2['user_code'].astype(bool)\n",
    "df_2['user_count'] = df_2['user_count'].astype('int64')"
   ]
  },
  {
   "cell_type": "code",
   "execution_count": 23,
   "metadata": {
    "collapsed": true
   },
   "outputs": [],
   "source": [
    "df_2['rebill_count'] = df_2['Дата ребилла'].astype(bool)\n",
    "df_2['rebill_count'] = df_2['rebill_count'].astype('int64')"
   ]
  },
  {
   "cell_type": "code",
   "execution_count": 24,
   "metadata": {},
   "outputs": [
    {
     "data": {
      "text/plain": [
       "0      628540\n",
       "102     33491\n",
       "52      18508\n",
       "51       5283\n",
       "356      3030\n",
       "8         448\n",
       "50         15\n",
       "103         5\n",
       "101         2\n",
       "53          1\n",
       "Name: Код ошибки, dtype: int64"
      ]
     },
     "execution_count": 24,
     "metadata": {},
     "output_type": "execute_result"
    }
   ],
   "source": [
    "df_2['Код ошибки'].value_counts()"
   ]
  },
  {
   "cell_type": "code",
   "execution_count": 25,
   "metadata": {},
   "outputs": [
    {
     "data": {
      "text/plain": [
       "1    628540\n",
       "0     60783\n",
       "Name: Статус, dtype: int64"
      ]
     },
     "execution_count": 25,
     "metadata": {},
     "output_type": "execute_result"
    }
   ],
   "source": [
    "df_2['Статус'].value_counts()"
   ]
  },
  {
   "cell_type": "code",
   "execution_count": 26,
   "metadata": {},
   "outputs": [
    {
     "name": "stdout",
     "output_type": "stream",
     "text": [
      "['7900', '7901', '7902', '7903', '7904', '7905', '7906', '7908', '7909', '7910', '7911', '7912', '7913', '7914', '7915', '7916', '7917', '7918', '7919', '7920', '7921', '7922', '7923', '7924', '7925', '7926', '7927', '7928', '7929', '7930', '7931', '7932', '7933', '7937', '7938', '7939', '7950', '7951', '7952', '7953', '7958', '7960', '7961', '7962', '7963', '7964', '7965', '7966', '7967', '7968', '7977', '7978', '7980', '7981', '7982', '7983', '7984', '7985', '7986', '7987', '7988', '7989', '7991', '7992', '7996', '7999']\n"
     ]
    }
   ],
   "source": [
    "user_types_2 = df_2['user_code'].drop_duplicates().values.tolist()\n",
    "user_types_2.sort()\n",
    "print(user_types_2)"
   ]
  },
  {
   "cell_type": "code",
   "execution_count": 27,
   "metadata": {},
   "outputs": [
    {
     "data": {
      "text/plain": [
       "False"
      ]
     },
     "execution_count": 27,
     "metadata": {},
     "output_type": "execute_result"
    }
   ],
   "source": [
    "user_types_1 in user_types_2"
   ]
  },
  {
   "cell_type": "code",
   "execution_count": 28,
   "metadata": {},
   "outputs": [
    {
     "data": {
      "text/plain": [
       "['7969']"
      ]
     },
     "execution_count": 28,
     "metadata": {},
     "output_type": "execute_result"
    }
   ],
   "source": [
    "list(set(user_types_1).difference(user_types_2))"
   ]
  },
  {
   "cell_type": "code",
   "execution_count": 29,
   "metadata": {
    "collapsed": true
   },
   "outputs": [],
   "source": [
    "user_operator_2 = {'7900': \"TELE2\", '7901': \"TELE2\", '7903':'BEE','7904':\"TELE2\",'7905':\"BEE\", '7906': 'BEE','7980':'TELE2',\n",
    "           '709':\"BEE\",'7910':'МТС', '7911':'МТС','7912':'МТС', '7913': \"МТС\", '7914':'МТС','7915':'МТС','7916':'МТС',\n",
    "           '7917':\"МТС\",'7918':'МТС','7919':'МТС','7920':'MEG','7921':'MEG','7922':'MEG','7923':'MEG','7924':'MEG',\n",
    "           '7925':'MEG','7926':'MEG','7927':'MEG','7928':'MEG','7929':'MEG','7930':'MEG','7931':'MEG','7932':'MEG',\n",
    "           '7933':'MEG','7938':'MEG','7939':'MEG_SMART','7950':'TELE2','7951':'TELE2','7952':'TELE2','7953':'TELE2',\n",
    "           '7958':'MIX_TELECOM','7960':'BEE','7961':'BEE','7962':'BEE','7963':'BEE',\"7964\":'BEE','7965':'BEE',\n",
    "           '7966':'BEE','7967':'BEE','7968':'BEE','7977':'TELE2','7978':'МТС-WIN','7980':'МТС',\n",
    "           '7981':'МТС','7982':'МТС','7983':'МТС','7984':'МТС','7985':'МТС','7986':'МТС','7987':'МТС',\n",
    "           '7988':'МТС','7989':'МТС','7996':'YOTA_TELE2','7999':'YOTA_MEG'}"
   ]
  },
  {
   "cell_type": "code",
   "execution_count": 30,
   "metadata": {},
   "outputs": [
    {
     "data": {
      "text/html": [
       "<div>\n",
       "<style>\n",
       "    .dataframe thead tr:only-child th {\n",
       "        text-align: right;\n",
       "    }\n",
       "\n",
       "    .dataframe thead th {\n",
       "        text-align: left;\n",
       "    }\n",
       "\n",
       "    .dataframe tbody tr th {\n",
       "        vertical-align: top;\n",
       "    }\n",
       "</style>\n",
       "<table border=\"1\" class=\"dataframe\">\n",
       "  <thead>\n",
       "    <tr style=\"text-align: right;\">\n",
       "      <th></th>\n",
       "      <th>uuid</th>\n",
       "      <th>sub_uuid</th>\n",
       "      <th>Лэндинг</th>\n",
       "      <th>URL</th>\n",
       "      <th>Подключение</th>\n",
       "      <th>Юр.лицо</th>\n",
       "      <th>ОСС</th>\n",
       "      <th>msisdn</th>\n",
       "      <th>Дата ребилла</th>\n",
       "      <th>Код ошибки</th>\n",
       "      <th>Статус</th>\n",
       "      <th>user_code</th>\n",
       "      <th>user_count</th>\n",
       "      <th>rebill_count</th>\n",
       "      <th>user_operator</th>\n",
       "    </tr>\n",
       "  </thead>\n",
       "  <tbody>\n",
       "    <tr>\n",
       "      <th>0</th>\n",
       "      <td>64100000-2c96-4d29-a6d0-db3ab1cc6f04</td>\n",
       "      <td>0643600c-fb0b-11e7-9e5e-05658cf45565</td>\n",
       "      <td>1521</td>\n",
       "      <td>Амедиатека</td>\n",
       "      <td>mks (478)</td>\n",
       "      <td>МКС ООО</td>\n",
       "      <td>МТС</td>\n",
       "      <td>79882025222</td>\n",
       "      <td>2018-02-13 04:38:08</td>\n",
       "      <td>0</td>\n",
       "      <td>1</td>\n",
       "      <td>7988</td>\n",
       "      <td>1</td>\n",
       "      <td>1</td>\n",
       "      <td>МТС</td>\n",
       "    </tr>\n",
       "    <tr>\n",
       "      <th>1</th>\n",
       "      <td>37140000-0468-44c5-80a2-20d2fe10ef34</td>\n",
       "      <td>f0f7476c-fc41-11e7-9e5e-05658cf45565</td>\n",
       "      <td>1521</td>\n",
       "      <td>Амедиатека</td>\n",
       "      <td>mks (478)</td>\n",
       "      <td>МКС ООО</td>\n",
       "      <td>МТС</td>\n",
       "      <td>79121488694</td>\n",
       "      <td>2018-02-13 20:39:49</td>\n",
       "      <td>0</td>\n",
       "      <td>1</td>\n",
       "      <td>7912</td>\n",
       "      <td>1</td>\n",
       "      <td>1</td>\n",
       "      <td>МТС</td>\n",
       "    </tr>\n",
       "    <tr>\n",
       "      <th>2</th>\n",
       "      <td>c32b0000-b4a9-4849-9d32-23935c60195e</td>\n",
       "      <td>eab93620-fb61-11e7-9e5e-05658cf45565</td>\n",
       "      <td>1521</td>\n",
       "      <td>Амедиатека</td>\n",
       "      <td>mks (478)</td>\n",
       "      <td>МКС ООО</td>\n",
       "      <td>МТС</td>\n",
       "      <td>79835665744</td>\n",
       "      <td>2018-02-28 12:19:16</td>\n",
       "      <td>0</td>\n",
       "      <td>1</td>\n",
       "      <td>7983</td>\n",
       "      <td>1</td>\n",
       "      <td>1</td>\n",
       "      <td>МТС</td>\n",
       "    </tr>\n",
       "    <tr>\n",
       "      <th>3</th>\n",
       "      <td>623a0000-f4cd-499b-8023-4dfba4406a07</td>\n",
       "      <td>05722f9a-1092-11e8-bc66-63668cf45565</td>\n",
       "      <td>1521</td>\n",
       "      <td>Амедиатека</td>\n",
       "      <td>mks (478)</td>\n",
       "      <td>МКС ООО</td>\n",
       "      <td>МТС</td>\n",
       "      <td>79193877488</td>\n",
       "      <td>2018-02-13 10:48:22</td>\n",
       "      <td>102</td>\n",
       "      <td>0</td>\n",
       "      <td>7919</td>\n",
       "      <td>1</td>\n",
       "      <td>1</td>\n",
       "      <td>МТС</td>\n",
       "    </tr>\n",
       "    <tr>\n",
       "      <th>4</th>\n",
       "      <td>85460000-6828-4b8e-b7fc-f12f90f82e13</td>\n",
       "      <td>33d6c9f6-0514-11e8-8375-185f8cf45565</td>\n",
       "      <td>1521</td>\n",
       "      <td>Амедиатека</td>\n",
       "      <td>mks (478)</td>\n",
       "      <td>МКС ООО</td>\n",
       "      <td>МТС</td>\n",
       "      <td>79874308442</td>\n",
       "      <td>2018-02-28 17:19:41</td>\n",
       "      <td>0</td>\n",
       "      <td>1</td>\n",
       "      <td>7987</td>\n",
       "      <td>1</td>\n",
       "      <td>1</td>\n",
       "      <td>МТС</td>\n",
       "    </tr>\n",
       "  </tbody>\n",
       "</table>\n",
       "</div>"
      ],
      "text/plain": [
       "                                   uuid                              sub_uuid  \\\n",
       "0  64100000-2c96-4d29-a6d0-db3ab1cc6f04  0643600c-fb0b-11e7-9e5e-05658cf45565   \n",
       "1  37140000-0468-44c5-80a2-20d2fe10ef34  f0f7476c-fc41-11e7-9e5e-05658cf45565   \n",
       "2  c32b0000-b4a9-4849-9d32-23935c60195e  eab93620-fb61-11e7-9e5e-05658cf45565   \n",
       "3  623a0000-f4cd-499b-8023-4dfba4406a07  05722f9a-1092-11e8-bc66-63668cf45565   \n",
       "4  85460000-6828-4b8e-b7fc-f12f90f82e13  33d6c9f6-0514-11e8-8375-185f8cf45565   \n",
       "\n",
       "   Лэндинг         URL Подключение  Юр.лицо  ОСС       msisdn  \\\n",
       "0     1521  Амедиатека   mks (478)  МКС ООО  МТС  79882025222   \n",
       "1     1521  Амедиатека   mks (478)  МКС ООО  МТС  79121488694   \n",
       "2     1521  Амедиатека   mks (478)  МКС ООО  МТС  79835665744   \n",
       "3     1521  Амедиатека   mks (478)  МКС ООО  МТС  79193877488   \n",
       "4     1521  Амедиатека   mks (478)  МКС ООО  МТС  79874308442   \n",
       "\n",
       "          Дата ребилла  Код ошибки  Статус user_code  user_count  \\\n",
       "0  2018-02-13 04:38:08           0       1      7988           1   \n",
       "1  2018-02-13 20:39:49           0       1      7912           1   \n",
       "2  2018-02-28 12:19:16           0       1      7983           1   \n",
       "3  2018-02-13 10:48:22         102       0      7919           1   \n",
       "4  2018-02-28 17:19:41           0       1      7987           1   \n",
       "\n",
       "   rebill_count user_operator  \n",
       "0             1           МТС  \n",
       "1             1           МТС  \n",
       "2             1           МТС  \n",
       "3             1           МТС  \n",
       "4             1           МТС  "
      ]
     },
     "execution_count": 30,
     "metadata": {},
     "output_type": "execute_result"
    }
   ],
   "source": [
    "df_2['user_operator'] = df_2['user_code'].map(user_operator_2)\n",
    "df_2.head()"
   ]
  },
  {
   "cell_type": "code",
   "execution_count": 32,
   "metadata": {},
   "outputs": [
    {
     "data": {
      "text/plain": [
       "МТС            653689\n",
       "МТС-WIN         20073\n",
       "MEG              5312\n",
       "BEE              3871\n",
       "TELE2            2298\n",
       "MIX_TELECOM      1109\n",
       "YOTA_MEG           93\n",
       "YOTA_TELE2         27\n",
       "MEG_SMART           2\n",
       "Name: user_operator, dtype: int64"
      ]
     },
     "execution_count": 32,
     "metadata": {},
     "output_type": "execute_result"
    }
   ],
   "source": [
    "df_2['user_operator'].value_counts()"
   ]
  },
  {
   "cell_type": "code",
   "execution_count": null,
   "metadata": {
    "collapsed": true
   },
   "outputs": [],
   "source": [
    "Задача 3.\n",
    "Суббота, 18:00 - няша, тебе сегодня нужно заканчивать этот марафон и отдохнуть хотя-бы в воскресенье, иначе в понедельник\n",
    "тебе будут не рады в твоём офисе. Вчера ночью ты выключил консоль и теперь нужно прогрузить всё заново. Соберись и собери\n",
    "всё что уже успел сделать в одну тетрадку, в четрвег вроде были сделаны фильтры - найти. там вроде 3 функции по лэндингам.\n",
    "\n",
    "Подзадача 1.\n",
    "Не забить и сделать.\n",
    "\n",
    "Подзадача 2.\n",
    "Вспомнить куда засунул функции и побить обе выборки по лэндингам.\n",
    "\n",
    "Подзачада 3.\n",
    "Сделать хотя-бы один практический вывод. За тебе его никто не сделает. \n",
    "\n",
    "Подзадача 4.\n",
    "Не трогай пиво и не включай аниме до 12:00 иначе завтра будет ещё хуже.\n",
    "    \n",
    "Подзадача 5.\n",
    "Найти способ посмотреть уникальных пользователей по выборкам и сравнить.\n",
    "\n",
    "Подзадача 6.\n",
    "Выброси из головы проблемы с продуктом, ты не можешь сделать всё в один день за 20 человек.\n",
    "\n",
    "Подзадача 7.\n",
    "Больше никогда не платить денег быдлокодерам скуля, похоже они все одинаковые, наверное это заразно.\n",
    "\n",
    "Подзадача 8.\n",
    "В идеале нужно посмотреть уникальных юзеров по лэндингам и сравнить январь-февраль, чтобы понять где отток. Интересно парни\n",
    "из орбит-софта смогут поправить привлечение если я им в понедельник скажу что один из лэндингов поехал влево по юзерам МТС?"
   ]
  },
  {
   "cell_type": "code",
   "execution_count": 33,
   "metadata": {
    "collapsed": true
   },
   "outputs": [],
   "source": [
    "# давай сразу засейвим размеченные данные.\n",
    "df_3 = pd.concat([df_1, df_2], axis=0)"
   ]
  },
  {
   "cell_type": "code",
   "execution_count": 34,
   "metadata": {},
   "outputs": [
    {
     "name": "stdout",
     "output_type": "stream",
     "text": [
      "<class 'pandas.core.frame.DataFrame'>\n",
      "Int64Index: 1824466 entries, 0 to 689322\n",
      "Data columns (total 15 columns):\n",
      "uuid             object\n",
      "sub_uuid         object\n",
      "Лэндинг          int64\n",
      "URL              object\n",
      "Подключение      object\n",
      "Юр.лицо          object\n",
      "ОСС              object\n",
      "msisdn           int64\n",
      "Дата ребилла     object\n",
      "Код ошибки       int64\n",
      "Статус           int64\n",
      "user_code        object\n",
      "user_count       int64\n",
      "rebill_count     int64\n",
      "user_operator    object\n",
      "dtypes: int64(6), object(9)\n",
      "memory usage: 222.7+ MB\n"
     ]
    }
   ],
   "source": [
    "df_3.info()"
   ]
  },
  {
   "cell_type": "code",
   "execution_count": 35,
   "metadata": {},
   "outputs": [
    {
     "data": {
      "text/html": [
       "<div>\n",
       "<style>\n",
       "    .dataframe thead tr:only-child th {\n",
       "        text-align: right;\n",
       "    }\n",
       "\n",
       "    .dataframe thead th {\n",
       "        text-align: left;\n",
       "    }\n",
       "\n",
       "    .dataframe tbody tr th {\n",
       "        vertical-align: top;\n",
       "    }\n",
       "</style>\n",
       "<table border=\"1\" class=\"dataframe\">\n",
       "  <thead>\n",
       "    <tr style=\"text-align: right;\">\n",
       "      <th></th>\n",
       "      <th>uuid</th>\n",
       "      <th>sub_uuid</th>\n",
       "      <th>Лэндинг</th>\n",
       "      <th>URL</th>\n",
       "      <th>Подключение</th>\n",
       "      <th>Юр.лицо</th>\n",
       "      <th>ОСС</th>\n",
       "      <th>msisdn</th>\n",
       "      <th>Дата ребилла</th>\n",
       "      <th>Код ошибки</th>\n",
       "      <th>Статус</th>\n",
       "      <th>user_code</th>\n",
       "      <th>user_count</th>\n",
       "      <th>rebill_count</th>\n",
       "      <th>user_operator</th>\n",
       "    </tr>\n",
       "  </thead>\n",
       "  <tbody>\n",
       "    <tr>\n",
       "      <th>0</th>\n",
       "      <td>d1030000-d496-48d1-a3f5-05636924ed67</td>\n",
       "      <td>43c1ab76-617c-45f2-b0d6-4fc2336f05ca</td>\n",
       "      <td>933</td>\n",
       "      <td>Амедиатека</td>\n",
       "      <td>mks (478)</td>\n",
       "      <td>МКС ООО</td>\n",
       "      <td>МТС</td>\n",
       "      <td>79112146342</td>\n",
       "      <td>2018-01-30 16:47:37</td>\n",
       "      <td>0</td>\n",
       "      <td>1</td>\n",
       "      <td>7911</td>\n",
       "      <td>1</td>\n",
       "      <td>1</td>\n",
       "      <td>МТС</td>\n",
       "    </tr>\n",
       "    <tr>\n",
       "      <th>1</th>\n",
       "      <td>ea040000-d95e-4ded-aa31-9757c77b87dc</td>\n",
       "      <td>9b93bd74-faab-11e7-9e5e-05658cf45565</td>\n",
       "      <td>1521</td>\n",
       "      <td>Амедиатека</td>\n",
       "      <td>mks (478)</td>\n",
       "      <td>МКС ООО</td>\n",
       "      <td>МТС</td>\n",
       "      <td>79814696460</td>\n",
       "      <td>2018-01-22 13:56:34</td>\n",
       "      <td>0</td>\n",
       "      <td>1</td>\n",
       "      <td>7981</td>\n",
       "      <td>1</td>\n",
       "      <td>1</td>\n",
       "      <td>МТС</td>\n",
       "    </tr>\n",
       "    <tr>\n",
       "      <th>2</th>\n",
       "      <td>36230000-3c3e-4a9d-99a6-c44654c6f7e7</td>\n",
       "      <td>63241734-01ce-11e8-9e5e-05658cf45565</td>\n",
       "      <td>1521</td>\n",
       "      <td>Амедиатека</td>\n",
       "      <td>mks (478)</td>\n",
       "      <td>МКС ООО</td>\n",
       "      <td>МТС</td>\n",
       "      <td>79803438608</td>\n",
       "      <td>2018-01-25 15:52:14</td>\n",
       "      <td>0</td>\n",
       "      <td>1</td>\n",
       "      <td>7980</td>\n",
       "      <td>1</td>\n",
       "      <td>1</td>\n",
       "      <td>МТС</td>\n",
       "    </tr>\n",
       "    <tr>\n",
       "      <th>3</th>\n",
       "      <td>072b0000-8a74-4fe2-8373-636db16b621c</td>\n",
       "      <td>713ac9a4-b9c6-48cf-8e3a-384d99171333</td>\n",
       "      <td>933</td>\n",
       "      <td>Амедиатека</td>\n",
       "      <td>mks (478)</td>\n",
       "      <td>МКС ООО</td>\n",
       "      <td>МТС</td>\n",
       "      <td>79198598960</td>\n",
       "      <td>2018-01-23 17:08:20</td>\n",
       "      <td>0</td>\n",
       "      <td>1</td>\n",
       "      <td>7919</td>\n",
       "      <td>1</td>\n",
       "      <td>1</td>\n",
       "      <td>МТС</td>\n",
       "    </tr>\n",
       "    <tr>\n",
       "      <th>4</th>\n",
       "      <td>d23d0000-4814-455b-96aa-55eddeba8784</td>\n",
       "      <td>c31983d0-e73c-4081-8430-e6e444982b0f</td>\n",
       "      <td>933</td>\n",
       "      <td>Амедиатека</td>\n",
       "      <td>mks (478)</td>\n",
       "      <td>МКС ООО</td>\n",
       "      <td>МТС</td>\n",
       "      <td>79145218681</td>\n",
       "      <td>2018-01-18 13:51:42</td>\n",
       "      <td>0</td>\n",
       "      <td>1</td>\n",
       "      <td>7914</td>\n",
       "      <td>1</td>\n",
       "      <td>1</td>\n",
       "      <td>МТС</td>\n",
       "    </tr>\n",
       "  </tbody>\n",
       "</table>\n",
       "</div>"
      ],
      "text/plain": [
       "                                   uuid                              sub_uuid  \\\n",
       "0  d1030000-d496-48d1-a3f5-05636924ed67  43c1ab76-617c-45f2-b0d6-4fc2336f05ca   \n",
       "1  ea040000-d95e-4ded-aa31-9757c77b87dc  9b93bd74-faab-11e7-9e5e-05658cf45565   \n",
       "2  36230000-3c3e-4a9d-99a6-c44654c6f7e7  63241734-01ce-11e8-9e5e-05658cf45565   \n",
       "3  072b0000-8a74-4fe2-8373-636db16b621c  713ac9a4-b9c6-48cf-8e3a-384d99171333   \n",
       "4  d23d0000-4814-455b-96aa-55eddeba8784  c31983d0-e73c-4081-8430-e6e444982b0f   \n",
       "\n",
       "   Лэндинг         URL Подключение  Юр.лицо  ОСС       msisdn  \\\n",
       "0      933  Амедиатека   mks (478)  МКС ООО  МТС  79112146342   \n",
       "1     1521  Амедиатека   mks (478)  МКС ООО  МТС  79814696460   \n",
       "2     1521  Амедиатека   mks (478)  МКС ООО  МТС  79803438608   \n",
       "3      933  Амедиатека   mks (478)  МКС ООО  МТС  79198598960   \n",
       "4      933  Амедиатека   mks (478)  МКС ООО  МТС  79145218681   \n",
       "\n",
       "          Дата ребилла  Код ошибки  Статус user_code  user_count  \\\n",
       "0  2018-01-30 16:47:37           0       1      7911           1   \n",
       "1  2018-01-22 13:56:34           0       1      7981           1   \n",
       "2  2018-01-25 15:52:14           0       1      7980           1   \n",
       "3  2018-01-23 17:08:20           0       1      7919           1   \n",
       "4  2018-01-18 13:51:42           0       1      7914           1   \n",
       "\n",
       "   rebill_count user_operator  \n",
       "0             1           МТС  \n",
       "1             1           МТС  \n",
       "2             1           МТС  \n",
       "3             1           МТС  \n",
       "4             1           МТС  "
      ]
     },
     "execution_count": 35,
     "metadata": {},
     "output_type": "execute_result"
    }
   ],
   "source": [
    "df_3.head()"
   ]
  },
  {
   "cell_type": "code",
   "execution_count": 36,
   "metadata": {},
   "outputs": [
    {
     "name": "stdout",
     "output_type": "stream",
     "text": [
      "uuid\n",
      "1824466\n",
      "----------\n",
      "sub_uuid\n",
      "371628\n",
      "----------\n",
      "Лэндинг\n",
      "11\n",
      "----------\n",
      "URL\n",
      "1 [('Амедиатека', 689323)]\n",
      "----------\n",
      "Подключение\n",
      "1 [('mks (478)', 689323)]\n",
      "----------\n",
      "Юр.лицо\n",
      "1 [('МКС ООО', 689323)]\n",
      "----------\n",
      "ОСС\n",
      "1 [('МТС', 689323)]\n",
      "----------\n",
      "msisdn\n",
      "181237\n",
      "----------\n",
      "Дата ребилла\n",
      "855021\n",
      "----------\n",
      "Код ошибки\n",
      "11\n",
      "----------\n",
      "Статус\n",
      "2 [(0, 60783), (1, 628540)]\n",
      "----------\n",
      "user_code\n",
      "67\n",
      "----------\n",
      "user_count\n",
      "1 [(1, 689323)]\n",
      "----------\n",
      "rebill_count\n",
      "1 [(1, 689323)]\n",
      "----------\n",
      "user_operator\n",
      "9\n",
      "----------\n"
     ]
    }
   ],
   "source": [
    "for c in df_3.columns:\n",
    "    n = df_3[c].nunique()\n",
    "    print(c)\n",
    "    \n",
    "    if n <= 3:\n",
    "        print(n, sorted(df_2[c].value_counts().to_dict().items()))\n",
    "    else:\n",
    "        print(n)\n",
    "    print(10 * '-')"
   ]
  },
  {
   "cell_type": "code",
   "execution_count": null,
   "metadata": {
    "collapsed": true
   },
   "outputs": [],
   "source": [
    "Поня_Хаоса размечает выборку по лэндингам. \n",
    "Интересно как сказать коллегам на работе, что я не люблю когда меня зовут по имени? Никогда не нравилось. "
   ]
  },
  {
   "cell_type": "code",
   "execution_count": 37,
   "metadata": {},
   "outputs": [
    {
     "name": "stdout",
     "output_type": "stream",
     "text": [
      "[933, 1012, 1013, 1096, 1097, 1119, 1120, 1121, 1411, 1412, 1521]\n"
     ]
    }
   ],
   "source": [
    "Land_types_1 = df_1['Лэндинг'].drop_duplicates().values.tolist()\n",
    "Land_types_1.sort()\n",
    "print(Land_types_1)"
   ]
  },
  {
   "cell_type": "code",
   "execution_count": 38,
   "metadata": {},
   "outputs": [
    {
     "name": "stdout",
     "output_type": "stream",
     "text": [
      "[933, 1012, 1013, 1096, 1097, 1120, 1121, 1411, 1412, 1521]\n"
     ]
    }
   ],
   "source": [
    "Land_types_2 = df_2['Лэндинг'].drop_duplicates().values.tolist()\n",
    "Land_types_2.sort()\n",
    "print(Land_types_2)"
   ]
  },
  {
   "cell_type": "code",
   "execution_count": 39,
   "metadata": {},
   "outputs": [
    {
     "data": {
      "text/plain": [
       "[1119]"
      ]
     },
     "execution_count": 39,
     "metadata": {},
     "output_type": "execute_result"
    }
   ],
   "source": [
    "list(set(Land_types_1).difference(Land_types_2))"
   ]
  },
  {
   "cell_type": "code",
   "execution_count": 41,
   "metadata": {
    "collapsed": true
   },
   "outputs": [],
   "source": [
    "# разметим выборка за январь по лэндингам.\n",
    "Land_1521_1 = df_1[df_1['Лэндинг'] ==1521]\n",
    "Land_933_1 = df_1[df_1['Лэндинг'] == 933]\n",
    "Land_1412_1 = df_1[df_1['Лэндинг'] == 1412]\n",
    "Land_1013_1 = df_1[df_1['Лэндинг'] == 1013]\n",
    "Land_1411_1 = df_1[df_1['Лэндинг'] == 1411]\n",
    "Land_1097_1 = df_1[df_1['Лэндинг'] == 1097]\n",
    "Land_1121_1 = df_1[df_1['Лэндинг'] == 1121]\n",
    "Land_1120_1 = df_1[df_1['Лэндинг'] == 1120]\n",
    "Land_1012_1 = df_1[df_1['Лэндинг'] == 1012]\n",
    "Land_1096_1 = df_1[df_1['Лэндинг'] == 1096]\n",
    "Land_1119_1 = df_1[df_1['Лэндинг'] == 1119]"
   ]
  },
  {
   "cell_type": "code",
   "execution_count": 42,
   "metadata": {
    "collapsed": true
   },
   "outputs": [],
   "source": [
    "# разметим выборку за февраль по лэндингам\n",
    "Land_1521_2 = df_2[df_2['Лэндинг'] ==1521]\n",
    "Land_933_2 = df_2[df_2['Лэндинг'] == 933]\n",
    "Land_1412_2 = df_2[df_2['Лэндинг'] == 1412]\n",
    "Land_1013_2 = df_2[df_2['Лэндинг'] == 1013]\n",
    "Land_1411_2 = df_2[df_2['Лэндинг'] == 1411]\n",
    "Land_1097_2 = df_2[df_2['Лэндинг'] == 1097]\n",
    "Land_1121_2 = df_2[df_2['Лэндинг'] == 1121]\n",
    "Land_1120_2 = df_2[df_2['Лэндинг'] == 1120]\n",
    "Land_1012_2 = df_2[df_2['Лэндинг'] == 1012]\n",
    "Land_1096_2 = df_2[df_2['Лэндинг'] == 1096]"
   ]
  },
  {
   "cell_type": "code",
   "execution_count": 166,
   "metadata": {
    "collapsed": true
   },
   "outputs": [],
   "source": [
    "# разметим выборку за февраль по лэндингам\n",
    "Land_1521_3 = df_3[df_3['Лэндинг'] ==1521]\n",
    "Land_933_3 = df_3[df_3['Лэндинг'] == 933]\n",
    "Land_1412_3 = df_3[df_3['Лэндинг'] == 1412]\n",
    "Land_1013_3 = df_3[df_3['Лэндинг'] == 1013]\n",
    "Land_1411_3 = df_3[df_3['Лэндинг'] == 1411]\n",
    "Land_1097_3 = df_3[df_3['Лэндинг'] == 1097]\n",
    "Land_1121_3 = df_3[df_3['Лэндинг'] == 1121]\n",
    "Land_1120_3 = df_3[df_3['Лэндинг'] == 1120]\n",
    "Land_1012_3 = df_3[df_3['Лэндинг'] == 1012]\n",
    "Land_1096_3 = df_3[df_3['Лэндинг'] == 1096]\n",
    "Land_1119_3 = df_3[df_3['Лэндинг'] == 1119]"
   ]
  },
  {
   "cell_type": "code",
   "execution_count": 44,
   "metadata": {},
   "outputs": [
    {
     "data": {
      "text/html": [
       "<div>\n",
       "<style>\n",
       "    .dataframe thead tr:only-child th {\n",
       "        text-align: right;\n",
       "    }\n",
       "\n",
       "    .dataframe thead th {\n",
       "        text-align: left;\n",
       "    }\n",
       "\n",
       "    .dataframe tbody tr th {\n",
       "        vertical-align: top;\n",
       "    }\n",
       "</style>\n",
       "<table border=\"1\" class=\"dataframe\">\n",
       "  <thead>\n",
       "    <tr style=\"text-align: right;\">\n",
       "      <th></th>\n",
       "      <th>Лэндинг</th>\n",
       "      <th>msisdn</th>\n",
       "      <th>Код ошибки</th>\n",
       "      <th>Статус</th>\n",
       "      <th>user_count</th>\n",
       "      <th>rebill_count</th>\n",
       "    </tr>\n",
       "  </thead>\n",
       "  <tbody>\n",
       "    <tr>\n",
       "      <th>count</th>\n",
       "      <td>1.0</td>\n",
       "      <td>1.000000e+00</td>\n",
       "      <td>1.0</td>\n",
       "      <td>1.0</td>\n",
       "      <td>1.0</td>\n",
       "      <td>1.0</td>\n",
       "    </tr>\n",
       "    <tr>\n",
       "      <th>mean</th>\n",
       "      <td>1119.0</td>\n",
       "      <td>7.916510e+10</td>\n",
       "      <td>0.0</td>\n",
       "      <td>1.0</td>\n",
       "      <td>1.0</td>\n",
       "      <td>1.0</td>\n",
       "    </tr>\n",
       "    <tr>\n",
       "      <th>std</th>\n",
       "      <td>NaN</td>\n",
       "      <td>NaN</td>\n",
       "      <td>NaN</td>\n",
       "      <td>NaN</td>\n",
       "      <td>NaN</td>\n",
       "      <td>NaN</td>\n",
       "    </tr>\n",
       "    <tr>\n",
       "      <th>min</th>\n",
       "      <td>1119.0</td>\n",
       "      <td>7.916510e+10</td>\n",
       "      <td>0.0</td>\n",
       "      <td>1.0</td>\n",
       "      <td>1.0</td>\n",
       "      <td>1.0</td>\n",
       "    </tr>\n",
       "    <tr>\n",
       "      <th>25%</th>\n",
       "      <td>1119.0</td>\n",
       "      <td>7.916510e+10</td>\n",
       "      <td>0.0</td>\n",
       "      <td>1.0</td>\n",
       "      <td>1.0</td>\n",
       "      <td>1.0</td>\n",
       "    </tr>\n",
       "    <tr>\n",
       "      <th>50%</th>\n",
       "      <td>1119.0</td>\n",
       "      <td>7.916510e+10</td>\n",
       "      <td>0.0</td>\n",
       "      <td>1.0</td>\n",
       "      <td>1.0</td>\n",
       "      <td>1.0</td>\n",
       "    </tr>\n",
       "    <tr>\n",
       "      <th>75%</th>\n",
       "      <td>1119.0</td>\n",
       "      <td>7.916510e+10</td>\n",
       "      <td>0.0</td>\n",
       "      <td>1.0</td>\n",
       "      <td>1.0</td>\n",
       "      <td>1.0</td>\n",
       "    </tr>\n",
       "    <tr>\n",
       "      <th>max</th>\n",
       "      <td>1119.0</td>\n",
       "      <td>7.916510e+10</td>\n",
       "      <td>0.0</td>\n",
       "      <td>1.0</td>\n",
       "      <td>1.0</td>\n",
       "      <td>1.0</td>\n",
       "    </tr>\n",
       "  </tbody>\n",
       "</table>\n",
       "</div>"
      ],
      "text/plain": [
       "       Лэндинг        msisdn  Код ошибки  Статус  user_count  rebill_count\n",
       "count      1.0  1.000000e+00         1.0     1.0         1.0           1.0\n",
       "mean    1119.0  7.916510e+10         0.0     1.0         1.0           1.0\n",
       "std        NaN           NaN         NaN     NaN         NaN           NaN\n",
       "min     1119.0  7.916510e+10         0.0     1.0         1.0           1.0\n",
       "25%     1119.0  7.916510e+10         0.0     1.0         1.0           1.0\n",
       "50%     1119.0  7.916510e+10         0.0     1.0         1.0           1.0\n",
       "75%     1119.0  7.916510e+10         0.0     1.0         1.0           1.0\n",
       "max     1119.0  7.916510e+10         0.0     1.0         1.0           1.0"
      ]
     },
     "execution_count": 44,
     "metadata": {},
     "output_type": "execute_result"
    }
   ],
   "source": [
    "# один лэндинг за месяц отвалился, что в нём?\n",
    "Land_1119_1.describe()"
   ]
  },
  {
   "cell_type": "code",
   "execution_count": 69,
   "metadata": {},
   "outputs": [
    {
     "data": {
      "text/html": [
       "<div>\n",
       "<style>\n",
       "    .dataframe thead tr:only-child th {\n",
       "        text-align: right;\n",
       "    }\n",
       "\n",
       "    .dataframe thead th {\n",
       "        text-align: left;\n",
       "    }\n",
       "\n",
       "    .dataframe tbody tr th {\n",
       "        vertical-align: top;\n",
       "    }\n",
       "</style>\n",
       "<table border=\"1\" class=\"dataframe\">\n",
       "  <thead>\n",
       "    <tr style=\"text-align: right;\">\n",
       "      <th></th>\n",
       "      <th>uuid</th>\n",
       "      <th>sub_uuid</th>\n",
       "      <th>Лэндинг</th>\n",
       "      <th>URL</th>\n",
       "      <th>Подключение</th>\n",
       "      <th>Юр.лицо</th>\n",
       "      <th>ОСС</th>\n",
       "      <th>msisdn</th>\n",
       "      <th>Дата ребилла</th>\n",
       "      <th>Код ошибки</th>\n",
       "      <th>Статус</th>\n",
       "      <th>user_code</th>\n",
       "      <th>user_count</th>\n",
       "      <th>rebill_count</th>\n",
       "      <th>user_operator</th>\n",
       "    </tr>\n",
       "  </thead>\n",
       "  <tbody>\n",
       "    <tr>\n",
       "      <th>38944</th>\n",
       "      <td>9738ec08-d49e-426e-a44f-08ab894487ac</td>\n",
       "      <td>40de6eb8-d1da-41bb-b779-e69976079c0b</td>\n",
       "      <td>933</td>\n",
       "      <td>Амедиатека</td>\n",
       "      <td>mks (478)</td>\n",
       "      <td>МКС ООО</td>\n",
       "      <td>МТС</td>\n",
       "      <td>79696575817</td>\n",
       "      <td>2018-01-17 17:36:09</td>\n",
       "      <td>0</td>\n",
       "      <td>1</td>\n",
       "      <td>7969</td>\n",
       "      <td>1</td>\n",
       "      <td>1</td>\n",
       "      <td>BEE</td>\n",
       "    </tr>\n",
       "    <tr>\n",
       "      <th>112953</th>\n",
       "      <td>9a13a619-1e59-4c99-9b79-abda64cb9973</td>\n",
       "      <td>5f681f08-fa9b-11e7-9e5e-05658cf45565</td>\n",
       "      <td>1521</td>\n",
       "      <td>Амедиатека</td>\n",
       "      <td>mks (478)</td>\n",
       "      <td>МКС ООО</td>\n",
       "      <td>МТС</td>\n",
       "      <td>79696575817</td>\n",
       "      <td>2018-01-17 12:01:27</td>\n",
       "      <td>0</td>\n",
       "      <td>1</td>\n",
       "      <td>7969</td>\n",
       "      <td>1</td>\n",
       "      <td>1</td>\n",
       "      <td>BEE</td>\n",
       "    </tr>\n",
       "    <tr>\n",
       "      <th>177021</th>\n",
       "      <td>697c1828-ce3c-4a52-97ae-b76321e8d2f3</td>\n",
       "      <td>5f681f08-fa9b-11e7-9e5e-05658cf45565</td>\n",
       "      <td>1521</td>\n",
       "      <td>Амедиатека</td>\n",
       "      <td>mks (478)</td>\n",
       "      <td>МКС ООО</td>\n",
       "      <td>МТС</td>\n",
       "      <td>79696575817</td>\n",
       "      <td>2018-01-18 12:01:16</td>\n",
       "      <td>0</td>\n",
       "      <td>1</td>\n",
       "      <td>7969</td>\n",
       "      <td>1</td>\n",
       "      <td>1</td>\n",
       "      <td>BEE</td>\n",
       "    </tr>\n",
       "    <tr>\n",
       "      <th>180643</th>\n",
       "      <td>0376eb28-cb13-4601-9008-e06f590661a1</td>\n",
       "      <td>0c5f709f-673e-4c2e-8eab-b5f4661342e1</td>\n",
       "      <td>933</td>\n",
       "      <td>Амедиатека</td>\n",
       "      <td>mks (478)</td>\n",
       "      <td>МКС ООО</td>\n",
       "      <td>МТС</td>\n",
       "      <td>79696575817</td>\n",
       "      <td>2018-01-21 18:06:33</td>\n",
       "      <td>0</td>\n",
       "      <td>1</td>\n",
       "      <td>7969</td>\n",
       "      <td>1</td>\n",
       "      <td>1</td>\n",
       "      <td>BEE</td>\n",
       "    </tr>\n",
       "    <tr>\n",
       "      <th>192133</th>\n",
       "      <td>b8bb7f2b-14f8-442b-9182-4c69338cd7a1</td>\n",
       "      <td>0c5f709f-673e-4c2e-8eab-b5f4661342e1</td>\n",
       "      <td>933</td>\n",
       "      <td>Амедиатека</td>\n",
       "      <td>mks (478)</td>\n",
       "      <td>МКС ООО</td>\n",
       "      <td>МТС</td>\n",
       "      <td>79696575817</td>\n",
       "      <td>2018-01-29 18:12:09</td>\n",
       "      <td>0</td>\n",
       "      <td>1</td>\n",
       "      <td>7969</td>\n",
       "      <td>1</td>\n",
       "      <td>1</td>\n",
       "      <td>BEE</td>\n",
       "    </tr>\n",
       "  </tbody>\n",
       "</table>\n",
       "</div>"
      ],
      "text/plain": [
       "                                        uuid  \\\n",
       "38944   9738ec08-d49e-426e-a44f-08ab894487ac   \n",
       "112953  9a13a619-1e59-4c99-9b79-abda64cb9973   \n",
       "177021  697c1828-ce3c-4a52-97ae-b76321e8d2f3   \n",
       "180643  0376eb28-cb13-4601-9008-e06f590661a1   \n",
       "192133  b8bb7f2b-14f8-442b-9182-4c69338cd7a1   \n",
       "\n",
       "                                    sub_uuid  Лэндинг         URL Подключение  \\\n",
       "38944   40de6eb8-d1da-41bb-b779-e69976079c0b      933  Амедиатека   mks (478)   \n",
       "112953  5f681f08-fa9b-11e7-9e5e-05658cf45565     1521  Амедиатека   mks (478)   \n",
       "177021  5f681f08-fa9b-11e7-9e5e-05658cf45565     1521  Амедиатека   mks (478)   \n",
       "180643  0c5f709f-673e-4c2e-8eab-b5f4661342e1      933  Амедиатека   mks (478)   \n",
       "192133  0c5f709f-673e-4c2e-8eab-b5f4661342e1      933  Амедиатека   mks (478)   \n",
       "\n",
       "        Юр.лицо  ОСС       msisdn         Дата ребилла  Код ошибки  Статус  \\\n",
       "38944   МКС ООО  МТС  79696575817  2018-01-17 17:36:09           0       1   \n",
       "112953  МКС ООО  МТС  79696575817  2018-01-17 12:01:27           0       1   \n",
       "177021  МКС ООО  МТС  79696575817  2018-01-18 12:01:16           0       1   \n",
       "180643  МКС ООО  МТС  79696575817  2018-01-21 18:06:33           0       1   \n",
       "192133  МКС ООО  МТС  79696575817  2018-01-29 18:12:09           0       1   \n",
       "\n",
       "       user_code  user_count  rebill_count user_operator  \n",
       "38944       7969           1             1           BEE  \n",
       "112953      7969           1             1           BEE  \n",
       "177021      7969           1             1           BEE  \n",
       "180643      7969           1             1           BEE  \n",
       "192133      7969           1             1           BEE  "
      ]
     },
     "execution_count": 69,
     "metadata": {},
     "output_type": "execute_result"
    }
   ],
   "source": [
    "# понятно, а что там с 7969 который отвалился в феврале?\n",
    "missed_7969 = df_1.loc[df_1['user_code'] == '7969']\n",
    "missed_7969.head()"
   ]
  },
  {
   "cell_type": "code",
   "execution_count": 65,
   "metadata": {},
   "outputs": [
    {
     "data": {
      "text/plain": [
       "17"
      ]
     },
     "execution_count": 65,
     "metadata": {},
     "output_type": "execute_result"
    }
   ],
   "source": [
    "# 17 юзеров - забыть и простить.\n",
    "len(missed_7969)"
   ]
  },
  {
   "cell_type": "code",
   "execution_count": 68,
   "metadata": {},
   "outputs": [
    {
     "data": {
      "text/plain": [
       "0     16\n",
       "52     1\n",
       "Name: Код ошибки, dtype: int64"
      ]
     },
     "execution_count": 68,
     "metadata": {},
     "output_type": "execute_result"
    }
   ],
   "source": [
    "# если нужно больше информции, сделай: print(df_1.loc[df_1['user_code'] == '7969'])\n",
    "missed_7969['Код ошибки'].value_counts()"
   ]
  },
  {
   "cell_type": "code",
   "execution_count": null,
   "metadata": {
    "collapsed": true
   },
   "outputs": [],
   "source": [
    "Сводка №1. Частота ошибок по Лэндингам."
   ]
  },
  {
   "cell_type": "code",
   "execution_count": 180,
   "metadata": {
    "collapsed": true
   },
   "outputs": [],
   "source": [
    "# адов велосипед,но работает, возвращает частоту ошибок по лэндингам за январь по df_1, февраль по df_2 и в сумме по df_3\n",
    "# надо будет потом, совсем потом, после 14ого тёмного крестового похода и захвата Терры - сделать экранирование вывода '\\n'\n",
    "def error_frequency(x,y,z):\n",
    "    return 'Частота_ошибок_январь_______________________________________',x['Код ошибки'].value_counts(normalize=True), 'Частота_ошибок_февраль__________' ,y['Код ошибки'].value_counts(normalize=True),'Частота_ошибок_всего____________',z['Код ошибки'].value_counts(normalize=True)"
   ]
  },
  {
   "cell_type": "code",
   "execution_count": 181,
   "metadata": {},
   "outputs": [
    {
     "data": {
      "text/plain": [
       "('Частота_ошибок_январь_______________________________________',\n",
       " 0       0.894048\n",
       " 102     0.081851\n",
       " 52      0.016061\n",
       " 356     0.003872\n",
       " 51      0.003756\n",
       " 8       0.000380\n",
       " 50      0.000028\n",
       " 1001    0.000002\n",
       " 101     0.000002\n",
       " Name: Код ошибки, dtype: float64,\n",
       " 'Частота_ошибок_февраль__________',\n",
       " 0      0.883447\n",
       " 102    0.073078\n",
       " 52     0.027650\n",
       " 51     0.007426\n",
       " 356    0.007394\n",
       " 8      0.000955\n",
       " 50     0.000034\n",
       " 103    0.000012\n",
       " 53     0.000002\n",
       " Name: Код ошибки, dtype: float64,\n",
       " 'Частота_ошибок_всего____________',\n",
       " 0       0.889436\n",
       " 102     0.078035\n",
       " 52      0.021103\n",
       " 356     0.005404\n",
       " 51      0.005353\n",
       " 8       0.000630\n",
       " 50      0.000031\n",
       " 103     0.000005\n",
       " 1001    0.000001\n",
       " 101     0.000001\n",
       " 53      0.000001\n",
       " Name: Код ошибки, dtype: float64)"
      ]
     },
     "execution_count": 181,
     "metadata": {},
     "output_type": "execute_result"
    }
   ],
   "source": [
    "Land_1521_EF = error_frequency(Land_1521_1,Land_1521_2,Land_1521_3)\n",
    "Land_1521_EF"
   ]
  },
  {
   "cell_type": "code",
   "execution_count": 183,
   "metadata": {},
   "outputs": [
    {
     "data": {
      "text/plain": [
       "('Частота_ошибок_январь_______________________________________',\n",
       " 0       0.932656\n",
       " 102     0.033494\n",
       " 52      0.025417\n",
       " 51      0.007562\n",
       " 356     0.000681\n",
       " 8       0.000177\n",
       " 50      0.000008\n",
       " 1001    0.000002\n",
       " 103     0.000002\n",
       " 53      0.000002\n",
       " Name: Код ошибки, dtype: float64,\n",
       " 'Частота_ошибок_февраль__________',\n",
       " 0      0.952933\n",
       " 52     0.025569\n",
       " 102    0.013242\n",
       " 51     0.007972\n",
       " 8      0.000211\n",
       " 356    0.000062\n",
       " 101    0.000007\n",
       " 50     0.000004\n",
       " Name: Код ошибки, dtype: float64,\n",
       " 'Частота_ошибок_всего____________',\n",
       " 0       0.939080\n",
       " 102     0.027077\n",
       " 52      0.025465\n",
       " 51      0.007692\n",
       " 356     0.000485\n",
       " 8       0.000188\n",
       " 50      0.000007\n",
       " 101     0.000002\n",
       " 1001    0.000001\n",
       " 103     0.000001\n",
       " 53      0.000001\n",
       " Name: Код ошибки, dtype: float64)"
      ]
     },
     "execution_count": 183,
     "metadata": {},
     "output_type": "execute_result"
    }
   ],
   "source": [
    "Land_933_EF = error_frequency(Land_933_1,Land_933_2,Land_933_3)\n",
    "Land_933_EF"
   ]
  },
  {
   "cell_type": "code",
   "execution_count": 184,
   "metadata": {},
   "outputs": [
    {
     "data": {
      "text/plain": [
       "('Частота_ошибок_январь_______________________________________',\n",
       " 0      0.821730\n",
       " 52     0.091246\n",
       " 102    0.052042\n",
       " 51     0.034206\n",
       " 8      0.000431\n",
       " 50     0.000172\n",
       " 103    0.000086\n",
       " 356    0.000086\n",
       " Name: Код ошибки, dtype: float64,\n",
       " 'Частота_ошибок_февраль__________',\n",
       " 0      0.935362\n",
       " 52     0.038351\n",
       " 102    0.014404\n",
       " 51     0.011703\n",
       " 356    0.000180\n",
       " Name: Код ошибки, dtype: float64,\n",
       " 'Частота_ошибок_всего____________',\n",
       " 0      0.858508\n",
       " 52     0.074126\n",
       " 102    0.039860\n",
       " 51     0.026923\n",
       " 8      0.000291\n",
       " 356    0.000117\n",
       " 50     0.000117\n",
       " 103    0.000058\n",
       " Name: Код ошибки, dtype: float64)"
      ]
     },
     "execution_count": 184,
     "metadata": {},
     "output_type": "execute_result"
    }
   ],
   "source": [
    "Land_1412_EF = error_frequency(Land_1412_1,Land_1412_2,Land_1412_3)\n",
    "Land_1412_EF"
   ]
  },
  {
   "cell_type": "code",
   "execution_count": 185,
   "metadata": {},
   "outputs": [
    {
     "data": {
      "text/plain": [
       "('Частота_ошибок_январь_______________________________________',\n",
       " 0      0.986772\n",
       " 52     0.009700\n",
       " 51     0.002646\n",
       " 102    0.000882\n",
       " Name: Код ошибки, dtype: float64,\n",
       " 'Частота_ошибок_февраль__________',\n",
       " 0      0.990453\n",
       " 52     0.005967\n",
       " 51     0.002387\n",
       " 102    0.001193\n",
       " Name: Код ошибки, dtype: float64,\n",
       " 'Частота_ошибок_всего____________',\n",
       " 0      0.988337\n",
       " 52     0.008114\n",
       " 51     0.002535\n",
       " 102    0.001014\n",
       " Name: Код ошибки, dtype: float64)"
      ]
     },
     "execution_count": 185,
     "metadata": {},
     "output_type": "execute_result"
    }
   ],
   "source": [
    "Land_1013_EF = error_frequency(Land_1013_1,Land_1013_2,Land_1013_3)\n",
    "Land_1013_EF"
   ]
  },
  {
   "cell_type": "code",
   "execution_count": 186,
   "metadata": {},
   "outputs": [
    {
     "data": {
      "text/plain": [
       "('Частота_ошибок_январь_______________________________________',\n",
       " 0      0.976059\n",
       " 52     0.016575\n",
       " 102    0.003683\n",
       " 51     0.003683\n",
       " Name: Код ошибки, dtype: float64,\n",
       " 'Частота_ошибок_февраль__________',\n",
       " 0      0.987864\n",
       " 102    0.006068\n",
       " 52     0.004854\n",
       " 8      0.001214\n",
       " Name: Код ошибки, dtype: float64,\n",
       " 'Частота_ошибок_всего____________',\n",
       " 0      0.981152\n",
       " 52     0.011518\n",
       " 102    0.004712\n",
       " 51     0.002094\n",
       " 8      0.000524\n",
       " Name: Код ошибки, dtype: float64)"
      ]
     },
     "execution_count": 186,
     "metadata": {},
     "output_type": "execute_result"
    }
   ],
   "source": [
    "Land_1411_EF = error_frequency(Land_1411_1,Land_1411_2,Land_1411_3)\n",
    "Land_1411_EF"
   ]
  },
  {
   "cell_type": "code",
   "execution_count": 187,
   "metadata": {},
   "outputs": [
    {
     "data": {
      "text/plain": [
       "('Частота_ошибок_январь_______________________________________',\n",
       " 0      0.982249\n",
       " 102    0.011834\n",
       " 52     0.005917\n",
       " Name: Код ошибки, dtype: float64,\n",
       " 'Частота_ошибок_февраль__________',\n",
       " 0      0.965517\n",
       " 52     0.017241\n",
       " 102    0.008621\n",
       " 51     0.008621\n",
       " Name: Код ошибки, dtype: float64,\n",
       " 'Частота_ошибок_всего____________',\n",
       " 0      0.975439\n",
       " 102    0.010526\n",
       " 52     0.010526\n",
       " 51     0.003509\n",
       " Name: Код ошибки, dtype: float64)"
      ]
     },
     "execution_count": 187,
     "metadata": {},
     "output_type": "execute_result"
    }
   ],
   "source": [
    "Land_1097_EF = error_frequency(Land_1097_1,Land_1097_2,Land_1097_3)\n",
    "Land_1097_EF"
   ]
  },
  {
   "cell_type": "code",
   "execution_count": 188,
   "metadata": {},
   "outputs": [
    {
     "data": {
      "text/plain": [
       "('Частота_ошибок_январь_______________________________________', 0    1.0\n",
       " Name: Код ошибки, dtype: float64, 'Частота_ошибок_февраль__________', 0    1.0\n",
       " Name: Код ошибки, dtype: float64, 'Частота_ошибок_всего____________', 0    1.0\n",
       " Name: Код ошибки, dtype: float64)"
      ]
     },
     "execution_count": 188,
     "metadata": {},
     "output_type": "execute_result"
    }
   ],
   "source": [
    "Land_1121_EF = error_frequency(Land_1121_1,Land_1121_2,Land_1121_3)\n",
    "Land_1121_EF"
   ]
  },
  {
   "cell_type": "code",
   "execution_count": 189,
   "metadata": {},
   "outputs": [
    {
     "data": {
      "text/plain": [
       "('Частота_ошибок_январь_______________________________________', 0    1.0\n",
       " Name: Код ошибки, dtype: float64, 'Частота_ошибок_февраль__________', 0    1.0\n",
       " Name: Код ошибки, dtype: float64, 'Частота_ошибок_всего____________', 0    1.0\n",
       " Name: Код ошибки, dtype: float64)"
      ]
     },
     "execution_count": 189,
     "metadata": {},
     "output_type": "execute_result"
    }
   ],
   "source": [
    "Land_1120_EF = error_frequency(Land_1120_1,Land_1120_2,Land_1120_3)\n",
    "Land_1120_EF"
   ]
  },
  {
   "cell_type": "code",
   "execution_count": 190,
   "metadata": {},
   "outputs": [
    {
     "data": {
      "text/plain": [
       "('Частота_ошибок_январь_______________________________________', 0    1.0\n",
       " Name: Код ошибки, dtype: float64, 'Частота_ошибок_февраль__________', 51    1.0\n",
       " Name: Код ошибки, dtype: float64, 'Частота_ошибок_всего____________', 0     0.941176\n",
       " 51    0.058824\n",
       " Name: Код ошибки, dtype: float64)"
      ]
     },
     "execution_count": 190,
     "metadata": {},
     "output_type": "execute_result"
    }
   ],
   "source": [
    "Land_1012_EF = error_frequency(Land_1012_1,Land_1012_2,Land_1012_3)\n",
    "Land_1012_EF"
   ]
  },
  {
   "cell_type": "code",
   "execution_count": 191,
   "metadata": {},
   "outputs": [
    {
     "data": {
      "text/plain": [
       "('Частота_ошибок_январь_______________________________________', 0    1.0\n",
       " Name: Код ошибки, dtype: float64, 'Частота_ошибок_февраль__________', 0    1.0\n",
       " Name: Код ошибки, dtype: float64, 'Частота_ошибок_всего____________', 0    1.0\n",
       " Name: Код ошибки, dtype: float64)"
      ]
     },
     "execution_count": 191,
     "metadata": {},
     "output_type": "execute_result"
    }
   ],
   "source": [
    "Land_1096_EF = error_frequency(Land_1096_1,Land_1096_2,Land_1096_3)\n",
    "Land_1096_EF"
   ]
  },
  {
   "cell_type": "code",
   "execution_count": 192,
   "metadata": {},
   "outputs": [
    {
     "ename": "NameError",
     "evalue": "name 'Land_1119_2' is not defined",
     "output_type": "error",
     "traceback": [
      "\u001b[1;31m---------------------------------------------------------------------------\u001b[0m",
      "\u001b[1;31mNameError\u001b[0m                                 Traceback (most recent call last)",
      "\u001b[1;32m<ipython-input-192-1496e10a345a>\u001b[0m in \u001b[0;36m<module>\u001b[1;34m()\u001b[0m\n\u001b[1;32m----> 1\u001b[1;33m \u001b[0mLand_1119_EF\u001b[0m \u001b[1;33m=\u001b[0m \u001b[0merror_frequency\u001b[0m\u001b[1;33m(\u001b[0m\u001b[0mLand_1119_1\u001b[0m\u001b[1;33m,\u001b[0m\u001b[0mLand_1119_2\u001b[0m\u001b[1;33m,\u001b[0m\u001b[0mLand_1119_3\u001b[0m\u001b[1;33m)\u001b[0m\u001b[1;33m\u001b[0m\u001b[0m\n\u001b[0m\u001b[0;32m      2\u001b[0m \u001b[0mLand_1119_EF\u001b[0m\u001b[1;33m\u001b[0m\u001b[0m\n",
      "\u001b[1;31mNameError\u001b[0m: name 'Land_1119_2' is not defined"
     ]
    }
   ],
   "source": [
    "# в феврале такого лэндинга нет, но мы то с вами знаем что он пуст.\n",
    "Land_1119_EF = error_frequency(Land_1119_1,Land_1119_2,Land_1119_3)\n",
    "Land_1119_EF"
   ]
  },
  {
   "cell_type": "code",
   "execution_count": 193,
   "metadata": {},
   "outputs": [
    {
     "data": {
      "text/plain": [
       "0    1.0\n",
       "Name: Код ошибки, dtype: float64"
      ]
     },
     "execution_count": 193,
     "metadata": {},
     "output_type": "execute_result"
    }
   ],
   "source": [
    "# вот частоты по нему за январь.\n",
    "Land_1119_EF = Land_1119_1['Код ошибки'].value_counts(normalize=True)\n",
    "Land_1119_EF"
   ]
  },
  {
   "cell_type": "code",
   "execution_count": null,
   "metadata": {
    "collapsed": true
   },
   "outputs": [],
   "source": [
    "Подзадача Х.\n",
    "Посчитать частоты, по идее лучше отдать Саше Шлентяеву- он лучше умеет работать с голыми числами, всё равно эту витрину мне\n",
    "ещё пилить и пилить до идеала, а ведь они будут думать что я за 3 дня могу накодить глубокий анализ ребиллов и ещё наверняка\n",
    "захотят чтобы я за неделю провёл deep rewiew всех их 75 гигов. Вот зачем я вообще решил работать навыходных? сядут ведь потом\n",
    "на шею, а через полгода когда я сгорю на работе ещё и обидяться. Вечно я совершаю одни и теже ошибки когда хочу понравиться."
   ]
  },
  {
   "cell_type": "code",
   "execution_count": null,
   "metadata": {
    "collapsed": true
   },
   "outputs": [],
   "source": [
    "Сводка 2. Юзеры по операторам на Лэндингах."
   ]
  },
  {
   "cell_type": "code",
   "execution_count": 201,
   "metadata": {
    "collapsed": true
   },
   "outputs": [],
   "source": [
    "def Land_user_operator(x,y,z):\n",
    "    return 'Оператор_пользователя_январь_______________________________________',x['user_operator'].value_counts(),'Оператор_пользователя_февраль____________', y['user_operator'].value_counts(),'Оператор_пользователя_всего_____',z['user_operator'].value_counts()"
   ]
  },
  {
   "cell_type": "code",
   "execution_count": 202,
   "metadata": {},
   "outputs": [
    {
     "data": {
      "text/plain": [
       "('Оператор_пользователя_январь_______________________________________',\n",
       " МТС            506204\n",
       " МТС-WIN         10914\n",
       " MEG              3889\n",
       " BEE              3143\n",
       " TELE2            1880\n",
       " MIX_TELECOM       597\n",
       " YOTA_MEG          120\n",
       " YOTA_TELE2          7\n",
       " MEG_SMART           4\n",
       " Name: user_operator, dtype: int64,\n",
       " 'Оператор_пользователя_февраль____________',\n",
       " МТС            386743\n",
       " МТС-WIN         10954\n",
       " MEG              3289\n",
       " BEE              2374\n",
       " TELE2            1475\n",
       " MIX_TELECOM       644\n",
       " YOTA_MEG           62\n",
       " YOTA_TELE2         25\n",
       " MEG_SMART           2\n",
       " Name: user_operator, dtype: int64,\n",
       " 'Оператор_пользователя_всего_____',\n",
       " МТС            892947\n",
       " МТС-WIN         21868\n",
       " MEG              7178\n",
       " BEE              5517\n",
       " TELE2            3355\n",
       " MIX_TELECOM      1241\n",
       " YOTA_MEG          182\n",
       " YOTA_TELE2         32\n",
       " MEG_SMART           6\n",
       " Name: user_operator, dtype: int64)"
      ]
     },
     "execution_count": 202,
     "metadata": {},
     "output_type": "execute_result"
    }
   ],
   "source": [
    "Land_1521_user_operator = Land_user_operator(Land_1521_1,Land_1521_2,Land_1521_3)\n",
    "Land_1521_user_operator"
   ]
  },
  {
   "cell_type": "code",
   "execution_count": 203,
   "metadata": {},
   "outputs": [
    {
     "data": {
      "text/plain": [
       "('Оператор_пользователя_январь_______________________________________',\n",
       " МТС            562310\n",
       " МТС-WIN         17206\n",
       " MEG              4142\n",
       " BEE              3106\n",
       " TELE2            1944\n",
       " MIX_TELECOM      1144\n",
       " YOTA_MEG           83\n",
       " YOTA_TELE2          4\n",
       " Name: user_operator, dtype: int64,\n",
       " 'Оператор_пользователя_февраль____________',\n",
       " МТС            259957\n",
       " МТС-WIN          8873\n",
       " MEG              1933\n",
       " BEE              1458\n",
       " TELE2             795\n",
       " MIX_TELECOM       465\n",
       " YOTA_MEG           31\n",
       " YOTA_TELE2          2\n",
       " Name: user_operator, dtype: int64,\n",
       " 'Оператор_пользователя_всего_____',\n",
       " МТС            822267\n",
       " МТС-WIN         26079\n",
       " MEG              6075\n",
       " BEE              4564\n",
       " TELE2            2739\n",
       " MIX_TELECOM      1609\n",
       " YOTA_MEG          114\n",
       " YOTA_TELE2          6\n",
       " Name: user_operator, dtype: int64)"
      ]
     },
     "execution_count": 203,
     "metadata": {},
     "output_type": "execute_result"
    }
   ],
   "source": [
    "Land_933_user_operator = Land_user_operator(Land_933_1,Land_933_2,Land_933_3)\n",
    "Land_933_user_operator"
   ]
  },
  {
   "cell_type": "code",
   "execution_count": 204,
   "metadata": {},
   "outputs": [
    {
     "data": {
      "text/plain": [
       "('Оператор_пользователя_январь_______________________________________',\n",
       " МТС            11033\n",
       " МТС-WIN          386\n",
       " MEG              115\n",
       " BEE               36\n",
       " TELE2             32\n",
       " MIX_TELECOM        1\n",
       " Name: user_operator, dtype: int64,\n",
       " 'Оператор_пользователя_февраль____________',\n",
       " МТС        5238\n",
       " МТС-WIN     164\n",
       " MEG          85\n",
       " BEE          39\n",
       " TELE2        28\n",
       " Name: user_operator, dtype: int64,\n",
       " 'Оператор_пользователя_всего_____',\n",
       " МТС            16271\n",
       " МТС-WIN          550\n",
       " MEG              200\n",
       " BEE               75\n",
       " TELE2             60\n",
       " MIX_TELECOM        1\n",
       " Name: user_operator, dtype: int64)"
      ]
     },
     "execution_count": 204,
     "metadata": {},
     "output_type": "execute_result"
    }
   ],
   "source": [
    "Land_1412_user_operator = Land_user_operator(Land_1412_1,Land_1412_2,Land_1412_3)\n",
    "Land_1412_user_operator"
   ]
  },
  {
   "cell_type": "code",
   "execution_count": 205,
   "metadata": {},
   "outputs": [
    {
     "data": {
      "text/plain": [
       "('Оператор_пользователя_январь_______________________________________',\n",
       " МТС        1045\n",
       " МТС-WIN      76\n",
       " Name: user_operator, dtype: int64,\n",
       " 'Оператор_пользователя_февраль____________',\n",
       " МТС        786\n",
       " МТС-WIN     52\n",
       " Name: user_operator, dtype: int64,\n",
       " 'Оператор_пользователя_всего_____',\n",
       " МТС        1831\n",
       " МТС-WIN     128\n",
       " Name: user_operator, dtype: int64)"
      ]
     },
     "execution_count": 205,
     "metadata": {},
     "output_type": "execute_result"
    }
   ],
   "source": [
    "Land_1013_user_operator = Land_user_operator(Land_1013_1,Land_1013_2,Land_1013_3)\n",
    "Land_1013_user_operator"
   ]
  },
  {
   "cell_type": "code",
   "execution_count": 206,
   "metadata": {},
   "outputs": [
    {
     "data": {
      "text/plain": [
       "('Оператор_пользователя_январь_______________________________________',\n",
       " МТС        1017\n",
       " МТС-WIN      38\n",
       " MEG          31\n",
       " Name: user_operator, dtype: int64,\n",
       " 'Оператор_пользователя_февраль____________',\n",
       " МТС        789\n",
       " МТС-WIN     30\n",
       " MEG          5\n",
       " Name: user_operator, dtype: int64,\n",
       " 'Оператор_пользователя_всего_____',\n",
       " МТС        1806\n",
       " МТС-WIN      68\n",
       " MEG          36\n",
       " Name: user_operator, dtype: int64)"
      ]
     },
     "execution_count": 206,
     "metadata": {},
     "output_type": "execute_result"
    }
   ],
   "source": [
    "Land_1411_user_operator = Land_user_operator(Land_1411_1,Land_1411_2,Land_1411_3)\n",
    "Land_1411_user_operator"
   ]
  },
  {
   "cell_type": "code",
   "execution_count": 207,
   "metadata": {},
   "outputs": [
    {
     "data": {
      "text/plain": [
       "('Оператор_пользователя_январь_______________________________________',\n",
       " МТС    169\n",
       " Name: user_operator, dtype: int64,\n",
       " 'Оператор_пользователя_февраль____________',\n",
       " МТС    116\n",
       " Name: user_operator, dtype: int64,\n",
       " 'Оператор_пользователя_всего_____',\n",
       " МТС    285\n",
       " Name: user_operator, dtype: int64)"
      ]
     },
     "execution_count": 207,
     "metadata": {},
     "output_type": "execute_result"
    }
   ],
   "source": [
    "Land_1097_user_operator = Land_user_operator(Land_1097_1,Land_1097_2,Land_1097_3)\n",
    "Land_1097_user_operator"
   ]
  },
  {
   "cell_type": "code",
   "execution_count": 208,
   "metadata": {},
   "outputs": [
    {
     "data": {
      "text/plain": [
       "('Оператор_пользователя_январь_______________________________________',\n",
       " МТС    54\n",
       " Name: user_operator, dtype: int64,\n",
       " 'Оператор_пользователя_февраль____________',\n",
       " МТС    48\n",
       " Name: user_operator, dtype: int64,\n",
       " 'Оператор_пользователя_всего_____',\n",
       " МТС    102\n",
       " Name: user_operator, dtype: int64)"
      ]
     },
     "execution_count": 208,
     "metadata": {},
     "output_type": "execute_result"
    }
   ],
   "source": [
    "Land_1121_user_operator = Land_user_operator(Land_1121_1,Land_1121_2,Land_1121_3)\n",
    "Land_1121_user_operator"
   ]
  },
  {
   "cell_type": "code",
   "execution_count": 209,
   "metadata": {},
   "outputs": [
    {
     "data": {
      "text/plain": [
       "('Оператор_пользователя_январь_______________________________________',\n",
       " МТС    13\n",
       " Name: user_operator, dtype: int64,\n",
       " 'Оператор_пользователя_февраль____________',\n",
       " МТС    10\n",
       " Name: user_operator, dtype: int64,\n",
       " 'Оператор_пользователя_всего_____',\n",
       " МТС    23\n",
       " Name: user_operator, dtype: int64)"
      ]
     },
     "execution_count": 209,
     "metadata": {},
     "output_type": "execute_result"
    }
   ],
   "source": [
    "Land_1120_user_operator = Land_user_operator(Land_1120_1,Land_1120_2,Land_1120_3)\n",
    "Land_1120_user_operator"
   ]
  },
  {
   "cell_type": "code",
   "execution_count": 210,
   "metadata": {},
   "outputs": [
    {
     "data": {
      "text/plain": [
       "('Оператор_пользователя_январь_______________________________________',\n",
       " МТС    16\n",
       " Name: user_operator, dtype: int64,\n",
       " 'Оператор_пользователя_февраль____________',\n",
       " МТС    1\n",
       " Name: user_operator, dtype: int64,\n",
       " 'Оператор_пользователя_всего_____',\n",
       " МТС    17\n",
       " Name: user_operator, dtype: int64)"
      ]
     },
     "execution_count": 210,
     "metadata": {},
     "output_type": "execute_result"
    }
   ],
   "source": [
    "Land_1012_user_operator = Land_user_operator(Land_1012_1,Land_1012_2,Land_1012_3)\n",
    "Land_1012_user_operator"
   ]
  },
  {
   "cell_type": "code",
   "execution_count": 211,
   "metadata": {},
   "outputs": [
    {
     "data": {
      "text/plain": [
       "('Оператор_пользователя_январь_______________________________________',\n",
       " МТС    2\n",
       " Name: user_operator, dtype: int64,\n",
       " 'Оператор_пользователя_февраль____________',\n",
       " МТС    1\n",
       " Name: user_operator, dtype: int64,\n",
       " 'Оператор_пользователя_всего_____',\n",
       " МТС    3\n",
       " Name: user_operator, dtype: int64)"
      ]
     },
     "execution_count": 211,
     "metadata": {},
     "output_type": "execute_result"
    }
   ],
   "source": [
    "Land_1096_user_operator = Land_user_operator(Land_1096_1,Land_1096_2,Land_1096_3)\n",
    "Land_1096_user_operator"
   ]
  },
  {
   "cell_type": "code",
   "execution_count": 212,
   "metadata": {},
   "outputs": [
    {
     "ename": "NameError",
     "evalue": "name 'Land_1119_2' is not defined",
     "output_type": "error",
     "traceback": [
      "\u001b[1;31m---------------------------------------------------------------------------\u001b[0m",
      "\u001b[1;31mNameError\u001b[0m                                 Traceback (most recent call last)",
      "\u001b[1;32m<ipython-input-212-9fe1e2e8b879>\u001b[0m in \u001b[0;36m<module>\u001b[1;34m()\u001b[0m\n\u001b[1;32m----> 1\u001b[1;33m \u001b[0mLand_1119_user_operator\u001b[0m \u001b[1;33m=\u001b[0m \u001b[0mLand_user_operator\u001b[0m\u001b[1;33m(\u001b[0m\u001b[0mLand_1119_1\u001b[0m\u001b[1;33m,\u001b[0m\u001b[0mLand_1119_2\u001b[0m\u001b[1;33m,\u001b[0m\u001b[0mLand_1119_3\u001b[0m\u001b[1;33m)\u001b[0m\u001b[1;33m\u001b[0m\u001b[0m\n\u001b[0m\u001b[0;32m      2\u001b[0m \u001b[0mLand_1119_user_operator\u001b[0m\u001b[1;33m\u001b[0m\u001b[0m\n",
      "\u001b[1;31mNameError\u001b[0m: name 'Land_1119_2' is not defined"
     ]
    }
   ],
   "source": [
    "Land_1119_user_operator = Land_user_operator(Land_1119_1,Land_1119_2,Land_1119_3)\n",
    "Land_1119_user_operator"
   ]
  },
  {
   "cell_type": "code",
   "execution_count": 213,
   "metadata": {},
   "outputs": [
    {
     "data": {
      "text/plain": [
       "МТС    1.0\n",
       "Name: user_operator, dtype: float64"
      ]
     },
     "execution_count": 213,
     "metadata": {},
     "output_type": "execute_result"
    }
   ],
   "source": [
    "Land_1119_EF = Land_1119_1['user_operator'].value_counts(normalize=True)\n",
    "Land_1119_EF"
   ]
  },
  {
   "cell_type": "code",
   "execution_count": null,
   "metadata": {
    "collapsed": true
   },
   "outputs": [],
   "source": [
    "Сводка 3. Удивительный мир сводных таблиц, которые всё нам расскажут.\n",
    "Таблица pvt_Land_xxx_y_status - описывает успехи и неудачи юзеров.\n",
    "В поле значений фигурируют циферки - это число ребиллов по юзерам.\n",
    "xxx - номер лэндинга, y - период. 1 - январь, 2 февраль, 3 всего.\n",
    "Смотрите боги экселя и скуля я читер - у меня с нулями работает."
   ]
  },
  {
   "cell_type": "code",
   "execution_count": 256,
   "metadata": {},
   "outputs": [
    {
     "data": {
      "text/html": [
       "<div>\n",
       "<style>\n",
       "    .dataframe thead tr:only-child th {\n",
       "        text-align: right;\n",
       "    }\n",
       "\n",
       "    .dataframe thead th {\n",
       "        text-align: left;\n",
       "    }\n",
       "\n",
       "    .dataframe tbody tr th {\n",
       "        vertical-align: top;\n",
       "    }\n",
       "</style>\n",
       "<table border=\"1\" class=\"dataframe\">\n",
       "  <thead>\n",
       "    <tr style=\"text-align: right;\">\n",
       "      <th>user_operator</th>\n",
       "      <th>BEE</th>\n",
       "      <th>MEG</th>\n",
       "      <th>MEG_SMART</th>\n",
       "      <th>MIX_TELECOM</th>\n",
       "      <th>TELE2</th>\n",
       "      <th>YOTA_MEG</th>\n",
       "      <th>YOTA_TELE2</th>\n",
       "      <th>МТС</th>\n",
       "      <th>МТС-WIN</th>\n",
       "    </tr>\n",
       "    <tr>\n",
       "      <th>Статус</th>\n",
       "      <th></th>\n",
       "      <th></th>\n",
       "      <th></th>\n",
       "      <th></th>\n",
       "      <th></th>\n",
       "      <th></th>\n",
       "      <th></th>\n",
       "      <th></th>\n",
       "      <th></th>\n",
       "    </tr>\n",
       "  </thead>\n",
       "  <tbody>\n",
       "    <tr>\n",
       "      <th>0</th>\n",
       "      <td>429.0</td>\n",
       "      <td>573.0</td>\n",
       "      <td>3.0</td>\n",
       "      <td>4.0</td>\n",
       "      <td>394.0</td>\n",
       "      <td>13.0</td>\n",
       "      <td>NaN</td>\n",
       "      <td>53568.0</td>\n",
       "      <td>832.0</td>\n",
       "    </tr>\n",
       "    <tr>\n",
       "      <th>1</th>\n",
       "      <td>2714.0</td>\n",
       "      <td>3316.0</td>\n",
       "      <td>1.0</td>\n",
       "      <td>593.0</td>\n",
       "      <td>1486.0</td>\n",
       "      <td>107.0</td>\n",
       "      <td>7.0</td>\n",
       "      <td>452636.0</td>\n",
       "      <td>10082.0</td>\n",
       "    </tr>\n",
       "  </tbody>\n",
       "</table>\n",
       "</div>"
      ],
      "text/plain": [
       "user_operator     BEE     MEG  MEG_SMART  MIX_TELECOM   TELE2  YOTA_MEG  \\\n",
       "Статус                                                                    \n",
       "0               429.0   573.0        3.0          4.0   394.0      13.0   \n",
       "1              2714.0  3316.0        1.0        593.0  1486.0     107.0   \n",
       "\n",
       "user_operator  YOTA_TELE2       МТС  МТС-WIN  \n",
       "Статус                                        \n",
       "0                     NaN   53568.0    832.0  \n",
       "1                     7.0  452636.0  10082.0  "
      ]
     },
     "execution_count": 256,
     "metadata": {},
     "output_type": "execute_result"
    }
   ],
   "source": [
    "pvt_Land_1521_1_status = Land_1521_1.pivot_table(index=['Статус'], columns=['user_operator'], values='Дата ребилла', aggfunc='count')\n",
    "pvt_Land_1521_1_status"
   ]
  },
  {
   "cell_type": "code",
   "execution_count": 219,
   "metadata": {},
   "outputs": [
    {
     "data": {
      "text/html": [
       "<div>\n",
       "<style>\n",
       "    .dataframe thead tr:only-child th {\n",
       "        text-align: right;\n",
       "    }\n",
       "\n",
       "    .dataframe thead th {\n",
       "        text-align: left;\n",
       "    }\n",
       "\n",
       "    .dataframe tbody tr th {\n",
       "        vertical-align: top;\n",
       "    }\n",
       "</style>\n",
       "<table border=\"1\" class=\"dataframe\">\n",
       "  <thead>\n",
       "    <tr style=\"text-align: right;\">\n",
       "      <th>user_operator</th>\n",
       "      <th>BEE</th>\n",
       "      <th>MEG</th>\n",
       "      <th>MEG_SMART</th>\n",
       "      <th>MIX_TELECOM</th>\n",
       "      <th>TELE2</th>\n",
       "      <th>YOTA_MEG</th>\n",
       "      <th>YOTA_TELE2</th>\n",
       "      <th>МТС</th>\n",
       "      <th>МТС-WIN</th>\n",
       "    </tr>\n",
       "    <tr>\n",
       "      <th>Статус</th>\n",
       "      <th></th>\n",
       "      <th></th>\n",
       "      <th></th>\n",
       "      <th></th>\n",
       "      <th></th>\n",
       "      <th></th>\n",
       "      <th></th>\n",
       "      <th></th>\n",
       "      <th></th>\n",
       "    </tr>\n",
       "  </thead>\n",
       "  <tbody>\n",
       "    <tr>\n",
       "      <th>0</th>\n",
       "      <td>624</td>\n",
       "      <td>992</td>\n",
       "      <td>1</td>\n",
       "      <td>6</td>\n",
       "      <td>342</td>\n",
       "      <td>10</td>\n",
       "      <td>10</td>\n",
       "      <td>44462</td>\n",
       "      <td>837</td>\n",
       "    </tr>\n",
       "    <tr>\n",
       "      <th>1</th>\n",
       "      <td>1750</td>\n",
       "      <td>2297</td>\n",
       "      <td>1</td>\n",
       "      <td>638</td>\n",
       "      <td>1133</td>\n",
       "      <td>52</td>\n",
       "      <td>15</td>\n",
       "      <td>342281</td>\n",
       "      <td>10117</td>\n",
       "    </tr>\n",
       "  </tbody>\n",
       "</table>\n",
       "</div>"
      ],
      "text/plain": [
       "user_operator   BEE   MEG  MEG_SMART  MIX_TELECOM  TELE2  YOTA_MEG  \\\n",
       "Статус                                                               \n",
       "0               624   992          1            6    342        10   \n",
       "1              1750  2297          1          638   1133        52   \n",
       "\n",
       "user_operator  YOTA_TELE2     МТС  МТС-WIN  \n",
       "Статус                                      \n",
       "0                      10   44462      837  \n",
       "1                      15  342281    10117  "
      ]
     },
     "execution_count": 219,
     "metadata": {},
     "output_type": "execute_result"
    }
   ],
   "source": [
    "pvt_Land_1521_2_status = Land_1521_2.pivot_table(index=['Статус'], columns=['user_operator'], values='Дата ребилла', aggfunc='count')\n",
    "pvt_Land_1521_2_status"
   ]
  },
  {
   "cell_type": "code",
   "execution_count": 220,
   "metadata": {},
   "outputs": [
    {
     "data": {
      "text/html": [
       "<div>\n",
       "<style>\n",
       "    .dataframe thead tr:only-child th {\n",
       "        text-align: right;\n",
       "    }\n",
       "\n",
       "    .dataframe thead th {\n",
       "        text-align: left;\n",
       "    }\n",
       "\n",
       "    .dataframe tbody tr th {\n",
       "        vertical-align: top;\n",
       "    }\n",
       "</style>\n",
       "<table border=\"1\" class=\"dataframe\">\n",
       "  <thead>\n",
       "    <tr style=\"text-align: right;\">\n",
       "      <th>user_operator</th>\n",
       "      <th>BEE</th>\n",
       "      <th>MEG</th>\n",
       "      <th>MEG_SMART</th>\n",
       "      <th>MIX_TELECOM</th>\n",
       "      <th>TELE2</th>\n",
       "      <th>YOTA_MEG</th>\n",
       "      <th>YOTA_TELE2</th>\n",
       "      <th>МТС</th>\n",
       "      <th>МТС-WIN</th>\n",
       "    </tr>\n",
       "    <tr>\n",
       "      <th>Статус</th>\n",
       "      <th></th>\n",
       "      <th></th>\n",
       "      <th></th>\n",
       "      <th></th>\n",
       "      <th></th>\n",
       "      <th></th>\n",
       "      <th></th>\n",
       "      <th></th>\n",
       "      <th></th>\n",
       "    </tr>\n",
       "  </thead>\n",
       "  <tbody>\n",
       "    <tr>\n",
       "      <th>0</th>\n",
       "      <td>624</td>\n",
       "      <td>992</td>\n",
       "      <td>1</td>\n",
       "      <td>6</td>\n",
       "      <td>342</td>\n",
       "      <td>10</td>\n",
       "      <td>10</td>\n",
       "      <td>44462</td>\n",
       "      <td>837</td>\n",
       "    </tr>\n",
       "    <tr>\n",
       "      <th>1</th>\n",
       "      <td>1750</td>\n",
       "      <td>2297</td>\n",
       "      <td>1</td>\n",
       "      <td>638</td>\n",
       "      <td>1133</td>\n",
       "      <td>52</td>\n",
       "      <td>15</td>\n",
       "      <td>342281</td>\n",
       "      <td>10117</td>\n",
       "    </tr>\n",
       "  </tbody>\n",
       "</table>\n",
       "</div>"
      ],
      "text/plain": [
       "user_operator   BEE   MEG  MEG_SMART  MIX_TELECOM  TELE2  YOTA_MEG  \\\n",
       "Статус                                                               \n",
       "0               624   992          1            6    342        10   \n",
       "1              1750  2297          1          638   1133        52   \n",
       "\n",
       "user_operator  YOTA_TELE2     МТС  МТС-WIN  \n",
       "Статус                                      \n",
       "0                      10   44462      837  \n",
       "1                      15  342281    10117  "
      ]
     },
     "execution_count": 220,
     "metadata": {},
     "output_type": "execute_result"
    }
   ],
   "source": [
    "pvt_Land_1521_3_status = Land_1521_2.pivot_table(index=['Статус'], columns=['user_operator'], values='Дата ребилла', aggfunc='count')\n",
    "pvt_Land_1521_3_status"
   ]
  },
  {
   "cell_type": "code",
   "execution_count": null,
   "metadata": {
    "collapsed": true
   },
   "outputs": [],
   "source": [
    "Заметка 1. \n",
    "Лэндинг 1521.\n",
    "Снижение по BEE и MEG вне медианы по МТС.\n",
    "MIX_TELECOM прирастает не смотря ни на что."
   ]
  },
  {
   "cell_type": "code",
   "execution_count": 227,
   "metadata": {},
   "outputs": [
    {
     "data": {
      "text/html": [
       "<div>\n",
       "<style>\n",
       "    .dataframe thead tr:only-child th {\n",
       "        text-align: right;\n",
       "    }\n",
       "\n",
       "    .dataframe thead th {\n",
       "        text-align: left;\n",
       "    }\n",
       "\n",
       "    .dataframe tbody tr th {\n",
       "        vertical-align: top;\n",
       "    }\n",
       "</style>\n",
       "<table border=\"1\" class=\"dataframe\">\n",
       "  <thead>\n",
       "    <tr style=\"text-align: right;\">\n",
       "      <th>user_operator</th>\n",
       "      <th>BEE</th>\n",
       "      <th>MEG</th>\n",
       "      <th>MIX_TELECOM</th>\n",
       "      <th>TELE2</th>\n",
       "      <th>YOTA_MEG</th>\n",
       "      <th>YOTA_TELE2</th>\n",
       "      <th>МТС</th>\n",
       "      <th>МТС-WIN</th>\n",
       "    </tr>\n",
       "    <tr>\n",
       "      <th>Статус</th>\n",
       "      <th></th>\n",
       "      <th></th>\n",
       "      <th></th>\n",
       "      <th></th>\n",
       "      <th></th>\n",
       "      <th></th>\n",
       "      <th></th>\n",
       "      <th></th>\n",
       "    </tr>\n",
       "  </thead>\n",
       "  <tbody>\n",
       "    <tr>\n",
       "      <th>0</th>\n",
       "      <td>145.0</td>\n",
       "      <td>184.0</td>\n",
       "      <td>6.0</td>\n",
       "      <td>143.0</td>\n",
       "      <td>4.0</td>\n",
       "      <td>NaN</td>\n",
       "      <td>38417.0</td>\n",
       "      <td>867.0</td>\n",
       "    </tr>\n",
       "    <tr>\n",
       "      <th>1</th>\n",
       "      <td>2961.0</td>\n",
       "      <td>3958.0</td>\n",
       "      <td>1138.0</td>\n",
       "      <td>1801.0</td>\n",
       "      <td>79.0</td>\n",
       "      <td>4.0</td>\n",
       "      <td>523893.0</td>\n",
       "      <td>16339.0</td>\n",
       "    </tr>\n",
       "  </tbody>\n",
       "</table>\n",
       "</div>"
      ],
      "text/plain": [
       "user_operator     BEE     MEG  MIX_TELECOM   TELE2  YOTA_MEG  YOTA_TELE2  \\\n",
       "Статус                                                                     \n",
       "0               145.0   184.0          6.0   143.0       4.0         NaN   \n",
       "1              2961.0  3958.0       1138.0  1801.0      79.0         4.0   \n",
       "\n",
       "user_operator       МТС  МТС-WIN  \n",
       "Статус                            \n",
       "0               38417.0    867.0  \n",
       "1              523893.0  16339.0  "
      ]
     },
     "execution_count": 227,
     "metadata": {},
     "output_type": "execute_result"
    }
   ],
   "source": [
    "pvt_Land_933_1_status = Land_933_1.pivot_table(index=['Статус'], columns=['user_operator'], values='Дата ребилла', aggfunc='count')\n",
    "pvt_Land_933_1_status"
   ]
  },
  {
   "cell_type": "code",
   "execution_count": 222,
   "metadata": {},
   "outputs": [
    {
     "data": {
      "text/html": [
       "<div>\n",
       "<style>\n",
       "    .dataframe thead tr:only-child th {\n",
       "        text-align: right;\n",
       "    }\n",
       "\n",
       "    .dataframe thead th {\n",
       "        text-align: left;\n",
       "    }\n",
       "\n",
       "    .dataframe tbody tr th {\n",
       "        vertical-align: top;\n",
       "    }\n",
       "</style>\n",
       "<table border=\"1\" class=\"dataframe\">\n",
       "  <thead>\n",
       "    <tr style=\"text-align: right;\">\n",
       "      <th>user_operator</th>\n",
       "      <th>BEE</th>\n",
       "      <th>MEG</th>\n",
       "      <th>MIX_TELECOM</th>\n",
       "      <th>TELE2</th>\n",
       "      <th>YOTA_MEG</th>\n",
       "      <th>YOTA_TELE2</th>\n",
       "      <th>МТС</th>\n",
       "      <th>МТС-WIN</th>\n",
       "    </tr>\n",
       "    <tr>\n",
       "      <th>Статус</th>\n",
       "      <th></th>\n",
       "      <th></th>\n",
       "      <th></th>\n",
       "      <th></th>\n",
       "      <th></th>\n",
       "      <th></th>\n",
       "      <th></th>\n",
       "      <th></th>\n",
       "    </tr>\n",
       "  </thead>\n",
       "  <tbody>\n",
       "    <tr>\n",
       "      <th>0</th>\n",
       "      <td>21.0</td>\n",
       "      <td>31.0</td>\n",
       "      <td>8.0</td>\n",
       "      <td>15.0</td>\n",
       "      <td>1.0</td>\n",
       "      <td>NaN</td>\n",
       "      <td>12510.0</td>\n",
       "      <td>322.0</td>\n",
       "    </tr>\n",
       "    <tr>\n",
       "      <th>1</th>\n",
       "      <td>1437.0</td>\n",
       "      <td>1902.0</td>\n",
       "      <td>457.0</td>\n",
       "      <td>780.0</td>\n",
       "      <td>30.0</td>\n",
       "      <td>2.0</td>\n",
       "      <td>247447.0</td>\n",
       "      <td>8551.0</td>\n",
       "    </tr>\n",
       "  </tbody>\n",
       "</table>\n",
       "</div>"
      ],
      "text/plain": [
       "user_operator     BEE     MEG  MIX_TELECOM  TELE2  YOTA_MEG  YOTA_TELE2  \\\n",
       "Статус                                                                    \n",
       "0                21.0    31.0          8.0   15.0       1.0         NaN   \n",
       "1              1437.0  1902.0        457.0  780.0      30.0         2.0   \n",
       "\n",
       "user_operator       МТС  МТС-WIN  \n",
       "Статус                            \n",
       "0               12510.0    322.0  \n",
       "1              247447.0   8551.0  "
      ]
     },
     "execution_count": 222,
     "metadata": {},
     "output_type": "execute_result"
    }
   ],
   "source": [
    "pvt_Land_933_2_status = Land_933_2.pivot_table(index=['Статус'], columns=['user_operator'], values='Дата ребилла', aggfunc='count')\n",
    "pvt_Land_933_2_status"
   ]
  },
  {
   "cell_type": "code",
   "execution_count": 223,
   "metadata": {},
   "outputs": [
    {
     "data": {
      "text/html": [
       "<div>\n",
       "<style>\n",
       "    .dataframe thead tr:only-child th {\n",
       "        text-align: right;\n",
       "    }\n",
       "\n",
       "    .dataframe thead th {\n",
       "        text-align: left;\n",
       "    }\n",
       "\n",
       "    .dataframe tbody tr th {\n",
       "        vertical-align: top;\n",
       "    }\n",
       "</style>\n",
       "<table border=\"1\" class=\"dataframe\">\n",
       "  <thead>\n",
       "    <tr style=\"text-align: right;\">\n",
       "      <th>user_operator</th>\n",
       "      <th>BEE</th>\n",
       "      <th>MEG</th>\n",
       "      <th>MIX_TELECOM</th>\n",
       "      <th>TELE2</th>\n",
       "      <th>YOTA_MEG</th>\n",
       "      <th>YOTA_TELE2</th>\n",
       "      <th>МТС</th>\n",
       "      <th>МТС-WIN</th>\n",
       "    </tr>\n",
       "    <tr>\n",
       "      <th>Статус</th>\n",
       "      <th></th>\n",
       "      <th></th>\n",
       "      <th></th>\n",
       "      <th></th>\n",
       "      <th></th>\n",
       "      <th></th>\n",
       "      <th></th>\n",
       "      <th></th>\n",
       "    </tr>\n",
       "  </thead>\n",
       "  <tbody>\n",
       "    <tr>\n",
       "      <th>0</th>\n",
       "      <td>166.0</td>\n",
       "      <td>215.0</td>\n",
       "      <td>14.0</td>\n",
       "      <td>158.0</td>\n",
       "      <td>5.0</td>\n",
       "      <td>NaN</td>\n",
       "      <td>50927.0</td>\n",
       "      <td>1189.0</td>\n",
       "    </tr>\n",
       "    <tr>\n",
       "      <th>1</th>\n",
       "      <td>4398.0</td>\n",
       "      <td>5860.0</td>\n",
       "      <td>1595.0</td>\n",
       "      <td>2581.0</td>\n",
       "      <td>109.0</td>\n",
       "      <td>6.0</td>\n",
       "      <td>771340.0</td>\n",
       "      <td>24890.0</td>\n",
       "    </tr>\n",
       "  </tbody>\n",
       "</table>\n",
       "</div>"
      ],
      "text/plain": [
       "user_operator     BEE     MEG  MIX_TELECOM   TELE2  YOTA_MEG  YOTA_TELE2  \\\n",
       "Статус                                                                     \n",
       "0               166.0   215.0         14.0   158.0       5.0         NaN   \n",
       "1              4398.0  5860.0       1595.0  2581.0     109.0         6.0   \n",
       "\n",
       "user_operator       МТС  МТС-WIN  \n",
       "Статус                            \n",
       "0               50927.0   1189.0  \n",
       "1              771340.0  24890.0  "
      ]
     },
     "execution_count": 223,
     "metadata": {},
     "output_type": "execute_result"
    }
   ],
   "source": [
    "pvt_Land_933_3_status = Land_933_3.pivot_table(index=['Статус'], columns=['user_operator'], values='Дата ребилла', aggfunc='count')\n",
    "pvt_Land_933_3_status"
   ]
  },
  {
   "cell_type": "code",
   "execution_count": null,
   "metadata": {
    "collapsed": true
   },
   "outputs": [],
   "source": [
    "Заметка 2.\n",
    "Лэндинг 933.\n",
    "Снижение BEE MEG TELE2 YOTA вне медианы по 1521 но в ведиане по 933"
   ]
  },
  {
   "cell_type": "code",
   "execution_count": null,
   "metadata": {
    "collapsed": true
   },
   "outputs": [],
   "source": [
    "Заметка 3.\n",
    "Нафига, нам столько пассивных лэндингов?"
   ]
  },
  {
   "cell_type": "code",
   "execution_count": 228,
   "metadata": {},
   "outputs": [
    {
     "data": {
      "text/html": [
       "<div>\n",
       "<style>\n",
       "    .dataframe thead tr:only-child th {\n",
       "        text-align: right;\n",
       "    }\n",
       "\n",
       "    .dataframe thead th {\n",
       "        text-align: left;\n",
       "    }\n",
       "\n",
       "    .dataframe tbody tr th {\n",
       "        vertical-align: top;\n",
       "    }\n",
       "</style>\n",
       "<table border=\"1\" class=\"dataframe\">\n",
       "  <thead>\n",
       "    <tr style=\"text-align: right;\">\n",
       "      <th>user_operator</th>\n",
       "      <th>BEE</th>\n",
       "      <th>MEG</th>\n",
       "      <th>MIX_TELECOM</th>\n",
       "      <th>TELE2</th>\n",
       "      <th>МТС</th>\n",
       "      <th>МТС-WIN</th>\n",
       "    </tr>\n",
       "    <tr>\n",
       "      <th>Статус</th>\n",
       "      <th></th>\n",
       "      <th></th>\n",
       "      <th></th>\n",
       "      <th></th>\n",
       "      <th></th>\n",
       "      <th></th>\n",
       "    </tr>\n",
       "  </thead>\n",
       "  <tbody>\n",
       "    <tr>\n",
       "      <th>0</th>\n",
       "      <td>2.0</td>\n",
       "      <td>5.0</td>\n",
       "      <td>NaN</td>\n",
       "      <td>1.0</td>\n",
       "      <td>1999.0</td>\n",
       "      <td>59.0</td>\n",
       "    </tr>\n",
       "    <tr>\n",
       "      <th>1</th>\n",
       "      <td>34.0</td>\n",
       "      <td>110.0</td>\n",
       "      <td>1.0</td>\n",
       "      <td>31.0</td>\n",
       "      <td>9034.0</td>\n",
       "      <td>327.0</td>\n",
       "    </tr>\n",
       "  </tbody>\n",
       "</table>\n",
       "</div>"
      ],
      "text/plain": [
       "user_operator   BEE    MEG  MIX_TELECOM  TELE2     МТС  МТС-WIN\n",
       "Статус                                                         \n",
       "0               2.0    5.0          NaN    1.0  1999.0     59.0\n",
       "1              34.0  110.0          1.0   31.0  9034.0    327.0"
      ]
     },
     "execution_count": 228,
     "metadata": {},
     "output_type": "execute_result"
    }
   ],
   "source": [
    "pvt_Land_1412_1_status = Land_1412_1.pivot_table(index=['Статус'], columns=['user_operator'], values='Дата ребилла', aggfunc='count')\n",
    "pvt_Land_1412_1_status"
   ]
  },
  {
   "cell_type": "code",
   "execution_count": 229,
   "metadata": {},
   "outputs": [
    {
     "data": {
      "text/html": [
       "<div>\n",
       "<style>\n",
       "    .dataframe thead tr:only-child th {\n",
       "        text-align: right;\n",
       "    }\n",
       "\n",
       "    .dataframe thead th {\n",
       "        text-align: left;\n",
       "    }\n",
       "\n",
       "    .dataframe tbody tr th {\n",
       "        vertical-align: top;\n",
       "    }\n",
       "</style>\n",
       "<table border=\"1\" class=\"dataframe\">\n",
       "  <thead>\n",
       "    <tr style=\"text-align: right;\">\n",
       "      <th>user_operator</th>\n",
       "      <th>BEE</th>\n",
       "      <th>MEG</th>\n",
       "      <th>TELE2</th>\n",
       "      <th>МТС</th>\n",
       "      <th>МТС-WIN</th>\n",
       "    </tr>\n",
       "    <tr>\n",
       "      <th>Статус</th>\n",
       "      <th></th>\n",
       "      <th></th>\n",
       "      <th></th>\n",
       "      <th></th>\n",
       "      <th></th>\n",
       "    </tr>\n",
       "  </thead>\n",
       "  <tbody>\n",
       "    <tr>\n",
       "      <th>0</th>\n",
       "      <td>NaN</td>\n",
       "      <td>NaN</td>\n",
       "      <td>NaN</td>\n",
       "      <td>349.0</td>\n",
       "      <td>10.0</td>\n",
       "    </tr>\n",
       "    <tr>\n",
       "      <th>1</th>\n",
       "      <td>39.0</td>\n",
       "      <td>85.0</td>\n",
       "      <td>28.0</td>\n",
       "      <td>4889.0</td>\n",
       "      <td>154.0</td>\n",
       "    </tr>\n",
       "  </tbody>\n",
       "</table>\n",
       "</div>"
      ],
      "text/plain": [
       "user_operator   BEE   MEG  TELE2     МТС  МТС-WIN\n",
       "Статус                                           \n",
       "0               NaN   NaN    NaN   349.0     10.0\n",
       "1              39.0  85.0   28.0  4889.0    154.0"
      ]
     },
     "execution_count": 229,
     "metadata": {},
     "output_type": "execute_result"
    }
   ],
   "source": [
    "pvt_Land_1412_2_status = Land_1412_2.pivot_table(index=['Статус'], columns=['user_operator'], values='Дата ребилла', aggfunc='count')\n",
    "pvt_Land_1412_2_status"
   ]
  },
  {
   "cell_type": "code",
   "execution_count": 230,
   "metadata": {},
   "outputs": [
    {
     "data": {
      "text/html": [
       "<div>\n",
       "<style>\n",
       "    .dataframe thead tr:only-child th {\n",
       "        text-align: right;\n",
       "    }\n",
       "\n",
       "    .dataframe thead th {\n",
       "        text-align: left;\n",
       "    }\n",
       "\n",
       "    .dataframe tbody tr th {\n",
       "        vertical-align: top;\n",
       "    }\n",
       "</style>\n",
       "<table border=\"1\" class=\"dataframe\">\n",
       "  <thead>\n",
       "    <tr style=\"text-align: right;\">\n",
       "      <th>user_operator</th>\n",
       "      <th>BEE</th>\n",
       "      <th>MEG</th>\n",
       "      <th>MIX_TELECOM</th>\n",
       "      <th>TELE2</th>\n",
       "      <th>МТС</th>\n",
       "      <th>МТС-WIN</th>\n",
       "    </tr>\n",
       "    <tr>\n",
       "      <th>Статус</th>\n",
       "      <th></th>\n",
       "      <th></th>\n",
       "      <th></th>\n",
       "      <th></th>\n",
       "      <th></th>\n",
       "      <th></th>\n",
       "    </tr>\n",
       "  </thead>\n",
       "  <tbody>\n",
       "    <tr>\n",
       "      <th>0</th>\n",
       "      <td>2.0</td>\n",
       "      <td>5.0</td>\n",
       "      <td>NaN</td>\n",
       "      <td>1.0</td>\n",
       "      <td>2348.0</td>\n",
       "      <td>69.0</td>\n",
       "    </tr>\n",
       "    <tr>\n",
       "      <th>1</th>\n",
       "      <td>73.0</td>\n",
       "      <td>195.0</td>\n",
       "      <td>1.0</td>\n",
       "      <td>59.0</td>\n",
       "      <td>13923.0</td>\n",
       "      <td>481.0</td>\n",
       "    </tr>\n",
       "  </tbody>\n",
       "</table>\n",
       "</div>"
      ],
      "text/plain": [
       "user_operator   BEE    MEG  MIX_TELECOM  TELE2      МТС  МТС-WIN\n",
       "Статус                                                          \n",
       "0               2.0    5.0          NaN    1.0   2348.0     69.0\n",
       "1              73.0  195.0          1.0   59.0  13923.0    481.0"
      ]
     },
     "execution_count": 230,
     "metadata": {},
     "output_type": "execute_result"
    }
   ],
   "source": [
    "pvt_Land_1412_3_status = Land_1412_3.pivot_table(index=['Статус'], columns=['user_operator'], values='Дата ребилла', aggfunc='count')\n",
    "pvt_Land_1412_3_status"
   ]
  },
  {
   "cell_type": "code",
   "execution_count": 231,
   "metadata": {},
   "outputs": [
    {
     "data": {
      "text/html": [
       "<div>\n",
       "<style>\n",
       "    .dataframe thead tr:only-child th {\n",
       "        text-align: right;\n",
       "    }\n",
       "\n",
       "    .dataframe thead th {\n",
       "        text-align: left;\n",
       "    }\n",
       "\n",
       "    .dataframe tbody tr th {\n",
       "        vertical-align: top;\n",
       "    }\n",
       "</style>\n",
       "<table border=\"1\" class=\"dataframe\">\n",
       "  <thead>\n",
       "    <tr style=\"text-align: right;\">\n",
       "      <th>user_operator</th>\n",
       "      <th>МТС</th>\n",
       "      <th>МТС-WIN</th>\n",
       "    </tr>\n",
       "    <tr>\n",
       "      <th>Статус</th>\n",
       "      <th></th>\n",
       "      <th></th>\n",
       "    </tr>\n",
       "  </thead>\n",
       "  <tbody>\n",
       "    <tr>\n",
       "      <th>0</th>\n",
       "      <td>13</td>\n",
       "      <td>2</td>\n",
       "    </tr>\n",
       "    <tr>\n",
       "      <th>1</th>\n",
       "      <td>1032</td>\n",
       "      <td>74</td>\n",
       "    </tr>\n",
       "  </tbody>\n",
       "</table>\n",
       "</div>"
      ],
      "text/plain": [
       "user_operator   МТС  МТС-WIN\n",
       "Статус                      \n",
       "0                13        2\n",
       "1              1032       74"
      ]
     },
     "execution_count": 231,
     "metadata": {},
     "output_type": "execute_result"
    }
   ],
   "source": [
    "pvt_Land_1013_1_status = Land_1013_1.pivot_table(index=['Статус'], columns=['user_operator'], values='Дата ребилла', aggfunc='count')\n",
    "pvt_Land_1013_1_status"
   ]
  },
  {
   "cell_type": "code",
   "execution_count": 232,
   "metadata": {},
   "outputs": [
    {
     "data": {
      "text/html": [
       "<div>\n",
       "<style>\n",
       "    .dataframe thead tr:only-child th {\n",
       "        text-align: right;\n",
       "    }\n",
       "\n",
       "    .dataframe thead th {\n",
       "        text-align: left;\n",
       "    }\n",
       "\n",
       "    .dataframe tbody tr th {\n",
       "        vertical-align: top;\n",
       "    }\n",
       "</style>\n",
       "<table border=\"1\" class=\"dataframe\">\n",
       "  <thead>\n",
       "    <tr style=\"text-align: right;\">\n",
       "      <th>user_operator</th>\n",
       "      <th>МТС</th>\n",
       "      <th>МТС-WIN</th>\n",
       "    </tr>\n",
       "    <tr>\n",
       "      <th>Статус</th>\n",
       "      <th></th>\n",
       "      <th></th>\n",
       "    </tr>\n",
       "  </thead>\n",
       "  <tbody>\n",
       "    <tr>\n",
       "      <th>0</th>\n",
       "      <td>8.0</td>\n",
       "      <td>NaN</td>\n",
       "    </tr>\n",
       "    <tr>\n",
       "      <th>1</th>\n",
       "      <td>778.0</td>\n",
       "      <td>52.0</td>\n",
       "    </tr>\n",
       "  </tbody>\n",
       "</table>\n",
       "</div>"
      ],
      "text/plain": [
       "user_operator    МТС  МТС-WIN\n",
       "Статус                       \n",
       "0                8.0      NaN\n",
       "1              778.0     52.0"
      ]
     },
     "execution_count": 232,
     "metadata": {},
     "output_type": "execute_result"
    }
   ],
   "source": [
    "pvt_Land_1013_2_status = Land_1013_2.pivot_table(index=['Статус'], columns=['user_operator'], values='Дата ребилла', aggfunc='count')\n",
    "pvt_Land_1013_2_status"
   ]
  },
  {
   "cell_type": "code",
   "execution_count": 233,
   "metadata": {},
   "outputs": [
    {
     "data": {
      "text/html": [
       "<div>\n",
       "<style>\n",
       "    .dataframe thead tr:only-child th {\n",
       "        text-align: right;\n",
       "    }\n",
       "\n",
       "    .dataframe thead th {\n",
       "        text-align: left;\n",
       "    }\n",
       "\n",
       "    .dataframe tbody tr th {\n",
       "        vertical-align: top;\n",
       "    }\n",
       "</style>\n",
       "<table border=\"1\" class=\"dataframe\">\n",
       "  <thead>\n",
       "    <tr style=\"text-align: right;\">\n",
       "      <th>user_operator</th>\n",
       "      <th>МТС</th>\n",
       "      <th>МТС-WIN</th>\n",
       "    </tr>\n",
       "    <tr>\n",
       "      <th>Статус</th>\n",
       "      <th></th>\n",
       "      <th></th>\n",
       "    </tr>\n",
       "  </thead>\n",
       "  <tbody>\n",
       "    <tr>\n",
       "      <th>0</th>\n",
       "      <td>21</td>\n",
       "      <td>2</td>\n",
       "    </tr>\n",
       "    <tr>\n",
       "      <th>1</th>\n",
       "      <td>1810</td>\n",
       "      <td>126</td>\n",
       "    </tr>\n",
       "  </tbody>\n",
       "</table>\n",
       "</div>"
      ],
      "text/plain": [
       "user_operator   МТС  МТС-WIN\n",
       "Статус                      \n",
       "0                21        2\n",
       "1              1810      126"
      ]
     },
     "execution_count": 233,
     "metadata": {},
     "output_type": "execute_result"
    }
   ],
   "source": [
    "pvt_Land_1013_3_status = Land_1013_3.pivot_table(index=['Статус'], columns=['user_operator'], values='Дата ребилла', aggfunc='count')\n",
    "pvt_Land_1013_3_status"
   ]
  },
  {
   "cell_type": "code",
   "execution_count": 234,
   "metadata": {},
   "outputs": [
    {
     "data": {
      "text/html": [
       "<div>\n",
       "<style>\n",
       "    .dataframe thead tr:only-child th {\n",
       "        text-align: right;\n",
       "    }\n",
       "\n",
       "    .dataframe thead th {\n",
       "        text-align: left;\n",
       "    }\n",
       "\n",
       "    .dataframe tbody tr th {\n",
       "        vertical-align: top;\n",
       "    }\n",
       "</style>\n",
       "<table border=\"1\" class=\"dataframe\">\n",
       "  <thead>\n",
       "    <tr style=\"text-align: right;\">\n",
       "      <th>user_operator</th>\n",
       "      <th>MEG</th>\n",
       "      <th>МТС</th>\n",
       "      <th>МТС-WIN</th>\n",
       "    </tr>\n",
       "    <tr>\n",
       "      <th>Статус</th>\n",
       "      <th></th>\n",
       "      <th></th>\n",
       "      <th></th>\n",
       "    </tr>\n",
       "  </thead>\n",
       "  <tbody>\n",
       "    <tr>\n",
       "      <th>0</th>\n",
       "      <td>NaN</td>\n",
       "      <td>26.0</td>\n",
       "      <td>NaN</td>\n",
       "    </tr>\n",
       "    <tr>\n",
       "      <th>1</th>\n",
       "      <td>31.0</td>\n",
       "      <td>991.0</td>\n",
       "      <td>38.0</td>\n",
       "    </tr>\n",
       "  </tbody>\n",
       "</table>\n",
       "</div>"
      ],
      "text/plain": [
       "user_operator   MEG    МТС  МТС-WIN\n",
       "Статус                             \n",
       "0               NaN   26.0      NaN\n",
       "1              31.0  991.0     38.0"
      ]
     },
     "execution_count": 234,
     "metadata": {},
     "output_type": "execute_result"
    }
   ],
   "source": [
    "pvt_Land_1411_1_status = Land_1411_1.pivot_table(index=['Статус'], columns=['user_operator'], values='Дата ребилла', aggfunc='count')\n",
    "pvt_Land_1411_1_status"
   ]
  },
  {
   "cell_type": "code",
   "execution_count": 235,
   "metadata": {},
   "outputs": [
    {
     "data": {
      "text/html": [
       "<div>\n",
       "<style>\n",
       "    .dataframe thead tr:only-child th {\n",
       "        text-align: right;\n",
       "    }\n",
       "\n",
       "    .dataframe thead th {\n",
       "        text-align: left;\n",
       "    }\n",
       "\n",
       "    .dataframe tbody tr th {\n",
       "        vertical-align: top;\n",
       "    }\n",
       "</style>\n",
       "<table border=\"1\" class=\"dataframe\">\n",
       "  <thead>\n",
       "    <tr style=\"text-align: right;\">\n",
       "      <th>user_operator</th>\n",
       "      <th>MEG</th>\n",
       "      <th>МТС</th>\n",
       "      <th>МТС-WIN</th>\n",
       "    </tr>\n",
       "    <tr>\n",
       "      <th>Статус</th>\n",
       "      <th></th>\n",
       "      <th></th>\n",
       "      <th></th>\n",
       "    </tr>\n",
       "  </thead>\n",
       "  <tbody>\n",
       "    <tr>\n",
       "      <th>0</th>\n",
       "      <td>NaN</td>\n",
       "      <td>9.0</td>\n",
       "      <td>1.0</td>\n",
       "    </tr>\n",
       "    <tr>\n",
       "      <th>1</th>\n",
       "      <td>5.0</td>\n",
       "      <td>780.0</td>\n",
       "      <td>29.0</td>\n",
       "    </tr>\n",
       "  </tbody>\n",
       "</table>\n",
       "</div>"
      ],
      "text/plain": [
       "user_operator  MEG    МТС  МТС-WIN\n",
       "Статус                            \n",
       "0              NaN    9.0      1.0\n",
       "1              5.0  780.0     29.0"
      ]
     },
     "execution_count": 235,
     "metadata": {},
     "output_type": "execute_result"
    }
   ],
   "source": [
    "pvt_Land_1411_2_status = Land_1411_2.pivot_table(index=['Статус'], columns=['user_operator'], values='Дата ребилла', aggfunc='count')\n",
    "pvt_Land_1411_2_status"
   ]
  },
  {
   "cell_type": "code",
   "execution_count": 236,
   "metadata": {},
   "outputs": [
    {
     "data": {
      "text/html": [
       "<div>\n",
       "<style>\n",
       "    .dataframe thead tr:only-child th {\n",
       "        text-align: right;\n",
       "    }\n",
       "\n",
       "    .dataframe thead th {\n",
       "        text-align: left;\n",
       "    }\n",
       "\n",
       "    .dataframe tbody tr th {\n",
       "        vertical-align: top;\n",
       "    }\n",
       "</style>\n",
       "<table border=\"1\" class=\"dataframe\">\n",
       "  <thead>\n",
       "    <tr style=\"text-align: right;\">\n",
       "      <th>user_operator</th>\n",
       "      <th>MEG</th>\n",
       "      <th>МТС</th>\n",
       "      <th>МТС-WIN</th>\n",
       "    </tr>\n",
       "    <tr>\n",
       "      <th>Статус</th>\n",
       "      <th></th>\n",
       "      <th></th>\n",
       "      <th></th>\n",
       "    </tr>\n",
       "  </thead>\n",
       "  <tbody>\n",
       "    <tr>\n",
       "      <th>0</th>\n",
       "      <td>NaN</td>\n",
       "      <td>35.0</td>\n",
       "      <td>1.0</td>\n",
       "    </tr>\n",
       "    <tr>\n",
       "      <th>1</th>\n",
       "      <td>36.0</td>\n",
       "      <td>1771.0</td>\n",
       "      <td>67.0</td>\n",
       "    </tr>\n",
       "  </tbody>\n",
       "</table>\n",
       "</div>"
      ],
      "text/plain": [
       "user_operator   MEG     МТС  МТС-WIN\n",
       "Статус                              \n",
       "0               NaN    35.0      1.0\n",
       "1              36.0  1771.0     67.0"
      ]
     },
     "execution_count": 236,
     "metadata": {},
     "output_type": "execute_result"
    }
   ],
   "source": [
    "pvt_Land_1411_3_status = Land_1411_3.pivot_table(index=['Статус'], columns=['user_operator'], values='Дата ребилла', aggfunc='count')\n",
    "pvt_Land_1411_3_status"
   ]
  },
  {
   "cell_type": "code",
   "execution_count": 237,
   "metadata": {},
   "outputs": [
    {
     "data": {
      "text/html": [
       "<div>\n",
       "<style>\n",
       "    .dataframe thead tr:only-child th {\n",
       "        text-align: right;\n",
       "    }\n",
       "\n",
       "    .dataframe thead th {\n",
       "        text-align: left;\n",
       "    }\n",
       "\n",
       "    .dataframe tbody tr th {\n",
       "        vertical-align: top;\n",
       "    }\n",
       "</style>\n",
       "<table border=\"1\" class=\"dataframe\">\n",
       "  <thead>\n",
       "    <tr style=\"text-align: right;\">\n",
       "      <th>user_operator</th>\n",
       "      <th>МТС</th>\n",
       "    </tr>\n",
       "    <tr>\n",
       "      <th>Статус</th>\n",
       "      <th></th>\n",
       "    </tr>\n",
       "  </thead>\n",
       "  <tbody>\n",
       "    <tr>\n",
       "      <th>0</th>\n",
       "      <td>3</td>\n",
       "    </tr>\n",
       "    <tr>\n",
       "      <th>1</th>\n",
       "      <td>166</td>\n",
       "    </tr>\n",
       "  </tbody>\n",
       "</table>\n",
       "</div>"
      ],
      "text/plain": [
       "user_operator  МТС\n",
       "Статус            \n",
       "0                3\n",
       "1              166"
      ]
     },
     "execution_count": 237,
     "metadata": {},
     "output_type": "execute_result"
    }
   ],
   "source": [
    "pvt_Land_1097_1_status = Land_1097_1.pivot_table(index=['Статус'], columns=['user_operator'], values='Дата ребилла', aggfunc='count')\n",
    "pvt_Land_1097_1_status"
   ]
  },
  {
   "cell_type": "code",
   "execution_count": 238,
   "metadata": {},
   "outputs": [
    {
     "data": {
      "text/html": [
       "<div>\n",
       "<style>\n",
       "    .dataframe thead tr:only-child th {\n",
       "        text-align: right;\n",
       "    }\n",
       "\n",
       "    .dataframe thead th {\n",
       "        text-align: left;\n",
       "    }\n",
       "\n",
       "    .dataframe tbody tr th {\n",
       "        vertical-align: top;\n",
       "    }\n",
       "</style>\n",
       "<table border=\"1\" class=\"dataframe\">\n",
       "  <thead>\n",
       "    <tr style=\"text-align: right;\">\n",
       "      <th>user_operator</th>\n",
       "      <th>МТС</th>\n",
       "    </tr>\n",
       "    <tr>\n",
       "      <th>Статус</th>\n",
       "      <th></th>\n",
       "    </tr>\n",
       "  </thead>\n",
       "  <tbody>\n",
       "    <tr>\n",
       "      <th>0</th>\n",
       "      <td>4</td>\n",
       "    </tr>\n",
       "    <tr>\n",
       "      <th>1</th>\n",
       "      <td>112</td>\n",
       "    </tr>\n",
       "  </tbody>\n",
       "</table>\n",
       "</div>"
      ],
      "text/plain": [
       "user_operator  МТС\n",
       "Статус            \n",
       "0                4\n",
       "1              112"
      ]
     },
     "execution_count": 238,
     "metadata": {},
     "output_type": "execute_result"
    }
   ],
   "source": [
    "pvt_Land_1097_2_status = Land_1097_2.pivot_table(index=['Статус'], columns=['user_operator'], values='Дата ребилла', aggfunc='count')\n",
    "pvt_Land_1097_2_status"
   ]
  },
  {
   "cell_type": "code",
   "execution_count": 239,
   "metadata": {},
   "outputs": [
    {
     "data": {
      "text/html": [
       "<div>\n",
       "<style>\n",
       "    .dataframe thead tr:only-child th {\n",
       "        text-align: right;\n",
       "    }\n",
       "\n",
       "    .dataframe thead th {\n",
       "        text-align: left;\n",
       "    }\n",
       "\n",
       "    .dataframe tbody tr th {\n",
       "        vertical-align: top;\n",
       "    }\n",
       "</style>\n",
       "<table border=\"1\" class=\"dataframe\">\n",
       "  <thead>\n",
       "    <tr style=\"text-align: right;\">\n",
       "      <th>user_operator</th>\n",
       "      <th>МТС</th>\n",
       "    </tr>\n",
       "    <tr>\n",
       "      <th>Статус</th>\n",
       "      <th></th>\n",
       "    </tr>\n",
       "  </thead>\n",
       "  <tbody>\n",
       "    <tr>\n",
       "      <th>0</th>\n",
       "      <td>7</td>\n",
       "    </tr>\n",
       "    <tr>\n",
       "      <th>1</th>\n",
       "      <td>278</td>\n",
       "    </tr>\n",
       "  </tbody>\n",
       "</table>\n",
       "</div>"
      ],
      "text/plain": [
       "user_operator  МТС\n",
       "Статус            \n",
       "0                7\n",
       "1              278"
      ]
     },
     "execution_count": 239,
     "metadata": {},
     "output_type": "execute_result"
    }
   ],
   "source": [
    "pvt_Land_1097_3_status = Land_1097_3.pivot_table(index=['Статус'], columns=['user_operator'], values='Дата ребилла', aggfunc='count')\n",
    "pvt_Land_1097_3_status"
   ]
  },
  {
   "cell_type": "code",
   "execution_count": 240,
   "metadata": {},
   "outputs": [
    {
     "data": {
      "text/html": [
       "<div>\n",
       "<style>\n",
       "    .dataframe thead tr:only-child th {\n",
       "        text-align: right;\n",
       "    }\n",
       "\n",
       "    .dataframe thead th {\n",
       "        text-align: left;\n",
       "    }\n",
       "\n",
       "    .dataframe tbody tr th {\n",
       "        vertical-align: top;\n",
       "    }\n",
       "</style>\n",
       "<table border=\"1\" class=\"dataframe\">\n",
       "  <thead>\n",
       "    <tr style=\"text-align: right;\">\n",
       "      <th>user_operator</th>\n",
       "      <th>МТС</th>\n",
       "    </tr>\n",
       "    <tr>\n",
       "      <th>Статус</th>\n",
       "      <th></th>\n",
       "    </tr>\n",
       "  </thead>\n",
       "  <tbody>\n",
       "    <tr>\n",
       "      <th>1</th>\n",
       "      <td>54</td>\n",
       "    </tr>\n",
       "  </tbody>\n",
       "</table>\n",
       "</div>"
      ],
      "text/plain": [
       "user_operator  МТС\n",
       "Статус            \n",
       "1               54"
      ]
     },
     "execution_count": 240,
     "metadata": {},
     "output_type": "execute_result"
    }
   ],
   "source": [
    "pvt_Land_1121_1_status = Land_1121_1.pivot_table(index=['Статус'], columns=['user_operator'], values='Дата ребилла', aggfunc='count')\n",
    "pvt_Land_1121_1_status"
   ]
  },
  {
   "cell_type": "code",
   "execution_count": 241,
   "metadata": {},
   "outputs": [
    {
     "data": {
      "text/html": [
       "<div>\n",
       "<style>\n",
       "    .dataframe thead tr:only-child th {\n",
       "        text-align: right;\n",
       "    }\n",
       "\n",
       "    .dataframe thead th {\n",
       "        text-align: left;\n",
       "    }\n",
       "\n",
       "    .dataframe tbody tr th {\n",
       "        vertical-align: top;\n",
       "    }\n",
       "</style>\n",
       "<table border=\"1\" class=\"dataframe\">\n",
       "  <thead>\n",
       "    <tr style=\"text-align: right;\">\n",
       "      <th>user_operator</th>\n",
       "      <th>МТС</th>\n",
       "    </tr>\n",
       "    <tr>\n",
       "      <th>Статус</th>\n",
       "      <th></th>\n",
       "    </tr>\n",
       "  </thead>\n",
       "  <tbody>\n",
       "    <tr>\n",
       "      <th>1</th>\n",
       "      <td>48</td>\n",
       "    </tr>\n",
       "  </tbody>\n",
       "</table>\n",
       "</div>"
      ],
      "text/plain": [
       "user_operator  МТС\n",
       "Статус            \n",
       "1               48"
      ]
     },
     "execution_count": 241,
     "metadata": {},
     "output_type": "execute_result"
    }
   ],
   "source": [
    "pvt_Land_1121_2_status = Land_1121_2.pivot_table(index=['Статус'], columns=['user_operator'], values='Дата ребилла', aggfunc='count')\n",
    "pvt_Land_1121_2_status"
   ]
  },
  {
   "cell_type": "code",
   "execution_count": 242,
   "metadata": {},
   "outputs": [
    {
     "data": {
      "text/html": [
       "<div>\n",
       "<style>\n",
       "    .dataframe thead tr:only-child th {\n",
       "        text-align: right;\n",
       "    }\n",
       "\n",
       "    .dataframe thead th {\n",
       "        text-align: left;\n",
       "    }\n",
       "\n",
       "    .dataframe tbody tr th {\n",
       "        vertical-align: top;\n",
       "    }\n",
       "</style>\n",
       "<table border=\"1\" class=\"dataframe\">\n",
       "  <thead>\n",
       "    <tr style=\"text-align: right;\">\n",
       "      <th>user_operator</th>\n",
       "      <th>МТС</th>\n",
       "    </tr>\n",
       "    <tr>\n",
       "      <th>Статус</th>\n",
       "      <th></th>\n",
       "    </tr>\n",
       "  </thead>\n",
       "  <tbody>\n",
       "    <tr>\n",
       "      <th>1</th>\n",
       "      <td>102</td>\n",
       "    </tr>\n",
       "  </tbody>\n",
       "</table>\n",
       "</div>"
      ],
      "text/plain": [
       "user_operator  МТС\n",
       "Статус            \n",
       "1              102"
      ]
     },
     "execution_count": 242,
     "metadata": {},
     "output_type": "execute_result"
    }
   ],
   "source": [
    "pvt_Land_1121_3_status = Land_1121_3.pivot_table(index=['Статус'], columns=['user_operator'], values='Дата ребилла', aggfunc='count')\n",
    "pvt_Land_1121_3_status"
   ]
  },
  {
   "cell_type": "code",
   "execution_count": 243,
   "metadata": {},
   "outputs": [
    {
     "data": {
      "text/html": [
       "<div>\n",
       "<style>\n",
       "    .dataframe thead tr:only-child th {\n",
       "        text-align: right;\n",
       "    }\n",
       "\n",
       "    .dataframe thead th {\n",
       "        text-align: left;\n",
       "    }\n",
       "\n",
       "    .dataframe tbody tr th {\n",
       "        vertical-align: top;\n",
       "    }\n",
       "</style>\n",
       "<table border=\"1\" class=\"dataframe\">\n",
       "  <thead>\n",
       "    <tr style=\"text-align: right;\">\n",
       "      <th>user_operator</th>\n",
       "      <th>МТС</th>\n",
       "    </tr>\n",
       "    <tr>\n",
       "      <th>Статус</th>\n",
       "      <th></th>\n",
       "    </tr>\n",
       "  </thead>\n",
       "  <tbody>\n",
       "    <tr>\n",
       "      <th>1</th>\n",
       "      <td>13</td>\n",
       "    </tr>\n",
       "  </tbody>\n",
       "</table>\n",
       "</div>"
      ],
      "text/plain": [
       "user_operator  МТС\n",
       "Статус            \n",
       "1               13"
      ]
     },
     "execution_count": 243,
     "metadata": {},
     "output_type": "execute_result"
    }
   ],
   "source": [
    "pvt_Land_1120_1_status = Land_1120_1.pivot_table(index=['Статус'], columns=['user_operator'], values='Дата ребилла', aggfunc='count')\n",
    "pvt_Land_1120_1_status"
   ]
  },
  {
   "cell_type": "code",
   "execution_count": 244,
   "metadata": {},
   "outputs": [
    {
     "data": {
      "text/html": [
       "<div>\n",
       "<style>\n",
       "    .dataframe thead tr:only-child th {\n",
       "        text-align: right;\n",
       "    }\n",
       "\n",
       "    .dataframe thead th {\n",
       "        text-align: left;\n",
       "    }\n",
       "\n",
       "    .dataframe tbody tr th {\n",
       "        vertical-align: top;\n",
       "    }\n",
       "</style>\n",
       "<table border=\"1\" class=\"dataframe\">\n",
       "  <thead>\n",
       "    <tr style=\"text-align: right;\">\n",
       "      <th>user_operator</th>\n",
       "      <th>МТС</th>\n",
       "    </tr>\n",
       "    <tr>\n",
       "      <th>Статус</th>\n",
       "      <th></th>\n",
       "    </tr>\n",
       "  </thead>\n",
       "  <tbody>\n",
       "    <tr>\n",
       "      <th>1</th>\n",
       "      <td>10</td>\n",
       "    </tr>\n",
       "  </tbody>\n",
       "</table>\n",
       "</div>"
      ],
      "text/plain": [
       "user_operator  МТС\n",
       "Статус            \n",
       "1               10"
      ]
     },
     "execution_count": 244,
     "metadata": {},
     "output_type": "execute_result"
    }
   ],
   "source": [
    "pvt_Land_1120_2_status = Land_1120_2.pivot_table(index=['Статус'], columns=['user_operator'], values='Дата ребилла', aggfunc='count')\n",
    "pvt_Land_1120_2_status"
   ]
  },
  {
   "cell_type": "code",
   "execution_count": 246,
   "metadata": {},
   "outputs": [
    {
     "data": {
      "text/html": [
       "<div>\n",
       "<style>\n",
       "    .dataframe thead tr:only-child th {\n",
       "        text-align: right;\n",
       "    }\n",
       "\n",
       "    .dataframe thead th {\n",
       "        text-align: left;\n",
       "    }\n",
       "\n",
       "    .dataframe tbody tr th {\n",
       "        vertical-align: top;\n",
       "    }\n",
       "</style>\n",
       "<table border=\"1\" class=\"dataframe\">\n",
       "  <thead>\n",
       "    <tr style=\"text-align: right;\">\n",
       "      <th>user_operator</th>\n",
       "      <th>МТС</th>\n",
       "    </tr>\n",
       "    <tr>\n",
       "      <th>Статус</th>\n",
       "      <th></th>\n",
       "    </tr>\n",
       "  </thead>\n",
       "  <tbody>\n",
       "    <tr>\n",
       "      <th>1</th>\n",
       "      <td>23</td>\n",
       "    </tr>\n",
       "  </tbody>\n",
       "</table>\n",
       "</div>"
      ],
      "text/plain": [
       "user_operator  МТС\n",
       "Статус            \n",
       "1               23"
      ]
     },
     "execution_count": 246,
     "metadata": {},
     "output_type": "execute_result"
    }
   ],
   "source": [
    "pvt_Land_1120_3_status = Land_1120_3.pivot_table(index=['Статус'], columns=['user_operator'], values='Дата ребилла', aggfunc='count')\n",
    "pvt_Land_1120_3_status"
   ]
  },
  {
   "cell_type": "code",
   "execution_count": 247,
   "metadata": {},
   "outputs": [
    {
     "data": {
      "text/html": [
       "<div>\n",
       "<style>\n",
       "    .dataframe thead tr:only-child th {\n",
       "        text-align: right;\n",
       "    }\n",
       "\n",
       "    .dataframe thead th {\n",
       "        text-align: left;\n",
       "    }\n",
       "\n",
       "    .dataframe tbody tr th {\n",
       "        vertical-align: top;\n",
       "    }\n",
       "</style>\n",
       "<table border=\"1\" class=\"dataframe\">\n",
       "  <thead>\n",
       "    <tr style=\"text-align: right;\">\n",
       "      <th>user_operator</th>\n",
       "      <th>МТС</th>\n",
       "    </tr>\n",
       "    <tr>\n",
       "      <th>Статус</th>\n",
       "      <th></th>\n",
       "    </tr>\n",
       "  </thead>\n",
       "  <tbody>\n",
       "    <tr>\n",
       "      <th>1</th>\n",
       "      <td>16</td>\n",
       "    </tr>\n",
       "  </tbody>\n",
       "</table>\n",
       "</div>"
      ],
      "text/plain": [
       "user_operator  МТС\n",
       "Статус            \n",
       "1               16"
      ]
     },
     "execution_count": 247,
     "metadata": {},
     "output_type": "execute_result"
    }
   ],
   "source": [
    "pvt_Land_1012_1_status = Land_1012_1.pivot_table(index=['Статус'], columns=['user_operator'], values='Дата ребилла', aggfunc='count')\n",
    "pvt_Land_1012_1_status"
   ]
  },
  {
   "cell_type": "code",
   "execution_count": 248,
   "metadata": {},
   "outputs": [
    {
     "data": {
      "text/html": [
       "<div>\n",
       "<style>\n",
       "    .dataframe thead tr:only-child th {\n",
       "        text-align: right;\n",
       "    }\n",
       "\n",
       "    .dataframe thead th {\n",
       "        text-align: left;\n",
       "    }\n",
       "\n",
       "    .dataframe tbody tr th {\n",
       "        vertical-align: top;\n",
       "    }\n",
       "</style>\n",
       "<table border=\"1\" class=\"dataframe\">\n",
       "  <thead>\n",
       "    <tr style=\"text-align: right;\">\n",
       "      <th>user_operator</th>\n",
       "      <th>МТС</th>\n",
       "    </tr>\n",
       "    <tr>\n",
       "      <th>Статус</th>\n",
       "      <th></th>\n",
       "    </tr>\n",
       "  </thead>\n",
       "  <tbody>\n",
       "    <tr>\n",
       "      <th>0</th>\n",
       "      <td>1</td>\n",
       "    </tr>\n",
       "  </tbody>\n",
       "</table>\n",
       "</div>"
      ],
      "text/plain": [
       "user_operator  МТС\n",
       "Статус            \n",
       "0                1"
      ]
     },
     "execution_count": 248,
     "metadata": {},
     "output_type": "execute_result"
    }
   ],
   "source": [
    "pvt_Land_1012_2_status = Land_1012_2.pivot_table(index=['Статус'], columns=['user_operator'], values='Дата ребилла', aggfunc='count')\n",
    "pvt_Land_1012_2_status"
   ]
  },
  {
   "cell_type": "code",
   "execution_count": 249,
   "metadata": {},
   "outputs": [
    {
     "data": {
      "text/html": [
       "<div>\n",
       "<style>\n",
       "    .dataframe thead tr:only-child th {\n",
       "        text-align: right;\n",
       "    }\n",
       "\n",
       "    .dataframe thead th {\n",
       "        text-align: left;\n",
       "    }\n",
       "\n",
       "    .dataframe tbody tr th {\n",
       "        vertical-align: top;\n",
       "    }\n",
       "</style>\n",
       "<table border=\"1\" class=\"dataframe\">\n",
       "  <thead>\n",
       "    <tr style=\"text-align: right;\">\n",
       "      <th>user_operator</th>\n",
       "      <th>МТС</th>\n",
       "    </tr>\n",
       "    <tr>\n",
       "      <th>Статус</th>\n",
       "      <th></th>\n",
       "    </tr>\n",
       "  </thead>\n",
       "  <tbody>\n",
       "    <tr>\n",
       "      <th>0</th>\n",
       "      <td>1</td>\n",
       "    </tr>\n",
       "    <tr>\n",
       "      <th>1</th>\n",
       "      <td>16</td>\n",
       "    </tr>\n",
       "  </tbody>\n",
       "</table>\n",
       "</div>"
      ],
      "text/plain": [
       "user_operator  МТС\n",
       "Статус            \n",
       "0                1\n",
       "1               16"
      ]
     },
     "execution_count": 249,
     "metadata": {},
     "output_type": "execute_result"
    }
   ],
   "source": [
    "pvt_Land_1012_3_status = Land_1012_3.pivot_table(index=['Статус'], columns=['user_operator'], values='Дата ребилла', aggfunc='count')\n",
    "pvt_Land_1012_3_status"
   ]
  },
  {
   "cell_type": "code",
   "execution_count": 250,
   "metadata": {},
   "outputs": [
    {
     "data": {
      "text/html": [
       "<div>\n",
       "<style>\n",
       "    .dataframe thead tr:only-child th {\n",
       "        text-align: right;\n",
       "    }\n",
       "\n",
       "    .dataframe thead th {\n",
       "        text-align: left;\n",
       "    }\n",
       "\n",
       "    .dataframe tbody tr th {\n",
       "        vertical-align: top;\n",
       "    }\n",
       "</style>\n",
       "<table border=\"1\" class=\"dataframe\">\n",
       "  <thead>\n",
       "    <tr style=\"text-align: right;\">\n",
       "      <th>user_operator</th>\n",
       "      <th>МТС</th>\n",
       "    </tr>\n",
       "    <tr>\n",
       "      <th>Статус</th>\n",
       "      <th></th>\n",
       "    </tr>\n",
       "  </thead>\n",
       "  <tbody>\n",
       "    <tr>\n",
       "      <th>1</th>\n",
       "      <td>2</td>\n",
       "    </tr>\n",
       "  </tbody>\n",
       "</table>\n",
       "</div>"
      ],
      "text/plain": [
       "user_operator  МТС\n",
       "Статус            \n",
       "1                2"
      ]
     },
     "execution_count": 250,
     "metadata": {},
     "output_type": "execute_result"
    }
   ],
   "source": [
    "pvt_Land_1096_1_status = Land_1096_1.pivot_table(index=['Статус'], columns=['user_operator'], values='Дата ребилла', aggfunc='count')\n",
    "pvt_Land_1096_1_status"
   ]
  },
  {
   "cell_type": "code",
   "execution_count": 251,
   "metadata": {},
   "outputs": [
    {
     "data": {
      "text/html": [
       "<div>\n",
       "<style>\n",
       "    .dataframe thead tr:only-child th {\n",
       "        text-align: right;\n",
       "    }\n",
       "\n",
       "    .dataframe thead th {\n",
       "        text-align: left;\n",
       "    }\n",
       "\n",
       "    .dataframe tbody tr th {\n",
       "        vertical-align: top;\n",
       "    }\n",
       "</style>\n",
       "<table border=\"1\" class=\"dataframe\">\n",
       "  <thead>\n",
       "    <tr style=\"text-align: right;\">\n",
       "      <th>user_operator</th>\n",
       "      <th>МТС</th>\n",
       "    </tr>\n",
       "    <tr>\n",
       "      <th>Статус</th>\n",
       "      <th></th>\n",
       "    </tr>\n",
       "  </thead>\n",
       "  <tbody>\n",
       "    <tr>\n",
       "      <th>1</th>\n",
       "      <td>1</td>\n",
       "    </tr>\n",
       "  </tbody>\n",
       "</table>\n",
       "</div>"
      ],
      "text/plain": [
       "user_operator  МТС\n",
       "Статус            \n",
       "1                1"
      ]
     },
     "execution_count": 251,
     "metadata": {},
     "output_type": "execute_result"
    }
   ],
   "source": [
    "pvt_Land_1096_2_status = Land_1096_2.pivot_table(index=['Статус'], columns=['user_operator'], values='Дата ребилла', aggfunc='count')\n",
    "pvt_Land_1096_2_status"
   ]
  },
  {
   "cell_type": "code",
   "execution_count": 252,
   "metadata": {},
   "outputs": [
    {
     "data": {
      "text/html": [
       "<div>\n",
       "<style>\n",
       "    .dataframe thead tr:only-child th {\n",
       "        text-align: right;\n",
       "    }\n",
       "\n",
       "    .dataframe thead th {\n",
       "        text-align: left;\n",
       "    }\n",
       "\n",
       "    .dataframe tbody tr th {\n",
       "        vertical-align: top;\n",
       "    }\n",
       "</style>\n",
       "<table border=\"1\" class=\"dataframe\">\n",
       "  <thead>\n",
       "    <tr style=\"text-align: right;\">\n",
       "      <th>user_operator</th>\n",
       "      <th>МТС</th>\n",
       "    </tr>\n",
       "    <tr>\n",
       "      <th>Статус</th>\n",
       "      <th></th>\n",
       "    </tr>\n",
       "  </thead>\n",
       "  <tbody>\n",
       "    <tr>\n",
       "      <th>1</th>\n",
       "      <td>3</td>\n",
       "    </tr>\n",
       "  </tbody>\n",
       "</table>\n",
       "</div>"
      ],
      "text/plain": [
       "user_operator  МТС\n",
       "Статус            \n",
       "1                3"
      ]
     },
     "execution_count": 252,
     "metadata": {},
     "output_type": "execute_result"
    }
   ],
   "source": [
    "pvt_Land_1096_3_status = Land_1096_3.pivot_table(index=['Статус'], columns=['user_operator'], values='Дата ребилла', aggfunc='count')\n",
    "pvt_Land_1096_3_status"
   ]
  },
  {
   "cell_type": "code",
   "execution_count": 253,
   "metadata": {},
   "outputs": [
    {
     "data": {
      "text/html": [
       "<div>\n",
       "<style>\n",
       "    .dataframe thead tr:only-child th {\n",
       "        text-align: right;\n",
       "    }\n",
       "\n",
       "    .dataframe thead th {\n",
       "        text-align: left;\n",
       "    }\n",
       "\n",
       "    .dataframe tbody tr th {\n",
       "        vertical-align: top;\n",
       "    }\n",
       "</style>\n",
       "<table border=\"1\" class=\"dataframe\">\n",
       "  <thead>\n",
       "    <tr style=\"text-align: right;\">\n",
       "      <th>user_operator</th>\n",
       "      <th>МТС</th>\n",
       "    </tr>\n",
       "    <tr>\n",
       "      <th>Статус</th>\n",
       "      <th></th>\n",
       "    </tr>\n",
       "  </thead>\n",
       "  <tbody>\n",
       "    <tr>\n",
       "      <th>1</th>\n",
       "      <td>1</td>\n",
       "    </tr>\n",
       "  </tbody>\n",
       "</table>\n",
       "</div>"
      ],
      "text/plain": [
       "user_operator  МТС\n",
       "Статус            \n",
       "1                1"
      ]
     },
     "execution_count": 253,
     "metadata": {},
     "output_type": "execute_result"
    }
   ],
   "source": [
    "pvt_Land_1119_1_status = Land_1119_1.pivot_table(index=['Статус'], columns=['user_operator'], values='Дата ребилла', aggfunc='count')\n",
    "pvt_Land_1119_1_status"
   ]
  },
  {
   "cell_type": "code",
   "execution_count": 254,
   "metadata": {},
   "outputs": [
    {
     "data": {
      "text/html": [
       "<div>\n",
       "<style>\n",
       "    .dataframe thead tr:only-child th {\n",
       "        text-align: right;\n",
       "    }\n",
       "\n",
       "    .dataframe thead th {\n",
       "        text-align: left;\n",
       "    }\n",
       "\n",
       "    .dataframe tbody tr th {\n",
       "        vertical-align: top;\n",
       "    }\n",
       "</style>\n",
       "<table border=\"1\" class=\"dataframe\">\n",
       "  <thead>\n",
       "    <tr style=\"text-align: right;\">\n",
       "      <th>user_operator</th>\n",
       "      <th>МТС</th>\n",
       "    </tr>\n",
       "    <tr>\n",
       "      <th>Статус</th>\n",
       "      <th></th>\n",
       "    </tr>\n",
       "  </thead>\n",
       "  <tbody>\n",
       "    <tr>\n",
       "      <th>1</th>\n",
       "      <td>1</td>\n",
       "    </tr>\n",
       "  </tbody>\n",
       "</table>\n",
       "</div>"
      ],
      "text/plain": [
       "user_operator  МТС\n",
       "Статус            \n",
       "1                1"
      ]
     },
     "execution_count": 254,
     "metadata": {},
     "output_type": "execute_result"
    }
   ],
   "source": [
    "pvt_Land_1119_3_status = Land_1119_3.pivot_table(index=['Статус'], columns=['user_operator'], values='Дата ребилла', aggfunc='count')\n",
    "pvt_Land_1119_3_status"
   ]
  },
  {
   "cell_type": "code",
   "execution_count": null,
   "metadata": {
    "collapsed": true
   },
   "outputs": [],
   "source": [
    "Сводка №4. Коды ошибок по пользователям."
   ]
  },
  {
   "cell_type": "code",
   "execution_count": 257,
   "metadata": {},
   "outputs": [
    {
     "data": {
      "text/html": [
       "<div>\n",
       "<style>\n",
       "    .dataframe thead tr:only-child th {\n",
       "        text-align: right;\n",
       "    }\n",
       "\n",
       "    .dataframe thead th {\n",
       "        text-align: left;\n",
       "    }\n",
       "\n",
       "    .dataframe tbody tr th {\n",
       "        vertical-align: top;\n",
       "    }\n",
       "</style>\n",
       "<table border=\"1\" class=\"dataframe\">\n",
       "  <thead>\n",
       "    <tr style=\"text-align: right;\">\n",
       "      <th>user_operator</th>\n",
       "      <th>BEE</th>\n",
       "      <th>MEG</th>\n",
       "      <th>MEG_SMART</th>\n",
       "      <th>MIX_TELECOM</th>\n",
       "      <th>TELE2</th>\n",
       "      <th>YOTA_MEG</th>\n",
       "      <th>YOTA_TELE2</th>\n",
       "      <th>МТС</th>\n",
       "      <th>МТС-WIN</th>\n",
       "    </tr>\n",
       "    <tr>\n",
       "      <th>Код ошибки</th>\n",
       "      <th></th>\n",
       "      <th></th>\n",
       "      <th></th>\n",
       "      <th></th>\n",
       "      <th></th>\n",
       "      <th></th>\n",
       "      <th></th>\n",
       "      <th></th>\n",
       "      <th></th>\n",
       "    </tr>\n",
       "  </thead>\n",
       "  <tbody>\n",
       "    <tr>\n",
       "      <th>0</th>\n",
       "      <td>2714.0</td>\n",
       "      <td>3316.0</td>\n",
       "      <td>1.0</td>\n",
       "      <td>593.0</td>\n",
       "      <td>1486.0</td>\n",
       "      <td>107.0</td>\n",
       "      <td>7.0</td>\n",
       "      <td>452636.0</td>\n",
       "      <td>10082.0</td>\n",
       "    </tr>\n",
       "    <tr>\n",
       "      <th>8</th>\n",
       "      <td>1.0</td>\n",
       "      <td>2.0</td>\n",
       "      <td>NaN</td>\n",
       "      <td>NaN</td>\n",
       "      <td>1.0</td>\n",
       "      <td>NaN</td>\n",
       "      <td>NaN</td>\n",
       "      <td>192.0</td>\n",
       "      <td>3.0</td>\n",
       "    </tr>\n",
       "    <tr>\n",
       "      <th>50</th>\n",
       "      <td>NaN</td>\n",
       "      <td>NaN</td>\n",
       "      <td>NaN</td>\n",
       "      <td>NaN</td>\n",
       "      <td>NaN</td>\n",
       "      <td>NaN</td>\n",
       "      <td>NaN</td>\n",
       "      <td>15.0</td>\n",
       "      <td>NaN</td>\n",
       "    </tr>\n",
       "    <tr>\n",
       "      <th>51</th>\n",
       "      <td>3.0</td>\n",
       "      <td>4.0</td>\n",
       "      <td>NaN</td>\n",
       "      <td>3.0</td>\n",
       "      <td>5.0</td>\n",
       "      <td>NaN</td>\n",
       "      <td>NaN</td>\n",
       "      <td>1955.0</td>\n",
       "      <td>14.0</td>\n",
       "    </tr>\n",
       "    <tr>\n",
       "      <th>52</th>\n",
       "      <td>19.0</td>\n",
       "      <td>19.0</td>\n",
       "      <td>NaN</td>\n",
       "      <td>NaN</td>\n",
       "      <td>18.0</td>\n",
       "      <td>2.0</td>\n",
       "      <td>NaN</td>\n",
       "      <td>8225.0</td>\n",
       "      <td>193.0</td>\n",
       "    </tr>\n",
       "    <tr>\n",
       "      <th>101</th>\n",
       "      <td>NaN</td>\n",
       "      <td>NaN</td>\n",
       "      <td>NaN</td>\n",
       "      <td>NaN</td>\n",
       "      <td>NaN</td>\n",
       "      <td>NaN</td>\n",
       "      <td>NaN</td>\n",
       "      <td>1.0</td>\n",
       "      <td>NaN</td>\n",
       "    </tr>\n",
       "    <tr>\n",
       "      <th>102</th>\n",
       "      <td>163.0</td>\n",
       "      <td>226.0</td>\n",
       "      <td>NaN</td>\n",
       "      <td>NaN</td>\n",
       "      <td>203.0</td>\n",
       "      <td>3.0</td>\n",
       "      <td>NaN</td>\n",
       "      <td>41941.0</td>\n",
       "      <td>620.0</td>\n",
       "    </tr>\n",
       "    <tr>\n",
       "      <th>356</th>\n",
       "      <td>243.0</td>\n",
       "      <td>322.0</td>\n",
       "      <td>3.0</td>\n",
       "      <td>1.0</td>\n",
       "      <td>167.0</td>\n",
       "      <td>8.0</td>\n",
       "      <td>NaN</td>\n",
       "      <td>1238.0</td>\n",
       "      <td>2.0</td>\n",
       "    </tr>\n",
       "    <tr>\n",
       "      <th>1001</th>\n",
       "      <td>NaN</td>\n",
       "      <td>NaN</td>\n",
       "      <td>NaN</td>\n",
       "      <td>NaN</td>\n",
       "      <td>NaN</td>\n",
       "      <td>NaN</td>\n",
       "      <td>NaN</td>\n",
       "      <td>1.0</td>\n",
       "      <td>NaN</td>\n",
       "    </tr>\n",
       "  </tbody>\n",
       "</table>\n",
       "</div>"
      ],
      "text/plain": [
       "user_operator     BEE     MEG  MEG_SMART  MIX_TELECOM   TELE2  YOTA_MEG  \\\n",
       "Код ошибки                                                                \n",
       "0              2714.0  3316.0        1.0        593.0  1486.0     107.0   \n",
       "8                 1.0     2.0        NaN          NaN     1.0       NaN   \n",
       "50                NaN     NaN        NaN          NaN     NaN       NaN   \n",
       "51                3.0     4.0        NaN          3.0     5.0       NaN   \n",
       "52               19.0    19.0        NaN          NaN    18.0       2.0   \n",
       "101               NaN     NaN        NaN          NaN     NaN       NaN   \n",
       "102             163.0   226.0        NaN          NaN   203.0       3.0   \n",
       "356             243.0   322.0        3.0          1.0   167.0       8.0   \n",
       "1001              NaN     NaN        NaN          NaN     NaN       NaN   \n",
       "\n",
       "user_operator  YOTA_TELE2       МТС  МТС-WIN  \n",
       "Код ошибки                                    \n",
       "0                     7.0  452636.0  10082.0  \n",
       "8                     NaN     192.0      3.0  \n",
       "50                    NaN      15.0      NaN  \n",
       "51                    NaN    1955.0     14.0  \n",
       "52                    NaN    8225.0    193.0  \n",
       "101                   NaN       1.0      NaN  \n",
       "102                   NaN   41941.0    620.0  \n",
       "356                   NaN    1238.0      2.0  \n",
       "1001                  NaN       1.0      NaN  "
      ]
     },
     "execution_count": 257,
     "metadata": {},
     "output_type": "execute_result"
    }
   ],
   "source": [
    "pvt_Land_1521_1_error_code = Land_1521_1.pivot_table(index=['Код ошибки'], columns=['user_operator'], values='Дата ребилла', aggfunc='count')\n",
    "pvt_Land_1521_1_error_code"
   ]
  },
  {
   "cell_type": "code",
   "execution_count": 258,
   "metadata": {},
   "outputs": [
    {
     "data": {
      "text/html": [
       "<div>\n",
       "<style>\n",
       "    .dataframe thead tr:only-child th {\n",
       "        text-align: right;\n",
       "    }\n",
       "\n",
       "    .dataframe thead th {\n",
       "        text-align: left;\n",
       "    }\n",
       "\n",
       "    .dataframe tbody tr th {\n",
       "        vertical-align: top;\n",
       "    }\n",
       "</style>\n",
       "<table border=\"1\" class=\"dataframe\">\n",
       "  <thead>\n",
       "    <tr style=\"text-align: right;\">\n",
       "      <th>user_operator</th>\n",
       "      <th>BEE</th>\n",
       "      <th>MEG</th>\n",
       "      <th>MEG_SMART</th>\n",
       "      <th>MIX_TELECOM</th>\n",
       "      <th>TELE2</th>\n",
       "      <th>YOTA_MEG</th>\n",
       "      <th>YOTA_TELE2</th>\n",
       "      <th>МТС</th>\n",
       "      <th>МТС-WIN</th>\n",
       "    </tr>\n",
       "    <tr>\n",
       "      <th>Код ошибки</th>\n",
       "      <th></th>\n",
       "      <th></th>\n",
       "      <th></th>\n",
       "      <th></th>\n",
       "      <th></th>\n",
       "      <th></th>\n",
       "      <th></th>\n",
       "      <th></th>\n",
       "      <th></th>\n",
       "    </tr>\n",
       "  </thead>\n",
       "  <tbody>\n",
       "    <tr>\n",
       "      <th>0</th>\n",
       "      <td>1750.0</td>\n",
       "      <td>2297.0</td>\n",
       "      <td>1.0</td>\n",
       "      <td>638.0</td>\n",
       "      <td>1133.0</td>\n",
       "      <td>52.0</td>\n",
       "      <td>15.0</td>\n",
       "      <td>342281.0</td>\n",
       "      <td>10117.0</td>\n",
       "    </tr>\n",
       "    <tr>\n",
       "      <th>8</th>\n",
       "      <td>1.0</td>\n",
       "      <td>2.0</td>\n",
       "      <td>NaN</td>\n",
       "      <td>NaN</td>\n",
       "      <td>NaN</td>\n",
       "      <td>NaN</td>\n",
       "      <td>NaN</td>\n",
       "      <td>379.0</td>\n",
       "      <td>6.0</td>\n",
       "    </tr>\n",
       "    <tr>\n",
       "      <th>50</th>\n",
       "      <td>NaN</td>\n",
       "      <td>NaN</td>\n",
       "      <td>NaN</td>\n",
       "      <td>NaN</td>\n",
       "      <td>NaN</td>\n",
       "      <td>NaN</td>\n",
       "      <td>NaN</td>\n",
       "      <td>14.0</td>\n",
       "      <td>NaN</td>\n",
       "    </tr>\n",
       "    <tr>\n",
       "      <th>51</th>\n",
       "      <td>4.0</td>\n",
       "      <td>6.0</td>\n",
       "      <td>NaN</td>\n",
       "      <td>5.0</td>\n",
       "      <td>4.0</td>\n",
       "      <td>NaN</td>\n",
       "      <td>NaN</td>\n",
       "      <td>2986.0</td>\n",
       "      <td>17.0</td>\n",
       "    </tr>\n",
       "    <tr>\n",
       "      <th>52</th>\n",
       "      <td>19.0</td>\n",
       "      <td>20.0</td>\n",
       "      <td>NaN</td>\n",
       "      <td>NaN</td>\n",
       "      <td>21.0</td>\n",
       "      <td>2.0</td>\n",
       "      <td>NaN</td>\n",
       "      <td>10900.0</td>\n",
       "      <td>285.0</td>\n",
       "    </tr>\n",
       "    <tr>\n",
       "      <th>53</th>\n",
       "      <td>NaN</td>\n",
       "      <td>NaN</td>\n",
       "      <td>NaN</td>\n",
       "      <td>NaN</td>\n",
       "      <td>NaN</td>\n",
       "      <td>NaN</td>\n",
       "      <td>NaN</td>\n",
       "      <td>1.0</td>\n",
       "      <td>NaN</td>\n",
       "    </tr>\n",
       "    <tr>\n",
       "      <th>102</th>\n",
       "      <td>139.0</td>\n",
       "      <td>183.0</td>\n",
       "      <td>NaN</td>\n",
       "      <td>1.0</td>\n",
       "      <td>129.0</td>\n",
       "      <td>8.0</td>\n",
       "      <td>1.0</td>\n",
       "      <td>28685.0</td>\n",
       "      <td>518.0</td>\n",
       "    </tr>\n",
       "    <tr>\n",
       "      <th>103</th>\n",
       "      <td>NaN</td>\n",
       "      <td>NaN</td>\n",
       "      <td>NaN</td>\n",
       "      <td>NaN</td>\n",
       "      <td>NaN</td>\n",
       "      <td>NaN</td>\n",
       "      <td>NaN</td>\n",
       "      <td>5.0</td>\n",
       "      <td>NaN</td>\n",
       "    </tr>\n",
       "    <tr>\n",
       "      <th>356</th>\n",
       "      <td>461.0</td>\n",
       "      <td>781.0</td>\n",
       "      <td>1.0</td>\n",
       "      <td>NaN</td>\n",
       "      <td>188.0</td>\n",
       "      <td>NaN</td>\n",
       "      <td>9.0</td>\n",
       "      <td>1492.0</td>\n",
       "      <td>11.0</td>\n",
       "    </tr>\n",
       "  </tbody>\n",
       "</table>\n",
       "</div>"
      ],
      "text/plain": [
       "user_operator     BEE     MEG  MEG_SMART  MIX_TELECOM   TELE2  YOTA_MEG  \\\n",
       "Код ошибки                                                                \n",
       "0              1750.0  2297.0        1.0        638.0  1133.0      52.0   \n",
       "8                 1.0     2.0        NaN          NaN     NaN       NaN   \n",
       "50                NaN     NaN        NaN          NaN     NaN       NaN   \n",
       "51                4.0     6.0        NaN          5.0     4.0       NaN   \n",
       "52               19.0    20.0        NaN          NaN    21.0       2.0   \n",
       "53                NaN     NaN        NaN          NaN     NaN       NaN   \n",
       "102             139.0   183.0        NaN          1.0   129.0       8.0   \n",
       "103               NaN     NaN        NaN          NaN     NaN       NaN   \n",
       "356             461.0   781.0        1.0          NaN   188.0       NaN   \n",
       "\n",
       "user_operator  YOTA_TELE2       МТС  МТС-WIN  \n",
       "Код ошибки                                    \n",
       "0                    15.0  342281.0  10117.0  \n",
       "8                     NaN     379.0      6.0  \n",
       "50                    NaN      14.0      NaN  \n",
       "51                    NaN    2986.0     17.0  \n",
       "52                    NaN   10900.0    285.0  \n",
       "53                    NaN       1.0      NaN  \n",
       "102                   1.0   28685.0    518.0  \n",
       "103                   NaN       5.0      NaN  \n",
       "356                   9.0    1492.0     11.0  "
      ]
     },
     "execution_count": 258,
     "metadata": {},
     "output_type": "execute_result"
    }
   ],
   "source": [
    "pvt_Land_1521_2_error_code = Land_1521_2.pivot_table(index=['Код ошибки'], columns=['user_operator'], values='Дата ребилла', aggfunc='count')\n",
    "pvt_Land_1521_2_error_code"
   ]
  },
  {
   "cell_type": "code",
   "execution_count": 259,
   "metadata": {},
   "outputs": [
    {
     "data": {
      "text/html": [
       "<div>\n",
       "<style>\n",
       "    .dataframe thead tr:only-child th {\n",
       "        text-align: right;\n",
       "    }\n",
       "\n",
       "    .dataframe thead th {\n",
       "        text-align: left;\n",
       "    }\n",
       "\n",
       "    .dataframe tbody tr th {\n",
       "        vertical-align: top;\n",
       "    }\n",
       "</style>\n",
       "<table border=\"1\" class=\"dataframe\">\n",
       "  <thead>\n",
       "    <tr style=\"text-align: right;\">\n",
       "      <th>user_operator</th>\n",
       "      <th>BEE</th>\n",
       "      <th>MEG</th>\n",
       "      <th>MEG_SMART</th>\n",
       "      <th>MIX_TELECOM</th>\n",
       "      <th>TELE2</th>\n",
       "      <th>YOTA_MEG</th>\n",
       "      <th>YOTA_TELE2</th>\n",
       "      <th>МТС</th>\n",
       "      <th>МТС-WIN</th>\n",
       "    </tr>\n",
       "    <tr>\n",
       "      <th>Код ошибки</th>\n",
       "      <th></th>\n",
       "      <th></th>\n",
       "      <th></th>\n",
       "      <th></th>\n",
       "      <th></th>\n",
       "      <th></th>\n",
       "      <th></th>\n",
       "      <th></th>\n",
       "      <th></th>\n",
       "    </tr>\n",
       "  </thead>\n",
       "  <tbody>\n",
       "    <tr>\n",
       "      <th>0</th>\n",
       "      <td>4464.0</td>\n",
       "      <td>5613.0</td>\n",
       "      <td>2.0</td>\n",
       "      <td>1231.0</td>\n",
       "      <td>2619.0</td>\n",
       "      <td>159.0</td>\n",
       "      <td>22.0</td>\n",
       "      <td>794917.0</td>\n",
       "      <td>20199.0</td>\n",
       "    </tr>\n",
       "    <tr>\n",
       "      <th>8</th>\n",
       "      <td>2.0</td>\n",
       "      <td>4.0</td>\n",
       "      <td>NaN</td>\n",
       "      <td>NaN</td>\n",
       "      <td>1.0</td>\n",
       "      <td>NaN</td>\n",
       "      <td>NaN</td>\n",
       "      <td>571.0</td>\n",
       "      <td>9.0</td>\n",
       "    </tr>\n",
       "    <tr>\n",
       "      <th>50</th>\n",
       "      <td>NaN</td>\n",
       "      <td>NaN</td>\n",
       "      <td>NaN</td>\n",
       "      <td>NaN</td>\n",
       "      <td>NaN</td>\n",
       "      <td>NaN</td>\n",
       "      <td>NaN</td>\n",
       "      <td>29.0</td>\n",
       "      <td>NaN</td>\n",
       "    </tr>\n",
       "    <tr>\n",
       "      <th>51</th>\n",
       "      <td>7.0</td>\n",
       "      <td>10.0</td>\n",
       "      <td>NaN</td>\n",
       "      <td>8.0</td>\n",
       "      <td>9.0</td>\n",
       "      <td>NaN</td>\n",
       "      <td>NaN</td>\n",
       "      <td>4941.0</td>\n",
       "      <td>31.0</td>\n",
       "    </tr>\n",
       "    <tr>\n",
       "      <th>52</th>\n",
       "      <td>38.0</td>\n",
       "      <td>39.0</td>\n",
       "      <td>NaN</td>\n",
       "      <td>NaN</td>\n",
       "      <td>39.0</td>\n",
       "      <td>4.0</td>\n",
       "      <td>NaN</td>\n",
       "      <td>19125.0</td>\n",
       "      <td>478.0</td>\n",
       "    </tr>\n",
       "    <tr>\n",
       "      <th>53</th>\n",
       "      <td>NaN</td>\n",
       "      <td>NaN</td>\n",
       "      <td>NaN</td>\n",
       "      <td>NaN</td>\n",
       "      <td>NaN</td>\n",
       "      <td>NaN</td>\n",
       "      <td>NaN</td>\n",
       "      <td>1.0</td>\n",
       "      <td>NaN</td>\n",
       "    </tr>\n",
       "    <tr>\n",
       "      <th>101</th>\n",
       "      <td>NaN</td>\n",
       "      <td>NaN</td>\n",
       "      <td>NaN</td>\n",
       "      <td>NaN</td>\n",
       "      <td>NaN</td>\n",
       "      <td>NaN</td>\n",
       "      <td>NaN</td>\n",
       "      <td>1.0</td>\n",
       "      <td>NaN</td>\n",
       "    </tr>\n",
       "    <tr>\n",
       "      <th>102</th>\n",
       "      <td>302.0</td>\n",
       "      <td>409.0</td>\n",
       "      <td>NaN</td>\n",
       "      <td>1.0</td>\n",
       "      <td>332.0</td>\n",
       "      <td>11.0</td>\n",
       "      <td>1.0</td>\n",
       "      <td>70626.0</td>\n",
       "      <td>1138.0</td>\n",
       "    </tr>\n",
       "    <tr>\n",
       "      <th>103</th>\n",
       "      <td>NaN</td>\n",
       "      <td>NaN</td>\n",
       "      <td>NaN</td>\n",
       "      <td>NaN</td>\n",
       "      <td>NaN</td>\n",
       "      <td>NaN</td>\n",
       "      <td>NaN</td>\n",
       "      <td>5.0</td>\n",
       "      <td>NaN</td>\n",
       "    </tr>\n",
       "    <tr>\n",
       "      <th>356</th>\n",
       "      <td>704.0</td>\n",
       "      <td>1103.0</td>\n",
       "      <td>4.0</td>\n",
       "      <td>1.0</td>\n",
       "      <td>355.0</td>\n",
       "      <td>8.0</td>\n",
       "      <td>9.0</td>\n",
       "      <td>2730.0</td>\n",
       "      <td>13.0</td>\n",
       "    </tr>\n",
       "    <tr>\n",
       "      <th>1001</th>\n",
       "      <td>NaN</td>\n",
       "      <td>NaN</td>\n",
       "      <td>NaN</td>\n",
       "      <td>NaN</td>\n",
       "      <td>NaN</td>\n",
       "      <td>NaN</td>\n",
       "      <td>NaN</td>\n",
       "      <td>1.0</td>\n",
       "      <td>NaN</td>\n",
       "    </tr>\n",
       "  </tbody>\n",
       "</table>\n",
       "</div>"
      ],
      "text/plain": [
       "user_operator     BEE     MEG  MEG_SMART  MIX_TELECOM   TELE2  YOTA_MEG  \\\n",
       "Код ошибки                                                                \n",
       "0              4464.0  5613.0        2.0       1231.0  2619.0     159.0   \n",
       "8                 2.0     4.0        NaN          NaN     1.0       NaN   \n",
       "50                NaN     NaN        NaN          NaN     NaN       NaN   \n",
       "51                7.0    10.0        NaN          8.0     9.0       NaN   \n",
       "52               38.0    39.0        NaN          NaN    39.0       4.0   \n",
       "53                NaN     NaN        NaN          NaN     NaN       NaN   \n",
       "101               NaN     NaN        NaN          NaN     NaN       NaN   \n",
       "102             302.0   409.0        NaN          1.0   332.0      11.0   \n",
       "103               NaN     NaN        NaN          NaN     NaN       NaN   \n",
       "356             704.0  1103.0        4.0          1.0   355.0       8.0   \n",
       "1001              NaN     NaN        NaN          NaN     NaN       NaN   \n",
       "\n",
       "user_operator  YOTA_TELE2       МТС  МТС-WIN  \n",
       "Код ошибки                                    \n",
       "0                    22.0  794917.0  20199.0  \n",
       "8                     NaN     571.0      9.0  \n",
       "50                    NaN      29.0      NaN  \n",
       "51                    NaN    4941.0     31.0  \n",
       "52                    NaN   19125.0    478.0  \n",
       "53                    NaN       1.0      NaN  \n",
       "101                   NaN       1.0      NaN  \n",
       "102                   1.0   70626.0   1138.0  \n",
       "103                   NaN       5.0      NaN  \n",
       "356                   9.0    2730.0     13.0  \n",
       "1001                  NaN       1.0      NaN  "
      ]
     },
     "execution_count": 259,
     "metadata": {},
     "output_type": "execute_result"
    }
   ],
   "source": [
    "pvt_Land_1521_3_error_code = Land_1521_3.pivot_table(index=['Код ошибки'], columns=['user_operator'], values='Дата ребилла', aggfunc='count')\n",
    "pvt_Land_1521_3_error_code"
   ]
  },
  {
   "cell_type": "code",
   "execution_count": 260,
   "metadata": {},
   "outputs": [
    {
     "data": {
      "text/html": [
       "<div>\n",
       "<style>\n",
       "    .dataframe thead tr:only-child th {\n",
       "        text-align: right;\n",
       "    }\n",
       "\n",
       "    .dataframe thead th {\n",
       "        text-align: left;\n",
       "    }\n",
       "\n",
       "    .dataframe tbody tr th {\n",
       "        vertical-align: top;\n",
       "    }\n",
       "</style>\n",
       "<table border=\"1\" class=\"dataframe\">\n",
       "  <thead>\n",
       "    <tr style=\"text-align: right;\">\n",
       "      <th>user_operator</th>\n",
       "      <th>BEE</th>\n",
       "      <th>MEG</th>\n",
       "      <th>MIX_TELECOM</th>\n",
       "      <th>TELE2</th>\n",
       "      <th>YOTA_MEG</th>\n",
       "      <th>YOTA_TELE2</th>\n",
       "      <th>МТС</th>\n",
       "      <th>МТС-WIN</th>\n",
       "    </tr>\n",
       "    <tr>\n",
       "      <th>Код ошибки</th>\n",
       "      <th></th>\n",
       "      <th></th>\n",
       "      <th></th>\n",
       "      <th></th>\n",
       "      <th></th>\n",
       "      <th></th>\n",
       "      <th></th>\n",
       "      <th></th>\n",
       "    </tr>\n",
       "  </thead>\n",
       "  <tbody>\n",
       "    <tr>\n",
       "      <th>0</th>\n",
       "      <td>2961.0</td>\n",
       "      <td>3958.0</td>\n",
       "      <td>1138.0</td>\n",
       "      <td>1801.0</td>\n",
       "      <td>79.0</td>\n",
       "      <td>4.0</td>\n",
       "      <td>523893.0</td>\n",
       "      <td>16339.0</td>\n",
       "    </tr>\n",
       "    <tr>\n",
       "      <th>8</th>\n",
       "      <td>NaN</td>\n",
       "      <td>NaN</td>\n",
       "      <td>NaN</td>\n",
       "      <td>1.0</td>\n",
       "      <td>NaN</td>\n",
       "      <td>NaN</td>\n",
       "      <td>103.0</td>\n",
       "      <td>1.0</td>\n",
       "    </tr>\n",
       "    <tr>\n",
       "      <th>50</th>\n",
       "      <td>NaN</td>\n",
       "      <td>NaN</td>\n",
       "      <td>NaN</td>\n",
       "      <td>NaN</td>\n",
       "      <td>NaN</td>\n",
       "      <td>NaN</td>\n",
       "      <td>5.0</td>\n",
       "      <td>NaN</td>\n",
       "    </tr>\n",
       "    <tr>\n",
       "      <th>51</th>\n",
       "      <td>4.0</td>\n",
       "      <td>10.0</td>\n",
       "      <td>6.0</td>\n",
       "      <td>7.0</td>\n",
       "      <td>NaN</td>\n",
       "      <td>NaN</td>\n",
       "      <td>4403.0</td>\n",
       "      <td>42.0</td>\n",
       "    </tr>\n",
       "    <tr>\n",
       "      <th>52</th>\n",
       "      <td>21.0</td>\n",
       "      <td>29.0</td>\n",
       "      <td>NaN</td>\n",
       "      <td>27.0</td>\n",
       "      <td>1.0</td>\n",
       "      <td>NaN</td>\n",
       "      <td>14446.0</td>\n",
       "      <td>496.0</td>\n",
       "    </tr>\n",
       "    <tr>\n",
       "      <th>53</th>\n",
       "      <td>NaN</td>\n",
       "      <td>NaN</td>\n",
       "      <td>NaN</td>\n",
       "      <td>NaN</td>\n",
       "      <td>NaN</td>\n",
       "      <td>NaN</td>\n",
       "      <td>1.0</td>\n",
       "      <td>NaN</td>\n",
       "    </tr>\n",
       "    <tr>\n",
       "      <th>102</th>\n",
       "      <td>72.0</td>\n",
       "      <td>76.0</td>\n",
       "      <td>NaN</td>\n",
       "      <td>73.0</td>\n",
       "      <td>1.0</td>\n",
       "      <td>NaN</td>\n",
       "      <td>19221.0</td>\n",
       "      <td>328.0</td>\n",
       "    </tr>\n",
       "    <tr>\n",
       "      <th>103</th>\n",
       "      <td>NaN</td>\n",
       "      <td>NaN</td>\n",
       "      <td>NaN</td>\n",
       "      <td>NaN</td>\n",
       "      <td>NaN</td>\n",
       "      <td>NaN</td>\n",
       "      <td>1.0</td>\n",
       "      <td>NaN</td>\n",
       "    </tr>\n",
       "    <tr>\n",
       "      <th>356</th>\n",
       "      <td>48.0</td>\n",
       "      <td>69.0</td>\n",
       "      <td>NaN</td>\n",
       "      <td>35.0</td>\n",
       "      <td>2.0</td>\n",
       "      <td>NaN</td>\n",
       "      <td>236.0</td>\n",
       "      <td>NaN</td>\n",
       "    </tr>\n",
       "    <tr>\n",
       "      <th>1001</th>\n",
       "      <td>NaN</td>\n",
       "      <td>NaN</td>\n",
       "      <td>NaN</td>\n",
       "      <td>NaN</td>\n",
       "      <td>NaN</td>\n",
       "      <td>NaN</td>\n",
       "      <td>1.0</td>\n",
       "      <td>NaN</td>\n",
       "    </tr>\n",
       "  </tbody>\n",
       "</table>\n",
       "</div>"
      ],
      "text/plain": [
       "user_operator     BEE     MEG  MIX_TELECOM   TELE2  YOTA_MEG  YOTA_TELE2  \\\n",
       "Код ошибки                                                                 \n",
       "0              2961.0  3958.0       1138.0  1801.0      79.0         4.0   \n",
       "8                 NaN     NaN          NaN     1.0       NaN         NaN   \n",
       "50                NaN     NaN          NaN     NaN       NaN         NaN   \n",
       "51                4.0    10.0          6.0     7.0       NaN         NaN   \n",
       "52               21.0    29.0          NaN    27.0       1.0         NaN   \n",
       "53                NaN     NaN          NaN     NaN       NaN         NaN   \n",
       "102              72.0    76.0          NaN    73.0       1.0         NaN   \n",
       "103               NaN     NaN          NaN     NaN       NaN         NaN   \n",
       "356              48.0    69.0          NaN    35.0       2.0         NaN   \n",
       "1001              NaN     NaN          NaN     NaN       NaN         NaN   \n",
       "\n",
       "user_operator       МТС  МТС-WIN  \n",
       "Код ошибки                        \n",
       "0              523893.0  16339.0  \n",
       "8                 103.0      1.0  \n",
       "50                  5.0      NaN  \n",
       "51               4403.0     42.0  \n",
       "52              14446.0    496.0  \n",
       "53                  1.0      NaN  \n",
       "102             19221.0    328.0  \n",
       "103                 1.0      NaN  \n",
       "356               236.0      NaN  \n",
       "1001                1.0      NaN  "
      ]
     },
     "execution_count": 260,
     "metadata": {},
     "output_type": "execute_result"
    }
   ],
   "source": [
    "pvt_Land_933_1_error_code = Land_933_1.pivot_table(index=['Код ошибки'], columns=['user_operator'], values='Дата ребилла', aggfunc='count')\n",
    "pvt_Land_933_1_error_code"
   ]
  },
  {
   "cell_type": "code",
   "execution_count": 261,
   "metadata": {},
   "outputs": [
    {
     "data": {
      "text/html": [
       "<div>\n",
       "<style>\n",
       "    .dataframe thead tr:only-child th {\n",
       "        text-align: right;\n",
       "    }\n",
       "\n",
       "    .dataframe thead th {\n",
       "        text-align: left;\n",
       "    }\n",
       "\n",
       "    .dataframe tbody tr th {\n",
       "        vertical-align: top;\n",
       "    }\n",
       "</style>\n",
       "<table border=\"1\" class=\"dataframe\">\n",
       "  <thead>\n",
       "    <tr style=\"text-align: right;\">\n",
       "      <th>user_operator</th>\n",
       "      <th>BEE</th>\n",
       "      <th>MEG</th>\n",
       "      <th>MIX_TELECOM</th>\n",
       "      <th>TELE2</th>\n",
       "      <th>YOTA_MEG</th>\n",
       "      <th>YOTA_TELE2</th>\n",
       "      <th>МТС</th>\n",
       "      <th>МТС-WIN</th>\n",
       "    </tr>\n",
       "    <tr>\n",
       "      <th>Код ошибки</th>\n",
       "      <th></th>\n",
       "      <th></th>\n",
       "      <th></th>\n",
       "      <th></th>\n",
       "      <th></th>\n",
       "      <th></th>\n",
       "      <th></th>\n",
       "      <th></th>\n",
       "    </tr>\n",
       "  </thead>\n",
       "  <tbody>\n",
       "    <tr>\n",
       "      <th>0</th>\n",
       "      <td>1437.0</td>\n",
       "      <td>1902.0</td>\n",
       "      <td>457.0</td>\n",
       "      <td>780.0</td>\n",
       "      <td>30.0</td>\n",
       "      <td>2.0</td>\n",
       "      <td>247447.0</td>\n",
       "      <td>8551.0</td>\n",
       "    </tr>\n",
       "    <tr>\n",
       "      <th>8</th>\n",
       "      <td>1.0</td>\n",
       "      <td>NaN</td>\n",
       "      <td>NaN</td>\n",
       "      <td>NaN</td>\n",
       "      <td>NaN</td>\n",
       "      <td>NaN</td>\n",
       "      <td>56.0</td>\n",
       "      <td>1.0</td>\n",
       "    </tr>\n",
       "    <tr>\n",
       "      <th>50</th>\n",
       "      <td>NaN</td>\n",
       "      <td>NaN</td>\n",
       "      <td>NaN</td>\n",
       "      <td>NaN</td>\n",
       "      <td>NaN</td>\n",
       "      <td>NaN</td>\n",
       "      <td>1.0</td>\n",
       "      <td>NaN</td>\n",
       "    </tr>\n",
       "    <tr>\n",
       "      <th>51</th>\n",
       "      <td>2.0</td>\n",
       "      <td>7.0</td>\n",
       "      <td>8.0</td>\n",
       "      <td>2.0</td>\n",
       "      <td>NaN</td>\n",
       "      <td>NaN</td>\n",
       "      <td>2150.0</td>\n",
       "      <td>20.0</td>\n",
       "    </tr>\n",
       "    <tr>\n",
       "      <th>52</th>\n",
       "      <td>6.0</td>\n",
       "      <td>4.0</td>\n",
       "      <td>NaN</td>\n",
       "      <td>5.0</td>\n",
       "      <td>NaN</td>\n",
       "      <td>NaN</td>\n",
       "      <td>6753.0</td>\n",
       "      <td>247.0</td>\n",
       "    </tr>\n",
       "    <tr>\n",
       "      <th>101</th>\n",
       "      <td>NaN</td>\n",
       "      <td>NaN</td>\n",
       "      <td>NaN</td>\n",
       "      <td>NaN</td>\n",
       "      <td>NaN</td>\n",
       "      <td>NaN</td>\n",
       "      <td>2.0</td>\n",
       "      <td>NaN</td>\n",
       "    </tr>\n",
       "    <tr>\n",
       "      <th>102</th>\n",
       "      <td>12.0</td>\n",
       "      <td>20.0</td>\n",
       "      <td>NaN</td>\n",
       "      <td>8.0</td>\n",
       "      <td>1.0</td>\n",
       "      <td>NaN</td>\n",
       "      <td>3531.0</td>\n",
       "      <td>54.0</td>\n",
       "    </tr>\n",
       "    <tr>\n",
       "      <th>356</th>\n",
       "      <td>NaN</td>\n",
       "      <td>NaN</td>\n",
       "      <td>NaN</td>\n",
       "      <td>NaN</td>\n",
       "      <td>NaN</td>\n",
       "      <td>NaN</td>\n",
       "      <td>17.0</td>\n",
       "      <td>NaN</td>\n",
       "    </tr>\n",
       "  </tbody>\n",
       "</table>\n",
       "</div>"
      ],
      "text/plain": [
       "user_operator     BEE     MEG  MIX_TELECOM  TELE2  YOTA_MEG  YOTA_TELE2  \\\n",
       "Код ошибки                                                                \n",
       "0              1437.0  1902.0        457.0  780.0      30.0         2.0   \n",
       "8                 1.0     NaN          NaN    NaN       NaN         NaN   \n",
       "50                NaN     NaN          NaN    NaN       NaN         NaN   \n",
       "51                2.0     7.0          8.0    2.0       NaN         NaN   \n",
       "52                6.0     4.0          NaN    5.0       NaN         NaN   \n",
       "101               NaN     NaN          NaN    NaN       NaN         NaN   \n",
       "102              12.0    20.0          NaN    8.0       1.0         NaN   \n",
       "356               NaN     NaN          NaN    NaN       NaN         NaN   \n",
       "\n",
       "user_operator       МТС  МТС-WIN  \n",
       "Код ошибки                        \n",
       "0              247447.0   8551.0  \n",
       "8                  56.0      1.0  \n",
       "50                  1.0      NaN  \n",
       "51               2150.0     20.0  \n",
       "52               6753.0    247.0  \n",
       "101                 2.0      NaN  \n",
       "102              3531.0     54.0  \n",
       "356                17.0      NaN  "
      ]
     },
     "execution_count": 261,
     "metadata": {},
     "output_type": "execute_result"
    }
   ],
   "source": [
    "pvt_Land_933_2_error_code = Land_933_2.pivot_table(index=['Код ошибки'], columns=['user_operator'], values='Дата ребилла', aggfunc='count')\n",
    "pvt_Land_933_2_error_code"
   ]
  },
  {
   "cell_type": "code",
   "execution_count": 262,
   "metadata": {},
   "outputs": [
    {
     "data": {
      "text/html": [
       "<div>\n",
       "<style>\n",
       "    .dataframe thead tr:only-child th {\n",
       "        text-align: right;\n",
       "    }\n",
       "\n",
       "    .dataframe thead th {\n",
       "        text-align: left;\n",
       "    }\n",
       "\n",
       "    .dataframe tbody tr th {\n",
       "        vertical-align: top;\n",
       "    }\n",
       "</style>\n",
       "<table border=\"1\" class=\"dataframe\">\n",
       "  <thead>\n",
       "    <tr style=\"text-align: right;\">\n",
       "      <th>user_operator</th>\n",
       "      <th>BEE</th>\n",
       "      <th>MEG</th>\n",
       "      <th>MIX_TELECOM</th>\n",
       "      <th>TELE2</th>\n",
       "      <th>YOTA_MEG</th>\n",
       "      <th>YOTA_TELE2</th>\n",
       "      <th>МТС</th>\n",
       "      <th>МТС-WIN</th>\n",
       "    </tr>\n",
       "    <tr>\n",
       "      <th>Код ошибки</th>\n",
       "      <th></th>\n",
       "      <th></th>\n",
       "      <th></th>\n",
       "      <th></th>\n",
       "      <th></th>\n",
       "      <th></th>\n",
       "      <th></th>\n",
       "      <th></th>\n",
       "    </tr>\n",
       "  </thead>\n",
       "  <tbody>\n",
       "    <tr>\n",
       "      <th>0</th>\n",
       "      <td>4398.0</td>\n",
       "      <td>5860.0</td>\n",
       "      <td>1595.0</td>\n",
       "      <td>2581.0</td>\n",
       "      <td>109.0</td>\n",
       "      <td>6.0</td>\n",
       "      <td>771340.0</td>\n",
       "      <td>24890.0</td>\n",
       "    </tr>\n",
       "    <tr>\n",
       "      <th>8</th>\n",
       "      <td>1.0</td>\n",
       "      <td>NaN</td>\n",
       "      <td>NaN</td>\n",
       "      <td>1.0</td>\n",
       "      <td>NaN</td>\n",
       "      <td>NaN</td>\n",
       "      <td>159.0</td>\n",
       "      <td>2.0</td>\n",
       "    </tr>\n",
       "    <tr>\n",
       "      <th>50</th>\n",
       "      <td>NaN</td>\n",
       "      <td>NaN</td>\n",
       "      <td>NaN</td>\n",
       "      <td>NaN</td>\n",
       "      <td>NaN</td>\n",
       "      <td>NaN</td>\n",
       "      <td>6.0</td>\n",
       "      <td>NaN</td>\n",
       "    </tr>\n",
       "    <tr>\n",
       "      <th>51</th>\n",
       "      <td>6.0</td>\n",
       "      <td>17.0</td>\n",
       "      <td>14.0</td>\n",
       "      <td>9.0</td>\n",
       "      <td>NaN</td>\n",
       "      <td>NaN</td>\n",
       "      <td>6553.0</td>\n",
       "      <td>62.0</td>\n",
       "    </tr>\n",
       "    <tr>\n",
       "      <th>52</th>\n",
       "      <td>27.0</td>\n",
       "      <td>33.0</td>\n",
       "      <td>NaN</td>\n",
       "      <td>32.0</td>\n",
       "      <td>1.0</td>\n",
       "      <td>NaN</td>\n",
       "      <td>21199.0</td>\n",
       "      <td>743.0</td>\n",
       "    </tr>\n",
       "    <tr>\n",
       "      <th>53</th>\n",
       "      <td>NaN</td>\n",
       "      <td>NaN</td>\n",
       "      <td>NaN</td>\n",
       "      <td>NaN</td>\n",
       "      <td>NaN</td>\n",
       "      <td>NaN</td>\n",
       "      <td>1.0</td>\n",
       "      <td>NaN</td>\n",
       "    </tr>\n",
       "    <tr>\n",
       "      <th>101</th>\n",
       "      <td>NaN</td>\n",
       "      <td>NaN</td>\n",
       "      <td>NaN</td>\n",
       "      <td>NaN</td>\n",
       "      <td>NaN</td>\n",
       "      <td>NaN</td>\n",
       "      <td>2.0</td>\n",
       "      <td>NaN</td>\n",
       "    </tr>\n",
       "    <tr>\n",
       "      <th>102</th>\n",
       "      <td>84.0</td>\n",
       "      <td>96.0</td>\n",
       "      <td>NaN</td>\n",
       "      <td>81.0</td>\n",
       "      <td>2.0</td>\n",
       "      <td>NaN</td>\n",
       "      <td>22752.0</td>\n",
       "      <td>382.0</td>\n",
       "    </tr>\n",
       "    <tr>\n",
       "      <th>103</th>\n",
       "      <td>NaN</td>\n",
       "      <td>NaN</td>\n",
       "      <td>NaN</td>\n",
       "      <td>NaN</td>\n",
       "      <td>NaN</td>\n",
       "      <td>NaN</td>\n",
       "      <td>1.0</td>\n",
       "      <td>NaN</td>\n",
       "    </tr>\n",
       "    <tr>\n",
       "      <th>356</th>\n",
       "      <td>48.0</td>\n",
       "      <td>69.0</td>\n",
       "      <td>NaN</td>\n",
       "      <td>35.0</td>\n",
       "      <td>2.0</td>\n",
       "      <td>NaN</td>\n",
       "      <td>253.0</td>\n",
       "      <td>NaN</td>\n",
       "    </tr>\n",
       "    <tr>\n",
       "      <th>1001</th>\n",
       "      <td>NaN</td>\n",
       "      <td>NaN</td>\n",
       "      <td>NaN</td>\n",
       "      <td>NaN</td>\n",
       "      <td>NaN</td>\n",
       "      <td>NaN</td>\n",
       "      <td>1.0</td>\n",
       "      <td>NaN</td>\n",
       "    </tr>\n",
       "  </tbody>\n",
       "</table>\n",
       "</div>"
      ],
      "text/plain": [
       "user_operator     BEE     MEG  MIX_TELECOM   TELE2  YOTA_MEG  YOTA_TELE2  \\\n",
       "Код ошибки                                                                 \n",
       "0              4398.0  5860.0       1595.0  2581.0     109.0         6.0   \n",
       "8                 1.0     NaN          NaN     1.0       NaN         NaN   \n",
       "50                NaN     NaN          NaN     NaN       NaN         NaN   \n",
       "51                6.0    17.0         14.0     9.0       NaN         NaN   \n",
       "52               27.0    33.0          NaN    32.0       1.0         NaN   \n",
       "53                NaN     NaN          NaN     NaN       NaN         NaN   \n",
       "101               NaN     NaN          NaN     NaN       NaN         NaN   \n",
       "102              84.0    96.0          NaN    81.0       2.0         NaN   \n",
       "103               NaN     NaN          NaN     NaN       NaN         NaN   \n",
       "356              48.0    69.0          NaN    35.0       2.0         NaN   \n",
       "1001              NaN     NaN          NaN     NaN       NaN         NaN   \n",
       "\n",
       "user_operator       МТС  МТС-WIN  \n",
       "Код ошибки                        \n",
       "0              771340.0  24890.0  \n",
       "8                 159.0      2.0  \n",
       "50                  6.0      NaN  \n",
       "51               6553.0     62.0  \n",
       "52              21199.0    743.0  \n",
       "53                  1.0      NaN  \n",
       "101                 2.0      NaN  \n",
       "102             22752.0    382.0  \n",
       "103                 1.0      NaN  \n",
       "356               253.0      NaN  \n",
       "1001                1.0      NaN  "
      ]
     },
     "execution_count": 262,
     "metadata": {},
     "output_type": "execute_result"
    }
   ],
   "source": [
    "pvt_Land_933_3_error_code = Land_933_3.pivot_table(index=['Код ошибки'], columns=['user_operator'], values='Дата ребилла', aggfunc='count')\n",
    "pvt_Land_933_3_error_code"
   ]
  },
  {
   "cell_type": "code",
   "execution_count": 263,
   "metadata": {},
   "outputs": [
    {
     "data": {
      "text/html": [
       "<div>\n",
       "<style>\n",
       "    .dataframe thead tr:only-child th {\n",
       "        text-align: right;\n",
       "    }\n",
       "\n",
       "    .dataframe thead th {\n",
       "        text-align: left;\n",
       "    }\n",
       "\n",
       "    .dataframe tbody tr th {\n",
       "        vertical-align: top;\n",
       "    }\n",
       "</style>\n",
       "<table border=\"1\" class=\"dataframe\">\n",
       "  <thead>\n",
       "    <tr style=\"text-align: right;\">\n",
       "      <th>user_operator</th>\n",
       "      <th>BEE</th>\n",
       "      <th>MEG</th>\n",
       "      <th>MIX_TELECOM</th>\n",
       "      <th>TELE2</th>\n",
       "      <th>МТС</th>\n",
       "      <th>МТС-WIN</th>\n",
       "    </tr>\n",
       "    <tr>\n",
       "      <th>Код ошибки</th>\n",
       "      <th></th>\n",
       "      <th></th>\n",
       "      <th></th>\n",
       "      <th></th>\n",
       "      <th></th>\n",
       "      <th></th>\n",
       "    </tr>\n",
       "  </thead>\n",
       "  <tbody>\n",
       "    <tr>\n",
       "      <th>0</th>\n",
       "      <td>34.0</td>\n",
       "      <td>110.0</td>\n",
       "      <td>1.0</td>\n",
       "      <td>31.0</td>\n",
       "      <td>9034.0</td>\n",
       "      <td>327.0</td>\n",
       "    </tr>\n",
       "    <tr>\n",
       "      <th>8</th>\n",
       "      <td>NaN</td>\n",
       "      <td>NaN</td>\n",
       "      <td>NaN</td>\n",
       "      <td>NaN</td>\n",
       "      <td>4.0</td>\n",
       "      <td>1.0</td>\n",
       "    </tr>\n",
       "    <tr>\n",
       "      <th>50</th>\n",
       "      <td>NaN</td>\n",
       "      <td>NaN</td>\n",
       "      <td>NaN</td>\n",
       "      <td>NaN</td>\n",
       "      <td>2.0</td>\n",
       "      <td>NaN</td>\n",
       "    </tr>\n",
       "    <tr>\n",
       "      <th>51</th>\n",
       "      <td>NaN</td>\n",
       "      <td>NaN</td>\n",
       "      <td>NaN</td>\n",
       "      <td>1.0</td>\n",
       "      <td>394.0</td>\n",
       "      <td>2.0</td>\n",
       "    </tr>\n",
       "    <tr>\n",
       "      <th>52</th>\n",
       "      <td>1.0</td>\n",
       "      <td>1.0</td>\n",
       "      <td>NaN</td>\n",
       "      <td>NaN</td>\n",
       "      <td>1007.0</td>\n",
       "      <td>50.0</td>\n",
       "    </tr>\n",
       "    <tr>\n",
       "      <th>102</th>\n",
       "      <td>1.0</td>\n",
       "      <td>4.0</td>\n",
       "      <td>NaN</td>\n",
       "      <td>NaN</td>\n",
       "      <td>590.0</td>\n",
       "      <td>6.0</td>\n",
       "    </tr>\n",
       "    <tr>\n",
       "      <th>103</th>\n",
       "      <td>NaN</td>\n",
       "      <td>NaN</td>\n",
       "      <td>NaN</td>\n",
       "      <td>NaN</td>\n",
       "      <td>1.0</td>\n",
       "      <td>NaN</td>\n",
       "    </tr>\n",
       "    <tr>\n",
       "      <th>356</th>\n",
       "      <td>NaN</td>\n",
       "      <td>NaN</td>\n",
       "      <td>NaN</td>\n",
       "      <td>NaN</td>\n",
       "      <td>1.0</td>\n",
       "      <td>NaN</td>\n",
       "    </tr>\n",
       "  </tbody>\n",
       "</table>\n",
       "</div>"
      ],
      "text/plain": [
       "user_operator   BEE    MEG  MIX_TELECOM  TELE2     МТС  МТС-WIN\n",
       "Код ошибки                                                     \n",
       "0              34.0  110.0          1.0   31.0  9034.0    327.0\n",
       "8               NaN    NaN          NaN    NaN     4.0      1.0\n",
       "50              NaN    NaN          NaN    NaN     2.0      NaN\n",
       "51              NaN    NaN          NaN    1.0   394.0      2.0\n",
       "52              1.0    1.0          NaN    NaN  1007.0     50.0\n",
       "102             1.0    4.0          NaN    NaN   590.0      6.0\n",
       "103             NaN    NaN          NaN    NaN     1.0      NaN\n",
       "356             NaN    NaN          NaN    NaN     1.0      NaN"
      ]
     },
     "execution_count": 263,
     "metadata": {},
     "output_type": "execute_result"
    }
   ],
   "source": [
    "pvt_Land_1412_1_error_code = Land_1412_1.pivot_table(index=['Код ошибки'], columns=['user_operator'], values='Дата ребилла', aggfunc='count')\n",
    "pvt_Land_1412_1_error_code"
   ]
  },
  {
   "cell_type": "code",
   "execution_count": 264,
   "metadata": {},
   "outputs": [
    {
     "data": {
      "text/html": [
       "<div>\n",
       "<style>\n",
       "    .dataframe thead tr:only-child th {\n",
       "        text-align: right;\n",
       "    }\n",
       "\n",
       "    .dataframe thead th {\n",
       "        text-align: left;\n",
       "    }\n",
       "\n",
       "    .dataframe tbody tr th {\n",
       "        vertical-align: top;\n",
       "    }\n",
       "</style>\n",
       "<table border=\"1\" class=\"dataframe\">\n",
       "  <thead>\n",
       "    <tr style=\"text-align: right;\">\n",
       "      <th>user_operator</th>\n",
       "      <th>BEE</th>\n",
       "      <th>MEG</th>\n",
       "      <th>TELE2</th>\n",
       "      <th>МТС</th>\n",
       "      <th>МТС-WIN</th>\n",
       "    </tr>\n",
       "    <tr>\n",
       "      <th>Код ошибки</th>\n",
       "      <th></th>\n",
       "      <th></th>\n",
       "      <th></th>\n",
       "      <th></th>\n",
       "      <th></th>\n",
       "    </tr>\n",
       "  </thead>\n",
       "  <tbody>\n",
       "    <tr>\n",
       "      <th>0</th>\n",
       "      <td>39.0</td>\n",
       "      <td>85.0</td>\n",
       "      <td>28.0</td>\n",
       "      <td>4889.0</td>\n",
       "      <td>154.0</td>\n",
       "    </tr>\n",
       "    <tr>\n",
       "      <th>51</th>\n",
       "      <td>NaN</td>\n",
       "      <td>NaN</td>\n",
       "      <td>NaN</td>\n",
       "      <td>64.0</td>\n",
       "      <td>1.0</td>\n",
       "    </tr>\n",
       "    <tr>\n",
       "      <th>52</th>\n",
       "      <td>NaN</td>\n",
       "      <td>NaN</td>\n",
       "      <td>NaN</td>\n",
       "      <td>205.0</td>\n",
       "      <td>8.0</td>\n",
       "    </tr>\n",
       "    <tr>\n",
       "      <th>102</th>\n",
       "      <td>NaN</td>\n",
       "      <td>NaN</td>\n",
       "      <td>NaN</td>\n",
       "      <td>79.0</td>\n",
       "      <td>1.0</td>\n",
       "    </tr>\n",
       "    <tr>\n",
       "      <th>356</th>\n",
       "      <td>NaN</td>\n",
       "      <td>NaN</td>\n",
       "      <td>NaN</td>\n",
       "      <td>1.0</td>\n",
       "      <td>NaN</td>\n",
       "    </tr>\n",
       "  </tbody>\n",
       "</table>\n",
       "</div>"
      ],
      "text/plain": [
       "user_operator   BEE   MEG  TELE2     МТС  МТС-WIN\n",
       "Код ошибки                                       \n",
       "0              39.0  85.0   28.0  4889.0    154.0\n",
       "51              NaN   NaN    NaN    64.0      1.0\n",
       "52              NaN   NaN    NaN   205.0      8.0\n",
       "102             NaN   NaN    NaN    79.0      1.0\n",
       "356             NaN   NaN    NaN     1.0      NaN"
      ]
     },
     "execution_count": 264,
     "metadata": {},
     "output_type": "execute_result"
    }
   ],
   "source": [
    "pvt_Land_1412_2_error_code = Land_1412_2.pivot_table(index=['Код ошибки'], columns=['user_operator'], values='Дата ребилла', aggfunc='count')\n",
    "pvt_Land_1412_2_error_code"
   ]
  },
  {
   "cell_type": "code",
   "execution_count": 265,
   "metadata": {},
   "outputs": [
    {
     "data": {
      "text/html": [
       "<div>\n",
       "<style>\n",
       "    .dataframe thead tr:only-child th {\n",
       "        text-align: right;\n",
       "    }\n",
       "\n",
       "    .dataframe thead th {\n",
       "        text-align: left;\n",
       "    }\n",
       "\n",
       "    .dataframe tbody tr th {\n",
       "        vertical-align: top;\n",
       "    }\n",
       "</style>\n",
       "<table border=\"1\" class=\"dataframe\">\n",
       "  <thead>\n",
       "    <tr style=\"text-align: right;\">\n",
       "      <th>user_operator</th>\n",
       "      <th>BEE</th>\n",
       "      <th>MEG</th>\n",
       "      <th>MIX_TELECOM</th>\n",
       "      <th>TELE2</th>\n",
       "      <th>МТС</th>\n",
       "      <th>МТС-WIN</th>\n",
       "    </tr>\n",
       "    <tr>\n",
       "      <th>Код ошибки</th>\n",
       "      <th></th>\n",
       "      <th></th>\n",
       "      <th></th>\n",
       "      <th></th>\n",
       "      <th></th>\n",
       "      <th></th>\n",
       "    </tr>\n",
       "  </thead>\n",
       "  <tbody>\n",
       "    <tr>\n",
       "      <th>0</th>\n",
       "      <td>73.0</td>\n",
       "      <td>195.0</td>\n",
       "      <td>1.0</td>\n",
       "      <td>59.0</td>\n",
       "      <td>13923.0</td>\n",
       "      <td>481.0</td>\n",
       "    </tr>\n",
       "    <tr>\n",
       "      <th>8</th>\n",
       "      <td>NaN</td>\n",
       "      <td>NaN</td>\n",
       "      <td>NaN</td>\n",
       "      <td>NaN</td>\n",
       "      <td>4.0</td>\n",
       "      <td>1.0</td>\n",
       "    </tr>\n",
       "    <tr>\n",
       "      <th>50</th>\n",
       "      <td>NaN</td>\n",
       "      <td>NaN</td>\n",
       "      <td>NaN</td>\n",
       "      <td>NaN</td>\n",
       "      <td>2.0</td>\n",
       "      <td>NaN</td>\n",
       "    </tr>\n",
       "    <tr>\n",
       "      <th>51</th>\n",
       "      <td>NaN</td>\n",
       "      <td>NaN</td>\n",
       "      <td>NaN</td>\n",
       "      <td>1.0</td>\n",
       "      <td>458.0</td>\n",
       "      <td>3.0</td>\n",
       "    </tr>\n",
       "    <tr>\n",
       "      <th>52</th>\n",
       "      <td>1.0</td>\n",
       "      <td>1.0</td>\n",
       "      <td>NaN</td>\n",
       "      <td>NaN</td>\n",
       "      <td>1212.0</td>\n",
       "      <td>58.0</td>\n",
       "    </tr>\n",
       "    <tr>\n",
       "      <th>102</th>\n",
       "      <td>1.0</td>\n",
       "      <td>4.0</td>\n",
       "      <td>NaN</td>\n",
       "      <td>NaN</td>\n",
       "      <td>669.0</td>\n",
       "      <td>7.0</td>\n",
       "    </tr>\n",
       "    <tr>\n",
       "      <th>103</th>\n",
       "      <td>NaN</td>\n",
       "      <td>NaN</td>\n",
       "      <td>NaN</td>\n",
       "      <td>NaN</td>\n",
       "      <td>1.0</td>\n",
       "      <td>NaN</td>\n",
       "    </tr>\n",
       "    <tr>\n",
       "      <th>356</th>\n",
       "      <td>NaN</td>\n",
       "      <td>NaN</td>\n",
       "      <td>NaN</td>\n",
       "      <td>NaN</td>\n",
       "      <td>2.0</td>\n",
       "      <td>NaN</td>\n",
       "    </tr>\n",
       "  </tbody>\n",
       "</table>\n",
       "</div>"
      ],
      "text/plain": [
       "user_operator   BEE    MEG  MIX_TELECOM  TELE2      МТС  МТС-WIN\n",
       "Код ошибки                                                      \n",
       "0              73.0  195.0          1.0   59.0  13923.0    481.0\n",
       "8               NaN    NaN          NaN    NaN      4.0      1.0\n",
       "50              NaN    NaN          NaN    NaN      2.0      NaN\n",
       "51              NaN    NaN          NaN    1.0    458.0      3.0\n",
       "52              1.0    1.0          NaN    NaN   1212.0     58.0\n",
       "102             1.0    4.0          NaN    NaN    669.0      7.0\n",
       "103             NaN    NaN          NaN    NaN      1.0      NaN\n",
       "356             NaN    NaN          NaN    NaN      2.0      NaN"
      ]
     },
     "execution_count": 265,
     "metadata": {},
     "output_type": "execute_result"
    }
   ],
   "source": [
    "pvt_Land_1412_3_error_code = Land_1412_3.pivot_table(index=['Код ошибки'], columns=['user_operator'], values='Дата ребилла', aggfunc='count')\n",
    "pvt_Land_1412_3_error_code"
   ]
  },
  {
   "cell_type": "code",
   "execution_count": 266,
   "metadata": {},
   "outputs": [
    {
     "data": {
      "text/html": [
       "<div>\n",
       "<style>\n",
       "    .dataframe thead tr:only-child th {\n",
       "        text-align: right;\n",
       "    }\n",
       "\n",
       "    .dataframe thead th {\n",
       "        text-align: left;\n",
       "    }\n",
       "\n",
       "    .dataframe tbody tr th {\n",
       "        vertical-align: top;\n",
       "    }\n",
       "</style>\n",
       "<table border=\"1\" class=\"dataframe\">\n",
       "  <thead>\n",
       "    <tr style=\"text-align: right;\">\n",
       "      <th>user_operator</th>\n",
       "      <th>МТС</th>\n",
       "      <th>МТС-WIN</th>\n",
       "    </tr>\n",
       "    <tr>\n",
       "      <th>Код ошибки</th>\n",
       "      <th></th>\n",
       "      <th></th>\n",
       "    </tr>\n",
       "  </thead>\n",
       "  <tbody>\n",
       "    <tr>\n",
       "      <th>0</th>\n",
       "      <td>1032.0</td>\n",
       "      <td>74.0</td>\n",
       "    </tr>\n",
       "    <tr>\n",
       "      <th>51</th>\n",
       "      <td>3.0</td>\n",
       "      <td>NaN</td>\n",
       "    </tr>\n",
       "    <tr>\n",
       "      <th>52</th>\n",
       "      <td>9.0</td>\n",
       "      <td>2.0</td>\n",
       "    </tr>\n",
       "    <tr>\n",
       "      <th>102</th>\n",
       "      <td>1.0</td>\n",
       "      <td>NaN</td>\n",
       "    </tr>\n",
       "  </tbody>\n",
       "</table>\n",
       "</div>"
      ],
      "text/plain": [
       "user_operator     МТС  МТС-WIN\n",
       "Код ошибки                    \n",
       "0              1032.0     74.0\n",
       "51                3.0      NaN\n",
       "52                9.0      2.0\n",
       "102               1.0      NaN"
      ]
     },
     "execution_count": 266,
     "metadata": {},
     "output_type": "execute_result"
    }
   ],
   "source": [
    "pvt_Land_1013_1_error_code = Land_1013_1.pivot_table(index=['Код ошибки'], columns=['user_operator'], values='Дата ребилла', aggfunc='count')\n",
    "pvt_Land_1013_1_error_code"
   ]
  },
  {
   "cell_type": "code",
   "execution_count": 267,
   "metadata": {},
   "outputs": [
    {
     "data": {
      "text/html": [
       "<div>\n",
       "<style>\n",
       "    .dataframe thead tr:only-child th {\n",
       "        text-align: right;\n",
       "    }\n",
       "\n",
       "    .dataframe thead th {\n",
       "        text-align: left;\n",
       "    }\n",
       "\n",
       "    .dataframe tbody tr th {\n",
       "        vertical-align: top;\n",
       "    }\n",
       "</style>\n",
       "<table border=\"1\" class=\"dataframe\">\n",
       "  <thead>\n",
       "    <tr style=\"text-align: right;\">\n",
       "      <th>user_operator</th>\n",
       "      <th>МТС</th>\n",
       "      <th>МТС-WIN</th>\n",
       "    </tr>\n",
       "    <tr>\n",
       "      <th>Код ошибки</th>\n",
       "      <th></th>\n",
       "      <th></th>\n",
       "    </tr>\n",
       "  </thead>\n",
       "  <tbody>\n",
       "    <tr>\n",
       "      <th>0</th>\n",
       "      <td>778.0</td>\n",
       "      <td>52.0</td>\n",
       "    </tr>\n",
       "    <tr>\n",
       "      <th>51</th>\n",
       "      <td>2.0</td>\n",
       "      <td>NaN</td>\n",
       "    </tr>\n",
       "    <tr>\n",
       "      <th>52</th>\n",
       "      <td>5.0</td>\n",
       "      <td>NaN</td>\n",
       "    </tr>\n",
       "    <tr>\n",
       "      <th>102</th>\n",
       "      <td>1.0</td>\n",
       "      <td>NaN</td>\n",
       "    </tr>\n",
       "  </tbody>\n",
       "</table>\n",
       "</div>"
      ],
      "text/plain": [
       "user_operator    МТС  МТС-WIN\n",
       "Код ошибки                   \n",
       "0              778.0     52.0\n",
       "51               2.0      NaN\n",
       "52               5.0      NaN\n",
       "102              1.0      NaN"
      ]
     },
     "execution_count": 267,
     "metadata": {},
     "output_type": "execute_result"
    }
   ],
   "source": [
    "pvt_Land_1013_2_error_code = Land_1013_2.pivot_table(index=['Код ошибки'], columns=['user_operator'], values='Дата ребилла', aggfunc='count')\n",
    "pvt_Land_1013_2_error_code"
   ]
  },
  {
   "cell_type": "code",
   "execution_count": 268,
   "metadata": {},
   "outputs": [
    {
     "data": {
      "text/html": [
       "<div>\n",
       "<style>\n",
       "    .dataframe thead tr:only-child th {\n",
       "        text-align: right;\n",
       "    }\n",
       "\n",
       "    .dataframe thead th {\n",
       "        text-align: left;\n",
       "    }\n",
       "\n",
       "    .dataframe tbody tr th {\n",
       "        vertical-align: top;\n",
       "    }\n",
       "</style>\n",
       "<table border=\"1\" class=\"dataframe\">\n",
       "  <thead>\n",
       "    <tr style=\"text-align: right;\">\n",
       "      <th>user_operator</th>\n",
       "      <th>МТС</th>\n",
       "      <th>МТС-WIN</th>\n",
       "    </tr>\n",
       "    <tr>\n",
       "      <th>Код ошибки</th>\n",
       "      <th></th>\n",
       "      <th></th>\n",
       "    </tr>\n",
       "  </thead>\n",
       "  <tbody>\n",
       "    <tr>\n",
       "      <th>0</th>\n",
       "      <td>1810.0</td>\n",
       "      <td>126.0</td>\n",
       "    </tr>\n",
       "    <tr>\n",
       "      <th>51</th>\n",
       "      <td>5.0</td>\n",
       "      <td>NaN</td>\n",
       "    </tr>\n",
       "    <tr>\n",
       "      <th>52</th>\n",
       "      <td>14.0</td>\n",
       "      <td>2.0</td>\n",
       "    </tr>\n",
       "    <tr>\n",
       "      <th>102</th>\n",
       "      <td>2.0</td>\n",
       "      <td>NaN</td>\n",
       "    </tr>\n",
       "  </tbody>\n",
       "</table>\n",
       "</div>"
      ],
      "text/plain": [
       "user_operator     МТС  МТС-WIN\n",
       "Код ошибки                    \n",
       "0              1810.0    126.0\n",
       "51                5.0      NaN\n",
       "52               14.0      2.0\n",
       "102               2.0      NaN"
      ]
     },
     "execution_count": 268,
     "metadata": {},
     "output_type": "execute_result"
    }
   ],
   "source": [
    "pvt_Land_1013_3_error_code = Land_1013_3.pivot_table(index=['Код ошибки'], columns=['user_operator'], values='Дата ребилла', aggfunc='count')\n",
    "pvt_Land_1013_3_error_code"
   ]
  },
  {
   "cell_type": "code",
   "execution_count": 269,
   "metadata": {},
   "outputs": [
    {
     "data": {
      "text/html": [
       "<div>\n",
       "<style>\n",
       "    .dataframe thead tr:only-child th {\n",
       "        text-align: right;\n",
       "    }\n",
       "\n",
       "    .dataframe thead th {\n",
       "        text-align: left;\n",
       "    }\n",
       "\n",
       "    .dataframe tbody tr th {\n",
       "        vertical-align: top;\n",
       "    }\n",
       "</style>\n",
       "<table border=\"1\" class=\"dataframe\">\n",
       "  <thead>\n",
       "    <tr style=\"text-align: right;\">\n",
       "      <th>user_operator</th>\n",
       "      <th>MEG</th>\n",
       "      <th>МТС</th>\n",
       "      <th>МТС-WIN</th>\n",
       "    </tr>\n",
       "    <tr>\n",
       "      <th>Код ошибки</th>\n",
       "      <th></th>\n",
       "      <th></th>\n",
       "      <th></th>\n",
       "    </tr>\n",
       "  </thead>\n",
       "  <tbody>\n",
       "    <tr>\n",
       "      <th>0</th>\n",
       "      <td>31.0</td>\n",
       "      <td>991.0</td>\n",
       "      <td>38.0</td>\n",
       "    </tr>\n",
       "    <tr>\n",
       "      <th>51</th>\n",
       "      <td>NaN</td>\n",
       "      <td>4.0</td>\n",
       "      <td>NaN</td>\n",
       "    </tr>\n",
       "    <tr>\n",
       "      <th>52</th>\n",
       "      <td>NaN</td>\n",
       "      <td>18.0</td>\n",
       "      <td>NaN</td>\n",
       "    </tr>\n",
       "    <tr>\n",
       "      <th>102</th>\n",
       "      <td>NaN</td>\n",
       "      <td>4.0</td>\n",
       "      <td>NaN</td>\n",
       "    </tr>\n",
       "  </tbody>\n",
       "</table>\n",
       "</div>"
      ],
      "text/plain": [
       "user_operator   MEG    МТС  МТС-WIN\n",
       "Код ошибки                         \n",
       "0              31.0  991.0     38.0\n",
       "51              NaN    4.0      NaN\n",
       "52              NaN   18.0      NaN\n",
       "102             NaN    4.0      NaN"
      ]
     },
     "execution_count": 269,
     "metadata": {},
     "output_type": "execute_result"
    }
   ],
   "source": [
    "pvt_Land_1411_1_error_code = Land_1411_1.pivot_table(index=['Код ошибки'], columns=['user_operator'], values='Дата ребилла', aggfunc='count')\n",
    "pvt_Land_1411_1_error_code"
   ]
  },
  {
   "cell_type": "code",
   "execution_count": 270,
   "metadata": {},
   "outputs": [
    {
     "data": {
      "text/html": [
       "<div>\n",
       "<style>\n",
       "    .dataframe thead tr:only-child th {\n",
       "        text-align: right;\n",
       "    }\n",
       "\n",
       "    .dataframe thead th {\n",
       "        text-align: left;\n",
       "    }\n",
       "\n",
       "    .dataframe tbody tr th {\n",
       "        vertical-align: top;\n",
       "    }\n",
       "</style>\n",
       "<table border=\"1\" class=\"dataframe\">\n",
       "  <thead>\n",
       "    <tr style=\"text-align: right;\">\n",
       "      <th>user_operator</th>\n",
       "      <th>MEG</th>\n",
       "      <th>МТС</th>\n",
       "      <th>МТС-WIN</th>\n",
       "    </tr>\n",
       "    <tr>\n",
       "      <th>Код ошибки</th>\n",
       "      <th></th>\n",
       "      <th></th>\n",
       "      <th></th>\n",
       "    </tr>\n",
       "  </thead>\n",
       "  <tbody>\n",
       "    <tr>\n",
       "      <th>0</th>\n",
       "      <td>5.0</td>\n",
       "      <td>780.0</td>\n",
       "      <td>29.0</td>\n",
       "    </tr>\n",
       "    <tr>\n",
       "      <th>8</th>\n",
       "      <td>NaN</td>\n",
       "      <td>1.0</td>\n",
       "      <td>NaN</td>\n",
       "    </tr>\n",
       "    <tr>\n",
       "      <th>52</th>\n",
       "      <td>NaN</td>\n",
       "      <td>3.0</td>\n",
       "      <td>1.0</td>\n",
       "    </tr>\n",
       "    <tr>\n",
       "      <th>102</th>\n",
       "      <td>NaN</td>\n",
       "      <td>5.0</td>\n",
       "      <td>NaN</td>\n",
       "    </tr>\n",
       "  </tbody>\n",
       "</table>\n",
       "</div>"
      ],
      "text/plain": [
       "user_operator  MEG    МТС  МТС-WIN\n",
       "Код ошибки                        \n",
       "0              5.0  780.0     29.0\n",
       "8              NaN    1.0      NaN\n",
       "52             NaN    3.0      1.0\n",
       "102            NaN    5.0      NaN"
      ]
     },
     "execution_count": 270,
     "metadata": {},
     "output_type": "execute_result"
    }
   ],
   "source": [
    "pvt_Land_1411_2_error_code = Land_1411_2.pivot_table(index=['Код ошибки'], columns=['user_operator'], values='Дата ребилла', aggfunc='count')\n",
    "pvt_Land_1411_2_error_code"
   ]
  },
  {
   "cell_type": "code",
   "execution_count": 271,
   "metadata": {},
   "outputs": [
    {
     "data": {
      "text/html": [
       "<div>\n",
       "<style>\n",
       "    .dataframe thead tr:only-child th {\n",
       "        text-align: right;\n",
       "    }\n",
       "\n",
       "    .dataframe thead th {\n",
       "        text-align: left;\n",
       "    }\n",
       "\n",
       "    .dataframe tbody tr th {\n",
       "        vertical-align: top;\n",
       "    }\n",
       "</style>\n",
       "<table border=\"1\" class=\"dataframe\">\n",
       "  <thead>\n",
       "    <tr style=\"text-align: right;\">\n",
       "      <th>user_operator</th>\n",
       "      <th>MEG</th>\n",
       "      <th>МТС</th>\n",
       "      <th>МТС-WIN</th>\n",
       "    </tr>\n",
       "    <tr>\n",
       "      <th>Код ошибки</th>\n",
       "      <th></th>\n",
       "      <th></th>\n",
       "      <th></th>\n",
       "    </tr>\n",
       "  </thead>\n",
       "  <tbody>\n",
       "    <tr>\n",
       "      <th>0</th>\n",
       "      <td>36.0</td>\n",
       "      <td>1771.0</td>\n",
       "      <td>67.0</td>\n",
       "    </tr>\n",
       "    <tr>\n",
       "      <th>8</th>\n",
       "      <td>NaN</td>\n",
       "      <td>1.0</td>\n",
       "      <td>NaN</td>\n",
       "    </tr>\n",
       "    <tr>\n",
       "      <th>51</th>\n",
       "      <td>NaN</td>\n",
       "      <td>4.0</td>\n",
       "      <td>NaN</td>\n",
       "    </tr>\n",
       "    <tr>\n",
       "      <th>52</th>\n",
       "      <td>NaN</td>\n",
       "      <td>21.0</td>\n",
       "      <td>1.0</td>\n",
       "    </tr>\n",
       "    <tr>\n",
       "      <th>102</th>\n",
       "      <td>NaN</td>\n",
       "      <td>9.0</td>\n",
       "      <td>NaN</td>\n",
       "    </tr>\n",
       "  </tbody>\n",
       "</table>\n",
       "</div>"
      ],
      "text/plain": [
       "user_operator   MEG     МТС  МТС-WIN\n",
       "Код ошибки                          \n",
       "0              36.0  1771.0     67.0\n",
       "8               NaN     1.0      NaN\n",
       "51              NaN     4.0      NaN\n",
       "52              NaN    21.0      1.0\n",
       "102             NaN     9.0      NaN"
      ]
     },
     "execution_count": 271,
     "metadata": {},
     "output_type": "execute_result"
    }
   ],
   "source": [
    "pvt_Land_1411_3_error_code = Land_1411_3.pivot_table(index=['Код ошибки'], columns=['user_operator'], values='Дата ребилла', aggfunc='count')\n",
    "pvt_Land_1411_3_error_code"
   ]
  },
  {
   "cell_type": "code",
   "execution_count": 272,
   "metadata": {},
   "outputs": [
    {
     "data": {
      "text/html": [
       "<div>\n",
       "<style>\n",
       "    .dataframe thead tr:only-child th {\n",
       "        text-align: right;\n",
       "    }\n",
       "\n",
       "    .dataframe thead th {\n",
       "        text-align: left;\n",
       "    }\n",
       "\n",
       "    .dataframe tbody tr th {\n",
       "        vertical-align: top;\n",
       "    }\n",
       "</style>\n",
       "<table border=\"1\" class=\"dataframe\">\n",
       "  <thead>\n",
       "    <tr style=\"text-align: right;\">\n",
       "      <th>user_operator</th>\n",
       "      <th>МТС</th>\n",
       "    </tr>\n",
       "    <tr>\n",
       "      <th>Код ошибки</th>\n",
       "      <th></th>\n",
       "    </tr>\n",
       "  </thead>\n",
       "  <tbody>\n",
       "    <tr>\n",
       "      <th>0</th>\n",
       "      <td>166</td>\n",
       "    </tr>\n",
       "    <tr>\n",
       "      <th>52</th>\n",
       "      <td>1</td>\n",
       "    </tr>\n",
       "    <tr>\n",
       "      <th>102</th>\n",
       "      <td>2</td>\n",
       "    </tr>\n",
       "  </tbody>\n",
       "</table>\n",
       "</div>"
      ],
      "text/plain": [
       "user_operator  МТС\n",
       "Код ошибки        \n",
       "0              166\n",
       "52               1\n",
       "102              2"
      ]
     },
     "execution_count": 272,
     "metadata": {},
     "output_type": "execute_result"
    }
   ],
   "source": [
    "pvt_Land_1097_1_error_code = Land_1097_1.pivot_table(index=['Код ошибки'], columns=['user_operator'], values='Дата ребилла', aggfunc='count')\n",
    "pvt_Land_1097_1_error_code"
   ]
  },
  {
   "cell_type": "code",
   "execution_count": 273,
   "metadata": {},
   "outputs": [
    {
     "data": {
      "text/html": [
       "<div>\n",
       "<style>\n",
       "    .dataframe thead tr:only-child th {\n",
       "        text-align: right;\n",
       "    }\n",
       "\n",
       "    .dataframe thead th {\n",
       "        text-align: left;\n",
       "    }\n",
       "\n",
       "    .dataframe tbody tr th {\n",
       "        vertical-align: top;\n",
       "    }\n",
       "</style>\n",
       "<table border=\"1\" class=\"dataframe\">\n",
       "  <thead>\n",
       "    <tr style=\"text-align: right;\">\n",
       "      <th>user_operator</th>\n",
       "      <th>МТС</th>\n",
       "    </tr>\n",
       "    <tr>\n",
       "      <th>Код ошибки</th>\n",
       "      <th></th>\n",
       "    </tr>\n",
       "  </thead>\n",
       "  <tbody>\n",
       "    <tr>\n",
       "      <th>0</th>\n",
       "      <td>112</td>\n",
       "    </tr>\n",
       "    <tr>\n",
       "      <th>51</th>\n",
       "      <td>1</td>\n",
       "    </tr>\n",
       "    <tr>\n",
       "      <th>52</th>\n",
       "      <td>2</td>\n",
       "    </tr>\n",
       "    <tr>\n",
       "      <th>102</th>\n",
       "      <td>1</td>\n",
       "    </tr>\n",
       "  </tbody>\n",
       "</table>\n",
       "</div>"
      ],
      "text/plain": [
       "user_operator  МТС\n",
       "Код ошибки        \n",
       "0              112\n",
       "51               1\n",
       "52               2\n",
       "102              1"
      ]
     },
     "execution_count": 273,
     "metadata": {},
     "output_type": "execute_result"
    }
   ],
   "source": [
    "pvt_Land_1097_2_error_code = Land_1097_2.pivot_table(index=['Код ошибки'], columns=['user_operator'], values='Дата ребилла', aggfunc='count')\n",
    "pvt_Land_1097_2_error_code"
   ]
  },
  {
   "cell_type": "code",
   "execution_count": 274,
   "metadata": {},
   "outputs": [
    {
     "data": {
      "text/html": [
       "<div>\n",
       "<style>\n",
       "    .dataframe thead tr:only-child th {\n",
       "        text-align: right;\n",
       "    }\n",
       "\n",
       "    .dataframe thead th {\n",
       "        text-align: left;\n",
       "    }\n",
       "\n",
       "    .dataframe tbody tr th {\n",
       "        vertical-align: top;\n",
       "    }\n",
       "</style>\n",
       "<table border=\"1\" class=\"dataframe\">\n",
       "  <thead>\n",
       "    <tr style=\"text-align: right;\">\n",
       "      <th>user_operator</th>\n",
       "      <th>МТС</th>\n",
       "    </tr>\n",
       "    <tr>\n",
       "      <th>Код ошибки</th>\n",
       "      <th></th>\n",
       "    </tr>\n",
       "  </thead>\n",
       "  <tbody>\n",
       "    <tr>\n",
       "      <th>0</th>\n",
       "      <td>278</td>\n",
       "    </tr>\n",
       "    <tr>\n",
       "      <th>51</th>\n",
       "      <td>1</td>\n",
       "    </tr>\n",
       "    <tr>\n",
       "      <th>52</th>\n",
       "      <td>3</td>\n",
       "    </tr>\n",
       "    <tr>\n",
       "      <th>102</th>\n",
       "      <td>3</td>\n",
       "    </tr>\n",
       "  </tbody>\n",
       "</table>\n",
       "</div>"
      ],
      "text/plain": [
       "user_operator  МТС\n",
       "Код ошибки        \n",
       "0              278\n",
       "51               1\n",
       "52               3\n",
       "102              3"
      ]
     },
     "execution_count": 274,
     "metadata": {},
     "output_type": "execute_result"
    }
   ],
   "source": [
    "pvt_Land_1097_3_error_code = Land_1097_3.pivot_table(index=['Код ошибки'], columns=['user_operator'], values='Дата ребилла', aggfunc='count')\n",
    "pvt_Land_1097_3_error_code"
   ]
  },
  {
   "cell_type": "code",
   "execution_count": 275,
   "metadata": {},
   "outputs": [
    {
     "data": {
      "text/html": [
       "<div>\n",
       "<style>\n",
       "    .dataframe thead tr:only-child th {\n",
       "        text-align: right;\n",
       "    }\n",
       "\n",
       "    .dataframe thead th {\n",
       "        text-align: left;\n",
       "    }\n",
       "\n",
       "    .dataframe tbody tr th {\n",
       "        vertical-align: top;\n",
       "    }\n",
       "</style>\n",
       "<table border=\"1\" class=\"dataframe\">\n",
       "  <thead>\n",
       "    <tr style=\"text-align: right;\">\n",
       "      <th>user_operator</th>\n",
       "      <th>МТС</th>\n",
       "    </tr>\n",
       "    <tr>\n",
       "      <th>Код ошибки</th>\n",
       "      <th></th>\n",
       "    </tr>\n",
       "  </thead>\n",
       "  <tbody>\n",
       "    <tr>\n",
       "      <th>0</th>\n",
       "      <td>54</td>\n",
       "    </tr>\n",
       "  </tbody>\n",
       "</table>\n",
       "</div>"
      ],
      "text/plain": [
       "user_operator  МТС\n",
       "Код ошибки        \n",
       "0               54"
      ]
     },
     "execution_count": 275,
     "metadata": {},
     "output_type": "execute_result"
    }
   ],
   "source": [
    "pvt_Land_1121_1_error_code = Land_1121_1.pivot_table(index=['Код ошибки'], columns=['user_operator'], values='Дата ребилла', aggfunc='count')\n",
    "pvt_Land_1121_1_error_code"
   ]
  },
  {
   "cell_type": "code",
   "execution_count": 276,
   "metadata": {},
   "outputs": [
    {
     "data": {
      "text/html": [
       "<div>\n",
       "<style>\n",
       "    .dataframe thead tr:only-child th {\n",
       "        text-align: right;\n",
       "    }\n",
       "\n",
       "    .dataframe thead th {\n",
       "        text-align: left;\n",
       "    }\n",
       "\n",
       "    .dataframe tbody tr th {\n",
       "        vertical-align: top;\n",
       "    }\n",
       "</style>\n",
       "<table border=\"1\" class=\"dataframe\">\n",
       "  <thead>\n",
       "    <tr style=\"text-align: right;\">\n",
       "      <th>user_operator</th>\n",
       "      <th>МТС</th>\n",
       "    </tr>\n",
       "    <tr>\n",
       "      <th>Код ошибки</th>\n",
       "      <th></th>\n",
       "    </tr>\n",
       "  </thead>\n",
       "  <tbody>\n",
       "    <tr>\n",
       "      <th>0</th>\n",
       "      <td>48</td>\n",
       "    </tr>\n",
       "  </tbody>\n",
       "</table>\n",
       "</div>"
      ],
      "text/plain": [
       "user_operator  МТС\n",
       "Код ошибки        \n",
       "0               48"
      ]
     },
     "execution_count": 276,
     "metadata": {},
     "output_type": "execute_result"
    }
   ],
   "source": [
    "pvt_Land_1121_2_error_code = Land_1121_2.pivot_table(index=['Код ошибки'], columns=['user_operator'], values='Дата ребилла', aggfunc='count')\n",
    "pvt_Land_1121_2_error_code"
   ]
  },
  {
   "cell_type": "code",
   "execution_count": 277,
   "metadata": {},
   "outputs": [
    {
     "data": {
      "text/html": [
       "<div>\n",
       "<style>\n",
       "    .dataframe thead tr:only-child th {\n",
       "        text-align: right;\n",
       "    }\n",
       "\n",
       "    .dataframe thead th {\n",
       "        text-align: left;\n",
       "    }\n",
       "\n",
       "    .dataframe tbody tr th {\n",
       "        vertical-align: top;\n",
       "    }\n",
       "</style>\n",
       "<table border=\"1\" class=\"dataframe\">\n",
       "  <thead>\n",
       "    <tr style=\"text-align: right;\">\n",
       "      <th>user_operator</th>\n",
       "      <th>МТС</th>\n",
       "    </tr>\n",
       "    <tr>\n",
       "      <th>Код ошибки</th>\n",
       "      <th></th>\n",
       "    </tr>\n",
       "  </thead>\n",
       "  <tbody>\n",
       "    <tr>\n",
       "      <th>0</th>\n",
       "      <td>102</td>\n",
       "    </tr>\n",
       "  </tbody>\n",
       "</table>\n",
       "</div>"
      ],
      "text/plain": [
       "user_operator  МТС\n",
       "Код ошибки        \n",
       "0              102"
      ]
     },
     "execution_count": 277,
     "metadata": {},
     "output_type": "execute_result"
    }
   ],
   "source": [
    "pvt_Land_1121_3_error_code = Land_1121_3.pivot_table(index=['Код ошибки'], columns=['user_operator'], values='Дата ребилла', aggfunc='count')\n",
    "pvt_Land_1121_3_error_code"
   ]
  },
  {
   "cell_type": "code",
   "execution_count": null,
   "metadata": {
    "collapsed": true
   },
   "outputs": [],
   "source": [
    "Заметка 4.\n",
    "Вот как такое может быть? было 54 на 0 ошибке - стало 48, других ошибок не было. что за хуйня?"
   ]
  },
  {
   "cell_type": "code",
   "execution_count": 278,
   "metadata": {},
   "outputs": [
    {
     "data": {
      "text/html": [
       "<div>\n",
       "<style>\n",
       "    .dataframe thead tr:only-child th {\n",
       "        text-align: right;\n",
       "    }\n",
       "\n",
       "    .dataframe thead th {\n",
       "        text-align: left;\n",
       "    }\n",
       "\n",
       "    .dataframe tbody tr th {\n",
       "        vertical-align: top;\n",
       "    }\n",
       "</style>\n",
       "<table border=\"1\" class=\"dataframe\">\n",
       "  <thead>\n",
       "    <tr style=\"text-align: right;\">\n",
       "      <th>user_operator</th>\n",
       "      <th>МТС</th>\n",
       "    </tr>\n",
       "    <tr>\n",
       "      <th>Код ошибки</th>\n",
       "      <th></th>\n",
       "    </tr>\n",
       "  </thead>\n",
       "  <tbody>\n",
       "    <tr>\n",
       "      <th>0</th>\n",
       "      <td>13</td>\n",
       "    </tr>\n",
       "  </tbody>\n",
       "</table>\n",
       "</div>"
      ],
      "text/plain": [
       "user_operator  МТС\n",
       "Код ошибки        \n",
       "0               13"
      ]
     },
     "execution_count": 278,
     "metadata": {},
     "output_type": "execute_result"
    }
   ],
   "source": [
    "pvt_Land_1120_1_error_code = Land_1120_1.pivot_table(index=['Код ошибки'], columns=['user_operator'], values='Дата ребилла', aggfunc='count')\n",
    "pvt_Land_1120_1_error_code"
   ]
  },
  {
   "cell_type": "code",
   "execution_count": 279,
   "metadata": {},
   "outputs": [
    {
     "data": {
      "text/html": [
       "<div>\n",
       "<style>\n",
       "    .dataframe thead tr:only-child th {\n",
       "        text-align: right;\n",
       "    }\n",
       "\n",
       "    .dataframe thead th {\n",
       "        text-align: left;\n",
       "    }\n",
       "\n",
       "    .dataframe tbody tr th {\n",
       "        vertical-align: top;\n",
       "    }\n",
       "</style>\n",
       "<table border=\"1\" class=\"dataframe\">\n",
       "  <thead>\n",
       "    <tr style=\"text-align: right;\">\n",
       "      <th>user_operator</th>\n",
       "      <th>МТС</th>\n",
       "    </tr>\n",
       "    <tr>\n",
       "      <th>Код ошибки</th>\n",
       "      <th></th>\n",
       "    </tr>\n",
       "  </thead>\n",
       "  <tbody>\n",
       "    <tr>\n",
       "      <th>0</th>\n",
       "      <td>10</td>\n",
       "    </tr>\n",
       "  </tbody>\n",
       "</table>\n",
       "</div>"
      ],
      "text/plain": [
       "user_operator  МТС\n",
       "Код ошибки        \n",
       "0               10"
      ]
     },
     "execution_count": 279,
     "metadata": {},
     "output_type": "execute_result"
    }
   ],
   "source": [
    "pvt_Land_1120_2_error_code = Land_1120_2.pivot_table(index=['Код ошибки'], columns=['user_operator'], values='Дата ребилла', aggfunc='count')\n",
    "pvt_Land_1120_2_error_code"
   ]
  },
  {
   "cell_type": "code",
   "execution_count": 280,
   "metadata": {},
   "outputs": [
    {
     "data": {
      "text/html": [
       "<div>\n",
       "<style>\n",
       "    .dataframe thead tr:only-child th {\n",
       "        text-align: right;\n",
       "    }\n",
       "\n",
       "    .dataframe thead th {\n",
       "        text-align: left;\n",
       "    }\n",
       "\n",
       "    .dataframe tbody tr th {\n",
       "        vertical-align: top;\n",
       "    }\n",
       "</style>\n",
       "<table border=\"1\" class=\"dataframe\">\n",
       "  <thead>\n",
       "    <tr style=\"text-align: right;\">\n",
       "      <th>user_operator</th>\n",
       "      <th>МТС</th>\n",
       "    </tr>\n",
       "    <tr>\n",
       "      <th>Код ошибки</th>\n",
       "      <th></th>\n",
       "    </tr>\n",
       "  </thead>\n",
       "  <tbody>\n",
       "    <tr>\n",
       "      <th>0</th>\n",
       "      <td>23</td>\n",
       "    </tr>\n",
       "  </tbody>\n",
       "</table>\n",
       "</div>"
      ],
      "text/plain": [
       "user_operator  МТС\n",
       "Код ошибки        \n",
       "0               23"
      ]
     },
     "execution_count": 280,
     "metadata": {},
     "output_type": "execute_result"
    }
   ],
   "source": [
    "pvt_Land_1120_3_error_code = Land_1120_3.pivot_table(index=['Код ошибки'], columns=['user_operator'], values='Дата ребилла', aggfunc='count')\n",
    "pvt_Land_1120_3_error_code"
   ]
  },
  {
   "cell_type": "code",
   "execution_count": 281,
   "metadata": {},
   "outputs": [
    {
     "data": {
      "text/html": [
       "<div>\n",
       "<style>\n",
       "    .dataframe thead tr:only-child th {\n",
       "        text-align: right;\n",
       "    }\n",
       "\n",
       "    .dataframe thead th {\n",
       "        text-align: left;\n",
       "    }\n",
       "\n",
       "    .dataframe tbody tr th {\n",
       "        vertical-align: top;\n",
       "    }\n",
       "</style>\n",
       "<table border=\"1\" class=\"dataframe\">\n",
       "  <thead>\n",
       "    <tr style=\"text-align: right;\">\n",
       "      <th>user_operator</th>\n",
       "      <th>МТС</th>\n",
       "    </tr>\n",
       "    <tr>\n",
       "      <th>Код ошибки</th>\n",
       "      <th></th>\n",
       "    </tr>\n",
       "  </thead>\n",
       "  <tbody>\n",
       "    <tr>\n",
       "      <th>0</th>\n",
       "      <td>16</td>\n",
       "    </tr>\n",
       "  </tbody>\n",
       "</table>\n",
       "</div>"
      ],
      "text/plain": [
       "user_operator  МТС\n",
       "Код ошибки        \n",
       "0               16"
      ]
     },
     "execution_count": 281,
     "metadata": {},
     "output_type": "execute_result"
    }
   ],
   "source": [
    "pvt_Land_1012_1_error_code = Land_1012_1.pivot_table(index=['Код ошибки'], columns=['user_operator'], values='Дата ребилла', aggfunc='count')\n",
    "pvt_Land_1012_1_error_code"
   ]
  },
  {
   "cell_type": "code",
   "execution_count": 282,
   "metadata": {},
   "outputs": [
    {
     "data": {
      "text/html": [
       "<div>\n",
       "<style>\n",
       "    .dataframe thead tr:only-child th {\n",
       "        text-align: right;\n",
       "    }\n",
       "\n",
       "    .dataframe thead th {\n",
       "        text-align: left;\n",
       "    }\n",
       "\n",
       "    .dataframe tbody tr th {\n",
       "        vertical-align: top;\n",
       "    }\n",
       "</style>\n",
       "<table border=\"1\" class=\"dataframe\">\n",
       "  <thead>\n",
       "    <tr style=\"text-align: right;\">\n",
       "      <th>user_operator</th>\n",
       "      <th>МТС</th>\n",
       "    </tr>\n",
       "    <tr>\n",
       "      <th>Код ошибки</th>\n",
       "      <th></th>\n",
       "    </tr>\n",
       "  </thead>\n",
       "  <tbody>\n",
       "    <tr>\n",
       "      <th>51</th>\n",
       "      <td>1</td>\n",
       "    </tr>\n",
       "  </tbody>\n",
       "</table>\n",
       "</div>"
      ],
      "text/plain": [
       "user_operator  МТС\n",
       "Код ошибки        \n",
       "51               1"
      ]
     },
     "execution_count": 282,
     "metadata": {},
     "output_type": "execute_result"
    }
   ],
   "source": [
    "pvt_Land_1012_2_error_code = Land_1012_2.pivot_table(index=['Код ошибки'], columns=['user_operator'], values='Дата ребилла', aggfunc='count')\n",
    "pvt_Land_1012_2_error_code"
   ]
  },
  {
   "cell_type": "code",
   "execution_count": 283,
   "metadata": {},
   "outputs": [
    {
     "data": {
      "text/html": [
       "<div>\n",
       "<style>\n",
       "    .dataframe thead tr:only-child th {\n",
       "        text-align: right;\n",
       "    }\n",
       "\n",
       "    .dataframe thead th {\n",
       "        text-align: left;\n",
       "    }\n",
       "\n",
       "    .dataframe tbody tr th {\n",
       "        vertical-align: top;\n",
       "    }\n",
       "</style>\n",
       "<table border=\"1\" class=\"dataframe\">\n",
       "  <thead>\n",
       "    <tr style=\"text-align: right;\">\n",
       "      <th>user_operator</th>\n",
       "      <th>МТС</th>\n",
       "    </tr>\n",
       "    <tr>\n",
       "      <th>Код ошибки</th>\n",
       "      <th></th>\n",
       "    </tr>\n",
       "  </thead>\n",
       "  <tbody>\n",
       "    <tr>\n",
       "      <th>0</th>\n",
       "      <td>16</td>\n",
       "    </tr>\n",
       "    <tr>\n",
       "      <th>51</th>\n",
       "      <td>1</td>\n",
       "    </tr>\n",
       "  </tbody>\n",
       "</table>\n",
       "</div>"
      ],
      "text/plain": [
       "user_operator  МТС\n",
       "Код ошибки        \n",
       "0               16\n",
       "51               1"
      ]
     },
     "execution_count": 283,
     "metadata": {},
     "output_type": "execute_result"
    }
   ],
   "source": [
    "pvt_Land_1012_3_error_code = Land_1012_3.pivot_table(index=['Код ошибки'], columns=['user_operator'], values='Дата ребилла', aggfunc='count')\n",
    "pvt_Land_1012_3_error_code"
   ]
  },
  {
   "cell_type": "code",
   "execution_count": 284,
   "metadata": {},
   "outputs": [
    {
     "data": {
      "text/html": [
       "<div>\n",
       "<style>\n",
       "    .dataframe thead tr:only-child th {\n",
       "        text-align: right;\n",
       "    }\n",
       "\n",
       "    .dataframe thead th {\n",
       "        text-align: left;\n",
       "    }\n",
       "\n",
       "    .dataframe tbody tr th {\n",
       "        vertical-align: top;\n",
       "    }\n",
       "</style>\n",
       "<table border=\"1\" class=\"dataframe\">\n",
       "  <thead>\n",
       "    <tr style=\"text-align: right;\">\n",
       "      <th>user_operator</th>\n",
       "      <th>МТС</th>\n",
       "    </tr>\n",
       "    <tr>\n",
       "      <th>Код ошибки</th>\n",
       "      <th></th>\n",
       "    </tr>\n",
       "  </thead>\n",
       "  <tbody>\n",
       "    <tr>\n",
       "      <th>0</th>\n",
       "      <td>2</td>\n",
       "    </tr>\n",
       "  </tbody>\n",
       "</table>\n",
       "</div>"
      ],
      "text/plain": [
       "user_operator  МТС\n",
       "Код ошибки        \n",
       "0                2"
      ]
     },
     "execution_count": 284,
     "metadata": {},
     "output_type": "execute_result"
    }
   ],
   "source": [
    "pvt_Land_1096_1_error_code = Land_1096_1.pivot_table(index=['Код ошибки'], columns=['user_operator'], values='Дата ребилла', aggfunc='count')\n",
    "pvt_Land_1096_1_error_code"
   ]
  },
  {
   "cell_type": "code",
   "execution_count": 285,
   "metadata": {},
   "outputs": [
    {
     "data": {
      "text/html": [
       "<div>\n",
       "<style>\n",
       "    .dataframe thead tr:only-child th {\n",
       "        text-align: right;\n",
       "    }\n",
       "\n",
       "    .dataframe thead th {\n",
       "        text-align: left;\n",
       "    }\n",
       "\n",
       "    .dataframe tbody tr th {\n",
       "        vertical-align: top;\n",
       "    }\n",
       "</style>\n",
       "<table border=\"1\" class=\"dataframe\">\n",
       "  <thead>\n",
       "    <tr style=\"text-align: right;\">\n",
       "      <th>user_operator</th>\n",
       "      <th>МТС</th>\n",
       "    </tr>\n",
       "    <tr>\n",
       "      <th>Код ошибки</th>\n",
       "      <th></th>\n",
       "    </tr>\n",
       "  </thead>\n",
       "  <tbody>\n",
       "    <tr>\n",
       "      <th>0</th>\n",
       "      <td>1</td>\n",
       "    </tr>\n",
       "  </tbody>\n",
       "</table>\n",
       "</div>"
      ],
      "text/plain": [
       "user_operator  МТС\n",
       "Код ошибки        \n",
       "0                1"
      ]
     },
     "execution_count": 285,
     "metadata": {},
     "output_type": "execute_result"
    }
   ],
   "source": [
    "pvt_Land_1096_2_error_code = Land_1096_2.pivot_table(index=['Код ошибки'], columns=['user_operator'], values='Дата ребилла', aggfunc='count')\n",
    "pvt_Land_1096_2_error_code"
   ]
  },
  {
   "cell_type": "code",
   "execution_count": 286,
   "metadata": {},
   "outputs": [
    {
     "data": {
      "text/html": [
       "<div>\n",
       "<style>\n",
       "    .dataframe thead tr:only-child th {\n",
       "        text-align: right;\n",
       "    }\n",
       "\n",
       "    .dataframe thead th {\n",
       "        text-align: left;\n",
       "    }\n",
       "\n",
       "    .dataframe tbody tr th {\n",
       "        vertical-align: top;\n",
       "    }\n",
       "</style>\n",
       "<table border=\"1\" class=\"dataframe\">\n",
       "  <thead>\n",
       "    <tr style=\"text-align: right;\">\n",
       "      <th>user_operator</th>\n",
       "      <th>МТС</th>\n",
       "    </tr>\n",
       "    <tr>\n",
       "      <th>Код ошибки</th>\n",
       "      <th></th>\n",
       "    </tr>\n",
       "  </thead>\n",
       "  <tbody>\n",
       "    <tr>\n",
       "      <th>0</th>\n",
       "      <td>3</td>\n",
       "    </tr>\n",
       "  </tbody>\n",
       "</table>\n",
       "</div>"
      ],
      "text/plain": [
       "user_operator  МТС\n",
       "Код ошибки        \n",
       "0                3"
      ]
     },
     "execution_count": 286,
     "metadata": {},
     "output_type": "execute_result"
    }
   ],
   "source": [
    "pvt_Land_1096_3_error_code = Land_1096_3.pivot_table(index=['Код ошибки'], columns=['user_operator'], values='Дата ребилла', aggfunc='count')\n",
    "pvt_Land_1096_3_error_code"
   ]
  },
  {
   "cell_type": "code",
   "execution_count": 287,
   "metadata": {},
   "outputs": [
    {
     "data": {
      "text/html": [
       "<div>\n",
       "<style>\n",
       "    .dataframe thead tr:only-child th {\n",
       "        text-align: right;\n",
       "    }\n",
       "\n",
       "    .dataframe thead th {\n",
       "        text-align: left;\n",
       "    }\n",
       "\n",
       "    .dataframe tbody tr th {\n",
       "        vertical-align: top;\n",
       "    }\n",
       "</style>\n",
       "<table border=\"1\" class=\"dataframe\">\n",
       "  <thead>\n",
       "    <tr style=\"text-align: right;\">\n",
       "      <th>user_operator</th>\n",
       "      <th>МТС</th>\n",
       "    </tr>\n",
       "    <tr>\n",
       "      <th>Код ошибки</th>\n",
       "      <th></th>\n",
       "    </tr>\n",
       "  </thead>\n",
       "  <tbody>\n",
       "    <tr>\n",
       "      <th>0</th>\n",
       "      <td>1</td>\n",
       "    </tr>\n",
       "  </tbody>\n",
       "</table>\n",
       "</div>"
      ],
      "text/plain": [
       "user_operator  МТС\n",
       "Код ошибки        \n",
       "0                1"
      ]
     },
     "execution_count": 287,
     "metadata": {},
     "output_type": "execute_result"
    }
   ],
   "source": [
    "pvt_Land_1119_1_error_code = Land_1119_1.pivot_table(index=['Код ошибки'], columns=['user_operator'], values='Дата ребилла', aggfunc='count')\n",
    "pvt_Land_1119_1_error_code"
   ]
  },
  {
   "cell_type": "code",
   "execution_count": 288,
   "metadata": {},
   "outputs": [
    {
     "data": {
      "text/html": [
       "<div>\n",
       "<style>\n",
       "    .dataframe thead tr:only-child th {\n",
       "        text-align: right;\n",
       "    }\n",
       "\n",
       "    .dataframe thead th {\n",
       "        text-align: left;\n",
       "    }\n",
       "\n",
       "    .dataframe tbody tr th {\n",
       "        vertical-align: top;\n",
       "    }\n",
       "</style>\n",
       "<table border=\"1\" class=\"dataframe\">\n",
       "  <thead>\n",
       "    <tr style=\"text-align: right;\">\n",
       "      <th>user_operator</th>\n",
       "      <th>МТС</th>\n",
       "    </tr>\n",
       "    <tr>\n",
       "      <th>Код ошибки</th>\n",
       "      <th></th>\n",
       "    </tr>\n",
       "  </thead>\n",
       "  <tbody>\n",
       "    <tr>\n",
       "      <th>0</th>\n",
       "      <td>1</td>\n",
       "    </tr>\n",
       "  </tbody>\n",
       "</table>\n",
       "</div>"
      ],
      "text/plain": [
       "user_operator  МТС\n",
       "Код ошибки        \n",
       "0                1"
      ]
     },
     "execution_count": 288,
     "metadata": {},
     "output_type": "execute_result"
    }
   ],
   "source": [
    "pvt_Land_1119_3_error_code = Land_1119_3.pivot_table(index=['Код ошибки'], columns=['user_operator'], values='Дата ребилла', aggfunc='count')\n",
    "pvt_Land_1119_3_error_code"
   ]
  },
  {
   "cell_type": "code",
   "execution_count": null,
   "metadata": {
    "collapsed": true
   },
   "outputs": [],
   "source": [
    "СВодка #5. Число уникальных юзеров по Лэндингам.\n",
    "Адептам скуля и эксель посвящаеться варпа-функция.\n",
    "Функция возвращает число уникальных msisdn - юзеров."
   ]
  },
  {
   "cell_type": "code",
   "execution_count": 297,
   "metadata": {
    "collapsed": true
   },
   "outputs": [],
   "source": [
    "def stat_unic_users(x,y,z,a,b,c):\n",
    "    x = x['msisdn'].drop_duplicates().value_counts()\n",
    "    y = y['sub_uuid'].drop_duplicates().value_counts()\n",
    "    z = z['msisdn'].drop_duplicates().value_counts()\n",
    "    a = a['sub_uuid'].drop_duplicates().value_counts()\n",
    "    b = b['msisdn'].drop_duplicates().value_counts()\n",
    "    c = c['sub_uuid'].drop_duplicates().value_counts() \n",
    "    return len(x),len(y),len(z),len(a),len(b),len(c)"
   ]
  },
  {
   "cell_type": "code",
   "execution_count": 299,
   "metadata": {},
   "outputs": [
    {
     "data": {
      "text/plain": [
       "(103253, 171404, 73547, 117530, 134271, 259029)"
      ]
     },
     "execution_count": 299,
     "metadata": {},
     "output_type": "execute_result"
    }
   ],
   "source": [
    "Land_1521_unic_users = stat_unic_users(Land_1521_1,Land_1521_1,Land_1521_2,Land_1521_2,Land_1521_3,Land_1521_3)\n",
    "Land_1521_unic_users"
   ]
  },
  {
   "cell_type": "code",
   "execution_count": 300,
   "metadata": {},
   "outputs": [
    {
     "data": {
      "text/plain": [
       "(94036, 105820, 33491, 33492, 96919, 109159)"
      ]
     },
     "execution_count": 300,
     "metadata": {},
     "output_type": "execute_result"
    }
   ],
   "source": [
    "Land_933_unic_users = stat_unic_users(Land_933_1,Land_933_1,Land_933_2,Land_933_2,Land_933_3,Land_933_3)\n",
    "Land_933_unic_users"
   ]
  },
  {
   "cell_type": "code",
   "execution_count": 301,
   "metadata": {},
   "outputs": [
    {
     "data": {
      "text/plain": [
       "(3171, 3171, 833, 833, 3187, 3187)"
      ]
     },
     "execution_count": 301,
     "metadata": {},
     "output_type": "execute_result"
    }
   ],
   "source": [
    "Land_1412_unic_users = stat_unic_users(Land_1412_1,Land_1412_1,Land_1412_2,Land_1412_2,Land_1412_3,Land_1412_3)\n",
    "Land_1412_unic_users"
   ]
  },
  {
   "cell_type": "code",
   "execution_count": 302,
   "metadata": {},
   "outputs": [
    {
     "data": {
      "text/plain": [
       "(74, 74, 50, 50, 75, 75)"
      ]
     },
     "execution_count": 302,
     "metadata": {},
     "output_type": "execute_result"
    }
   ],
   "source": [
    "Land_1013_unic_users = stat_unic_users(Land_1013_1,Land_1013_1,Land_1013_2,Land_1013_2,Land_1013_3,Land_1013_3)\n",
    "Land_1013_unic_users"
   ]
  },
  {
   "cell_type": "code",
   "execution_count": 303,
   "metadata": {},
   "outputs": [
    {
     "data": {
      "text/plain": [
       "(94, 94, 109, 110, 155, 156)"
      ]
     },
     "execution_count": 303,
     "metadata": {},
     "output_type": "execute_result"
    }
   ],
   "source": [
    "Land_1411_unic_users = stat_unic_users(Land_1411_1,Land_1411_1,Land_1411_2,Land_1411_2,Land_1411_3,Land_1411_3)\n",
    "Land_1411_unic_users"
   ]
  },
  {
   "cell_type": "code",
   "execution_count": 304,
   "metadata": {},
   "outputs": [
    {
     "data": {
      "text/plain": [
       "(14, 14, 8, 8, 15, 15)"
      ]
     },
     "execution_count": 304,
     "metadata": {},
     "output_type": "execute_result"
    }
   ],
   "source": [
    "Land_1097_unic_users = stat_unic_users(Land_1097_1,Land_1097_1,Land_1097_2,Land_1097_2,Land_1097_3,Land_1097_3)\n",
    "Land_1097_unic_users"
   ]
  },
  {
   "cell_type": "code",
   "execution_count": 305,
   "metadata": {},
   "outputs": [
    {
     "data": {
      "text/plain": [
       "(2, 2, 2, 2, 2, 2)"
      ]
     },
     "execution_count": 305,
     "metadata": {},
     "output_type": "execute_result"
    }
   ],
   "source": [
    "Land_1121_unic_users = stat_unic_users(Land_1121_1,Land_1121_1,Land_1121_2,Land_1121_2,Land_1121_3,Land_1121_3)\n",
    "Land_1121_unic_users"
   ]
  },
  {
   "cell_type": "code",
   "execution_count": 306,
   "metadata": {},
   "outputs": [
    {
     "data": {
      "text/plain": [
       "(1, 1, 1, 1, 1, 1)"
      ]
     },
     "execution_count": 306,
     "metadata": {},
     "output_type": "execute_result"
    }
   ],
   "source": [
    "Land_1120_unic_users = stat_unic_users(Land_1120_1,Land_1120_1,Land_1120_2,Land_1120_2,Land_1120_3,Land_1120_3)\n",
    "Land_1120_unic_users"
   ]
  },
  {
   "cell_type": "code",
   "execution_count": 307,
   "metadata": {},
   "outputs": [
    {
     "data": {
      "text/plain": [
       "(2, 2, 1, 1, 2, 2)"
      ]
     },
     "execution_count": 307,
     "metadata": {},
     "output_type": "execute_result"
    }
   ],
   "source": [
    "Land_1012_unic_users = stat_unic_users(Land_1012_1,Land_1012_1,Land_1012_2,Land_1012_2,Land_1012_3,Land_1012_3)\n",
    "Land_1012_unic_users"
   ]
  },
  {
   "cell_type": "code",
   "execution_count": 308,
   "metadata": {},
   "outputs": [
    {
     "data": {
      "text/plain": [
       "(1, 1, 1, 1, 1, 1)"
      ]
     },
     "execution_count": 308,
     "metadata": {},
     "output_type": "execute_result"
    }
   ],
   "source": [
    "Land_1096_unic_users = stat_unic_users(Land_1096_1,Land_1096_1,Land_1096_2,Land_1096_2,Land_1096_3,Land_1096_3)\n",
    "Land_1096_unic_users"
   ]
  },
  {
   "cell_type": "code",
   "execution_count": 309,
   "metadata": {},
   "outputs": [
    {
     "data": {
      "text/plain": [
       "79165101905    1\n",
       "Name: msisdn, dtype: int64"
      ]
     },
     "execution_count": 309,
     "metadata": {},
     "output_type": "execute_result"
    }
   ],
   "source": [
    "Land_1119_unic_users = Land_1119_3['msisdn'].drop_duplicates().value_counts()\n",
    "Land_1119_unic_users"
   ]
  },
  {
   "cell_type": "code",
   "execution_count": null,
   "metadata": {
    "collapsed": true
   },
   "outputs": [],
   "source": [
    "Задача Последняя.\n",
    "Окей няша. ты не заснул и не забил. И даже не открыл пиво которое мерзнёт в холодильнике со среды. Осталось свести статку и\n",
    "сделать выводы. Но для начала понастрой им кучу графиков. А то 100% без картинок будут говорить что код не код и что ты не\n",
    "работал все праздники потому что нету комиксов. Надо будет попросить прибавку."
   ]
  },
  {
   "cell_type": "code",
   "execution_count": null,
   "metadata": {
    "collapsed": true
   },
   "outputs": [],
   "source": [
    "Сводка №6. Комиксы."
   ]
  },
  {
   "cell_type": "code",
   "execution_count": 310,
   "metadata": {},
   "outputs": [
    {
     "data": {
      "image/png": "[encoded data removed]",
      "text/plain": [
       "<matplotlib.figure.Figure at 0xbbeed30>"
      ]
     },
     "metadata": {},
     "output_type": "display_data"
    }
   ],
   "source": [
    "sns.countplot(x=\"Лэндинг\", hue='Код ошибки', data=df_1);"
   ]
  },
  {
   "cell_type": "code",
   "execution_count": 311,
   "metadata": {},
   "outputs": [
    {
     "data": {
      "image/png": "[encoded data removed]",
      "text/plain": [
       "<matplotlib.figure.Figure at 0xbc37f28>"
      ]
     },
     "metadata": {},
     "output_type": "display_data"
    }
   ],
   "source": [
    "sns.countplot(x=\"Лэндинг\", hue='Код ошибки', data=df_2);"
   ]
  },
  {
   "cell_type": "code",
   "execution_count": 312,
   "metadata": {},
   "outputs": [
    {
     "data": {
      "image/png": "[encoded data removed]",
      "text/plain": [
       "<matplotlib.figure.Figure at 0x26c97d30>"
      ]
     },
     "metadata": {},
     "output_type": "display_data"
    }
   ],
   "source": [
    "sns.countplot(x=\"Лэндинг\", hue='Код ошибки', data=df_3);"
   ]
  },
  {
   "cell_type": "code",
   "execution_count": 319,
   "metadata": {},
   "outputs": [
    {
     "data": {
      "image/png": "[encoded data removed]",
      "text/plain": [
       "<matplotlib.figure.Figure at 0xbbf0ac8>"
      ]
     },
     "metadata": {},
     "output_type": "display_data"
    }
   ],
   "source": [
    "sns.countplot(x=\"Лэндинг\", hue='Статус', data=df_1);"
   ]
  },
  {
   "cell_type": "code",
   "execution_count": 321,
   "metadata": {},
   "outputs": [
    {
     "data": {
      "image/png": "[encoded data removed]",
      "text/plain": [
       "<matplotlib.figure.Figure at 0x3b36b2b0>"
      ]
     },
     "metadata": {},
     "output_type": "display_data"
    }
   ],
   "source": [
    "sns.countplot(x=\"Лэндинг\", hue='Статус', data=df_2);"
   ]
  },
  {
   "cell_type": "code",
   "execution_count": 322,
   "metadata": {},
   "outputs": [
    {
     "data": {
      "image/png": "[encoded data removed]",
      "text/plain": [
       "<matplotlib.figure.Figure at 0x933ea048>"
      ]
     },
     "metadata": {},
     "output_type": "display_data"
    }
   ],
   "source": [
    "sns.countplot(x=\"Лэндинг\", hue='Статус', data=df_3);"
   ]
  },
  {
   "cell_type": "code",
   "execution_count": 323,
   "metadata": {},
   "outputs": [
    {
     "data": {
      "image/png": "[encoded data removed]",
      "text/plain": [
       "<matplotlib.figure.Figure at 0x94268160>"
      ]
     },
     "metadata": {},
     "output_type": "display_data"
    }
   ],
   "source": [
    "sns.countplot(x=\"Лэндинг\", hue='user_operator', data=df_1);"
   ]
  },
  {
   "cell_type": "code",
   "execution_count": 324,
   "metadata": {},
   "outputs": [
    {
     "data": {
      "image/png": "[encoded data removed]",
      "text/plain": [
       "<matplotlib.figure.Figure at 0x26678b70>"
      ]
     },
     "metadata": {},
     "output_type": "display_data"
    }
   ],
   "source": [
    "sns.countplot(x=\"Лэндинг\", hue='user_operator', data=df_2);"
   ]
  },
  {
   "cell_type": "code",
   "execution_count": 325,
   "metadata": {},
   "outputs": [
    {
     "data": {
      "image/png": "[encoded data removed]",
      "text/plain": [
       "<matplotlib.figure.Figure at 0x9718f2e8>"
      ]
     },
     "metadata": {},
     "output_type": "display_data"
    }
   ],
   "source": [
    "sns.countplot(x=\"Лэндинг\", hue='user_operator', data=df_3);"
   ]
  },
  {
   "cell_type": "code",
   "execution_count": 327,
   "metadata": {},
   "outputs": [
    {
     "data": {
      "image/png": "[encoded data removed]",
      "text/plain": [
       "<matplotlib.figure.Figure at 0x93476710>"
      ]
     },
     "metadata": {},
     "output_type": "display_data"
    }
   ],
   "source": [
    "sns.countplot(x=\"user_operator\", hue='Статус', data=df_1);"
   ]
  },
  {
   "cell_type": "code",
   "execution_count": 328,
   "metadata": {},
   "outputs": [
    {
     "data": {
      "image/png": "[encoded data removed]",
      "text/plain": [
       "<matplotlib.figure.Figure at 0x94ee7128>"
      ]
     },
     "metadata": {},
     "output_type": "display_data"
    }
   ],
   "source": [
    "sns.countplot(x=\"user_operator\", hue='Статус', data=df_2);"
   ]
  },
  {
   "cell_type": "code",
   "execution_count": 329,
   "metadata": {},
   "outputs": [
    {
     "data": {
      "image/png": "[encoded data removed]",
      "text/plain": [
       "<matplotlib.figure.Figure at 0x950c7f60>"
      ]
     },
     "metadata": {},
     "output_type": "display_data"
    }
   ],
   "source": [
    "sns.countplot(x=\"user_operator\", hue='Статус', data=df_3);"
   ]
  },
  {
   "cell_type": "code",
   "execution_count": 331,
   "metadata": {},
   "outputs": [
    {
     "data": {
      "image/png": "[encoded data removed]",
      "text/plain": [
       "<matplotlib.figure.Figure at 0x9ddc6ef0>"
      ]
     },
     "metadata": {},
     "output_type": "display_data"
    }
   ],
   "source": [
    "sns.countplot(x=\"Код ошибки\", hue='user_operator', data=df_1);"
   ]
  },
  {
   "cell_type": "code",
   "execution_count": 332,
   "metadata": {},
   "outputs": [
    {
     "data": {
      "image/png": "[encoded data removed]",
      "text/plain": [
       "<matplotlib.figure.Figure at 0xbbbd2e8>"
      ]
     },
     "metadata": {},
     "output_type": "display_data"
    }
   ],
   "source": [
    "sns.countplot(x=\"Код ошибки\", hue='user_operator', data=df_2);"
   ]
  },
  {
   "cell_type": "code",
   "execution_count": 333,
   "metadata": {},
   "outputs": [
    {
     "data": {
      "image/png": "[encoded data removed]",
      "text/plain": [
       "<matplotlib.figure.Figure at 0x94d6d6a0>"
      ]
     },
     "metadata": {},
     "output_type": "display_data"
    }
   ],
   "source": [
    "sns.countplot(x=\"Код ошибки\", hue='user_operator', data=df_3);"
   ]
  },
  {
   "cell_type": "code",
   "execution_count": 336,
   "metadata": {},
   "outputs": [
    {
     "data": {
      "text/plain": [
       "<matplotlib.axes._subplots.AxesSubplot at 0x94aa8a58>"
      ]
     },
     "execution_count": 336,
     "metadata": {},
     "output_type": "execute_result"
    },
    {
     "data": {
      "image/png": "[encoded data removed]",
      "text/plain": [
       "<matplotlib.figure.Figure at 0x9d8c0c50>"
      ]
     },
     "metadata": {},
     "output_type": "display_data"
    }
   ],
   "source": [
    "sales_df_1 = df_1[[x for x in df_1.columns if 'user' in x] + ['Дата ребилла']]\n",
    "sales_df_1.groupby('Дата ребилла').sum().plot()"
   ]
  },
  {
   "cell_type": "code",
   "execution_count": null,
   "metadata": {
    "collapsed": true
   },
   "outputs": [],
   "source": []
  },
  {
   "cell_type": "code",
   "execution_count": 337,
   "metadata": {},
   "outputs": [
    {
     "data": {
      "text/plain": [
       "<matplotlib.axes._subplots.AxesSubplot at 0x999cbc18>"
      ]
     },
     "execution_count": 337,
     "metadata": {},
     "output_type": "execute_result"
    },
    {
     "data": {
      "image/png": "[encoded data removed]",
      "text/plain": [
       "<matplotlib.figure.Figure at 0x95160f60>"
      ]
     },
     "metadata": {},
     "output_type": "display_data"
    }
   ],
   "source": [
    "sales_df_1 = df_1[[x for x in df_1.columns if 'Статус' in x] + ['Дата ребилла']]\n",
    "sales_df_1.groupby('Дата ребилла').sum().plot()"
   ]
  },
  {
   "cell_type": "code",
   "execution_count": 338,
   "metadata": {},
   "outputs": [
    {
     "data": {
      "text/plain": [
       "<matplotlib.axes._subplots.AxesSubplot at 0x944b6cc0>"
      ]
     },
     "execution_count": 338,
     "metadata": {},
     "output_type": "execute_result"
    },
    {
     "data": {
      "image/png": "[encoded data removed]",
      "text/plain": [
       "<matplotlib.figure.Figure at 0x94284f98>"
      ]
     },
     "metadata": {},
     "output_type": "display_data"
    }
   ],
   "source": [
    "sales_df_2 = df_2[[x for x in df_1.columns if 'Статус' in x] + ['Дата ребилла']]\n",
    "sales_df_2.groupby('Дата ребилла').sum().plot()"
   ]
  },
  {
   "cell_type": "code",
   "execution_count": 339,
   "metadata": {},
   "outputs": [
    {
     "data": {
      "text/plain": [
       "<matplotlib.axes._subplots.AxesSubplot at 0x94ac47f0>"
      ]
     },
     "execution_count": 339,
     "metadata": {},
     "output_type": "execute_result"
    },
    {
     "data": {
      "image/png": "[encoded data removed]",
      "text/plain": [
       "<matplotlib.figure.Figure at 0x9dd6a390>"
      ]
     },
     "metadata": {},
     "output_type": "display_data"
    }
   ],
   "source": [
    "sales_df_3 = df_3[[x for x in df_1.columns if 'Статус' in x] + ['Дата ребилла']]\n",
    "sales_df_3.groupby('Дата ребилла').sum().plot()"
   ]
  },
  {
   "cell_type": "code",
   "execution_count": null,
   "metadata": {
    "collapsed": true
   },
   "outputs": [],
   "source": []
  },
  {
   "cell_type": "code",
   "execution_count": null,
   "metadata": {
    "collapsed": true
   },
   "outputs": [],
   "source": [
    "platform_genre_sales = df.pivot_table(\n",
    "                        index='Platform', \n",
    "                        columns='Genre', \n",
    "                        values='Global_Sales', \n",
    "                        aggfunc=sum).fillna(0).applymap(float)\n",
    "sns.heatmap(platform_genre_sales, annot=True, fmt=\".1f\", linewidths=.5)"
   ]
  },
  {
   "cell_type": "code",
   "execution_count": null,
   "metadata": {
    "collapsed": true
   },
   "outputs": [],
   "source": [
    "упс. а вот и прерывание. оператива кончилась. ну что ока. пора идти пить пиво."
   ]
  },
  {
   "cell_type": "code",
   "execution_count": null,
   "metadata": {
    "collapsed": true
   },
   "outputs": [],
   "source": []
  },
  {
   "cell_type": "code",
   "execution_count": null,
   "metadata": {
    "collapsed": true
   },
   "outputs": [],
   "source": []
  },
  {
   "cell_type": "code",
   "execution_count": null,
   "metadata": {
    "collapsed": true
   },
   "outputs": [],
   "source": []
  },
  {
   "cell_type": "code",
   "execution_count": null,
   "metadata": {
    "collapsed": true
   },
   "outputs": [],
   "source": []
  },
  {
   "cell_type": "code",
   "execution_count": null,
   "metadata": {
    "collapsed": true
   },
   "outputs": [],
   "source": []
  },
  {
   "cell_type": "code",
   "execution_count": null,
   "metadata": {
    "collapsed": true
   },
   "outputs": [],
   "source": []
  },
  {
   "cell_type": "code",
   "execution_count": null,
   "metadata": {
    "collapsed": true
   },
   "outputs": [],
   "source": []
  }
 ],
 "metadata": {
  "kernelspec": {
   "display_name": "Python 3",
   "language": "python",
   "name": "python3"
  },
  "language_info": {
   "codemirror_mode": {
    "name": "ipython",
    "version": 3
   },
   "file_extension": ".py",
   "mimetype": "text/x-python",
   "name": "python",
   "nbconvert_exporter": "python",
   "pygments_lexer": "ipython3",
   "version": "3.6.1"
  }
 },
 "nbformat": 4,
 "nbformat_minor": 2
}
