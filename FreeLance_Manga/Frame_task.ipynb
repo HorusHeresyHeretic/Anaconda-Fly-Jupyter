{
 "cells": [
  {
   "cell_type": "code",
   "execution_count": null,
   "metadata": {
    "collapsed": true
   },
   "outputs": [],
   "source": [
    "Пишем витрину данных по исходникам с SQL сервера компании на оценку трафика.\n",
    "Отдаём админу БД датафрейм и требуем с него выгрузку по указанному шаблону.\n",
    "При этом желательно комментить голосом и русским языком колонки и хотелки.\n",
    "\n",
    "1.\n",
    "bool - эnо логический тип данных, True - False, может быть представлен как 1 и 0.\n",
    "object - это строка, type(str)\n",
    "int64- целое число.\n",
    "\n",
    "2.\n",
    "В  user agent string (UA) - лежит мусор,\n",
    "- нам оттуда надо только модель телефона\n",
    "и профишка, она записана в первых скобочках.\n",
    "\n",
    "3.\n",
    "Landing_sales - доходы по лэндингу.\n",
    "Exchange_sales - доходы по экченджу.\n",
    "User_Sales - доходы по пользователю.\n",
    "\n",
    "4.\n",
    "Exchange_type - тип трафика, fraud или undef\n",
    "User_type - тип интернета.\n",
    "\n",
    "PS.\n",
    "Заодно объясняем бизнесу почему выгрузку делает программист SQL.\n",
    "Потому что программист Python не являеться программистом SQL.\n",
    "+ у него зарлпата вдоё меньше и он на это он потратит 2 дня.\n",
    "а мне платят за то чтобы я считал данные заради биллинга."
   ]
  },
  {
   "cell_type": "code",
   "execution_count": 1,
   "metadata": {
    "collapsed": true
   },
   "outputs": [],
   "source": [
    "from __future__ import division, print_function\n",
    "import warnings\n",
    "warnings.filterwarnings('ignore')\n",
    "import pandas as pd"
   ]
  },
  {
   "cell_type": "code",
   "execution_count": 2,
   "metadata": {
    "collapsed": true
   },
   "outputs": [],
   "source": [
    "DeadLine_Time = pd.DataFrame({\n",
    "                            \"sub_uuid\": [\"28d0534e-20b5-11e8-91cd-b05bffe3b28f\", \"28e36056-20b5-11e8-91cd-b05bffe3b28f\"  ],\n",
    "                            \"IP\": ['213.87.162.165', '213.87.162.165'],\n",
    "                            'Landing':[1028,1521],\n",
    "                            'Active':[True,False],\n",
    "                            'Rebill':[True ,False],\n",
    "                            \"Rebil_Sales\": [11,0],\n",
    "                            \"Error\": [103, 105],\n",
    "                            \"Connection\":['mks_478','mks_478'],\n",
    "                            'Init_Date': ['2018-03-06 16:54:30','2018-03-06 16:54:30'],\n",
    "                            'Activation_Date': ['2018-03-06 16:54:30','2018-03-06 16:54:30'],\n",
    "                            'Stop_Date':['2018-03-06 16:54:30','2018-03-06 16:54:30'],\n",
    "                            'Rebil_Date':['2018-04-06 16:54:30','2018-04-06 16:54:30'],\n",
    "                            'Reference' :['click.tripleupmobi.com','9n2hupgl.top'],\n",
    "                            'UA':['1PHONE Build/KOT49H','VOX S504 3G VS5016PG Build/LMY47D'],\n",
    "                            'Connection_camp':[62, 5],\n",
    "                            'Connection_domain':['documentaryaddict.com','2309-25686515eef3c3bbf5b83c5c8d0faf1a.peakadx.com'],\n",
    "                            'Connection_exchange':['peakadx','exoclick'],\n",
    "                            'Connection_ic': ['058ddd7a-eac6-4459-8018-23023ba5aa14:1935489880','058ddd7a-eac6-4459-8018-23023ba5aa14:1935489880'],\n",
    "                            'Connection_id_zone': ['Zone-2600627','Zone-2929530'],\n",
    "                            'Connection_list':['fixed','adult'],\n",
    "                            'Connection_req_with':['com.tct.weather','com.rock.gota'],\n",
    "                            'Connection_test': ['sms', 'amedia_all'],\n",
    "                            'Connection_tmpl':['got_1click2','a_1click_4'],\n",
    "                            'Connection_type':['iframe','popup'],\n",
    "                            'Connection_x_req_with':['apk.guidestreetfighter264.app','com.tlhjde.vsai'],\n",
    "                            'Landing_SUBSCRIPTION': [True, False],\n",
    "                            'Landing_SUBSCRIPTION_SOURCE':[4,0],\n",
    "                            'Landing_CONTENT_ID':['ab6b7102-8a82-4160-8a60-223c4e3c4583',' dbf5afab-eb56-4ad8-8e75-e0d899571bf9'],\n",
    "                            'Landing_DISABLE_TRIAL_CHECK':[True,False],\n",
    "                            'Landing_IGNORE_CONTENT_PROTECTION':[True,False],\n",
    "                            'Landing_IS_AOC':[True,False],\n",
    "                            'Landing_IS_BRAND':[True, False],\n",
    "                            'Landing_IS_CAPTCHA':[True,False],\n",
    "                            'Landing_IS_SUBSCRIPTION_BLOCKED':[True,False],\n",
    "                            'Landing_MASTER_CONTENT_ID':['99fdac52-5ff4-4857-9474-c560fdb7bc1e','99fdac52-5ff4-4857-9474-c560fdb7bc1e'],\n",
    "                            'Landing_TRIAL_PERIOD': [True, False],\n",
    "                            'Landing_TARIFF_CATEGORY':['09401.000002','09401.000004'],\n",
    "                            'Landing_SOURCE':[4 , 0],\n",
    "                            'Landing_sales':[12000, 600],\n",
    "                            'Exchange_sales':[3234432,34323242],\n",
    "                            'User_Sales':[1200,0],\n",
    "                            'Exchange_type':['fraud','undef'],\n",
    "                            'User_type':['wi-fi','MTS']\n",
    "})"
   ]
  },
  {
   "cell_type": "code",
   "execution_count": 3,
   "metadata": {},
   "outputs": [
    {
     "data": {
      "text/plain": [
       "0   2018-03-06 16:54:30\n",
       "1   2018-03-06 16:54:30\n",
       "Name: Init_Date, dtype: datetime64[ns]"
      ]
     },
     "execution_count": 3,
     "metadata": {},
     "output_type": "execute_result"
    }
   ],
   "source": [
    "DeadLine_Time['Init_Date'].apply(pd.to_datetime)"
   ]
  },
  {
   "cell_type": "code",
   "execution_count": 4,
   "metadata": {},
   "outputs": [
    {
     "data": {
      "text/plain": [
       "0   2018-03-06 16:54:30\n",
       "1   2018-03-06 16:54:30\n",
       "Name: Activation_Date, dtype: datetime64[ns]"
      ]
     },
     "execution_count": 4,
     "metadata": {},
     "output_type": "execute_result"
    }
   ],
   "source": [
    "DeadLine_Time['Activation_Date'].apply(pd.to_datetime)"
   ]
  },
  {
   "cell_type": "code",
   "execution_count": 5,
   "metadata": {},
   "outputs": [
    {
     "data": {
      "text/plain": [
       "0   2018-03-06 16:54:30\n",
       "1   2018-03-06 16:54:30\n",
       "Name: Stop_Date, dtype: datetime64[ns]"
      ]
     },
     "execution_count": 5,
     "metadata": {},
     "output_type": "execute_result"
    }
   ],
   "source": [
    "DeadLine_Time['Stop_Date'].apply(pd.to_datetime)"
   ]
  },
  {
   "cell_type": "code",
   "execution_count": 6,
   "metadata": {},
   "outputs": [
    {
     "data": {
      "text/plain": [
       "0   2018-04-06 16:54:30\n",
       "1   2018-04-06 16:54:30\n",
       "Name: Rebil_Date, dtype: datetime64[ns]"
      ]
     },
     "execution_count": 6,
     "metadata": {},
     "output_type": "execute_result"
    }
   ],
   "source": [
    "DeadLine_Time['Rebil_Date'].apply(pd.to_datetime)"
   ]
  },
  {
   "cell_type": "code",
   "execution_count": 7,
   "metadata": {},
   "outputs": [
    {
     "data": {
      "text/html": [
       "<div>\n",
       "<style>\n",
       "    .dataframe thead tr:only-child th {\n",
       "        text-align: right;\n",
       "    }\n",
       "\n",
       "    .dataframe thead th {\n",
       "        text-align: left;\n",
       "    }\n",
       "\n",
       "    .dataframe tbody tr th {\n",
       "        vertical-align: top;\n",
       "    }\n",
       "</style>\n",
       "<table border=\"1\" class=\"dataframe\">\n",
       "  <thead>\n",
       "    <tr style=\"text-align: right;\">\n",
       "      <th></th>\n",
       "      <th>Activation_Date</th>\n",
       "      <th>Active</th>\n",
       "      <th>Connection</th>\n",
       "      <th>Connection_camp</th>\n",
       "      <th>Connection_domain</th>\n",
       "      <th>Connection_exchange</th>\n",
       "      <th>Connection_ic</th>\n",
       "      <th>Connection_id_zone</th>\n",
       "      <th>Connection_list</th>\n",
       "      <th>Connection_req_with</th>\n",
       "      <th>...</th>\n",
       "      <th>Landing_sales</th>\n",
       "      <th>Rebil_Date</th>\n",
       "      <th>Rebil_Sales</th>\n",
       "      <th>Rebill</th>\n",
       "      <th>Reference</th>\n",
       "      <th>Stop_Date</th>\n",
       "      <th>UA</th>\n",
       "      <th>User_Sales</th>\n",
       "      <th>User_type</th>\n",
       "      <th>sub_uuid</th>\n",
       "    </tr>\n",
       "  </thead>\n",
       "  <tbody>\n",
       "    <tr>\n",
       "      <th>0</th>\n",
       "      <td>2018-03-06 16:54:30</td>\n",
       "      <td>True</td>\n",
       "      <td>mks_478</td>\n",
       "      <td>62</td>\n",
       "      <td>documentaryaddict.com</td>\n",
       "      <td>peakadx</td>\n",
       "      <td>058ddd7a-eac6-4459-8018-23023ba5aa14:1935489880</td>\n",
       "      <td>Zone-2600627</td>\n",
       "      <td>fixed</td>\n",
       "      <td>com.tct.weather</td>\n",
       "      <td>...</td>\n",
       "      <td>12000</td>\n",
       "      <td>2018-04-06 16:54:30</td>\n",
       "      <td>11</td>\n",
       "      <td>True</td>\n",
       "      <td>click.tripleupmobi.com</td>\n",
       "      <td>2018-03-06 16:54:30</td>\n",
       "      <td>1PHONE Build/KOT49H</td>\n",
       "      <td>1200</td>\n",
       "      <td>wi-fi</td>\n",
       "      <td>28d0534e-20b5-11e8-91cd-b05bffe3b28f</td>\n",
       "    </tr>\n",
       "    <tr>\n",
       "      <th>1</th>\n",
       "      <td>2018-03-06 16:54:30</td>\n",
       "      <td>False</td>\n",
       "      <td>mks_478</td>\n",
       "      <td>5</td>\n",
       "      <td>2309-25686515eef3c3bbf5b83c5c8d0faf1a.peakadx.com</td>\n",
       "      <td>exoclick</td>\n",
       "      <td>058ddd7a-eac6-4459-8018-23023ba5aa14:1935489880</td>\n",
       "      <td>Zone-2929530</td>\n",
       "      <td>adult</td>\n",
       "      <td>com.rock.gota</td>\n",
       "      <td>...</td>\n",
       "      <td>600</td>\n",
       "      <td>2018-04-06 16:54:30</td>\n",
       "      <td>0</td>\n",
       "      <td>False</td>\n",
       "      <td>9n2hupgl.top</td>\n",
       "      <td>2018-03-06 16:54:30</td>\n",
       "      <td>VOX S504 3G VS5016PG Build/LMY47D</td>\n",
       "      <td>0</td>\n",
       "      <td>MTS</td>\n",
       "      <td>28e36056-20b5-11e8-91cd-b05bffe3b28f</td>\n",
       "    </tr>\n",
       "  </tbody>\n",
       "</table>\n",
       "<p>2 rows × 43 columns</p>\n",
       "</div>"
      ],
      "text/plain": [
       "       Activation_Date  Active Connection  Connection_camp  \\\n",
       "0  2018-03-06 16:54:30    True    mks_478               62   \n",
       "1  2018-03-06 16:54:30   False    mks_478                5   \n",
       "\n",
       "                                   Connection_domain Connection_exchange  \\\n",
       "0                              documentaryaddict.com             peakadx   \n",
       "1  2309-25686515eef3c3bbf5b83c5c8d0faf1a.peakadx.com            exoclick   \n",
       "\n",
       "                                     Connection_ic Connection_id_zone  \\\n",
       "0  058ddd7a-eac6-4459-8018-23023ba5aa14:1935489880       Zone-2600627   \n",
       "1  058ddd7a-eac6-4459-8018-23023ba5aa14:1935489880       Zone-2929530   \n",
       "\n",
       "  Connection_list Connection_req_with                  ...                   \\\n",
       "0           fixed     com.tct.weather                  ...                    \n",
       "1           adult       com.rock.gota                  ...                    \n",
       "\n",
       "  Landing_sales           Rebil_Date Rebil_Sales Rebill  \\\n",
       "0         12000  2018-04-06 16:54:30          11   True   \n",
       "1           600  2018-04-06 16:54:30           0  False   \n",
       "\n",
       "                Reference            Stop_Date  \\\n",
       "0  click.tripleupmobi.com  2018-03-06 16:54:30   \n",
       "1            9n2hupgl.top  2018-03-06 16:54:30   \n",
       "\n",
       "                                  UA User_Sales User_type  \\\n",
       "0                1PHONE Build/KOT49H       1200     wi-fi   \n",
       "1  VOX S504 3G VS5016PG Build/LMY47D          0       MTS   \n",
       "\n",
       "                               sub_uuid  \n",
       "0  28d0534e-20b5-11e8-91cd-b05bffe3b28f  \n",
       "1  28e36056-20b5-11e8-91cd-b05bffe3b28f  \n",
       "\n",
       "[2 rows x 43 columns]"
      ]
     },
     "execution_count": 7,
     "metadata": {},
     "output_type": "execute_result"
    }
   ],
   "source": [
    "DeadLine_Time.head()"
   ]
  },
  {
   "cell_type": "code",
   "execution_count": 8,
   "metadata": {},
   "outputs": [
    {
     "name": "stdout",
     "output_type": "stream",
     "text": [
      "<class 'pandas.core.frame.DataFrame'>\n",
      "RangeIndex: 2 entries, 0 to 1\n",
      "Data columns (total 43 columns):\n",
      "Activation_Date                      2 non-null object\n",
      "Active                               2 non-null bool\n",
      "Connection                           2 non-null object\n",
      "Connection_camp                      2 non-null int64\n",
      "Connection_domain                    2 non-null object\n",
      "Connection_exchange                  2 non-null object\n",
      "Connection_ic                        2 non-null object\n",
      "Connection_id_zone                   2 non-null object\n",
      "Connection_list                      2 non-null object\n",
      "Connection_req_with                  2 non-null object\n",
      "Connection_test                      2 non-null object\n",
      "Connection_tmpl                      2 non-null object\n",
      "Connection_type                      2 non-null object\n",
      "Connection_x_req_with                2 non-null object\n",
      "Error                                2 non-null int64\n",
      "Exchange_sales                       2 non-null int64\n",
      "Exchange_type                        2 non-null object\n",
      "IP                                   2 non-null object\n",
      "Init_Date                            2 non-null object\n",
      "Landing                              2 non-null int64\n",
      "Landing_CONTENT_ID                   2 non-null object\n",
      "Landing_DISABLE_TRIAL_CHECK          2 non-null bool\n",
      "Landing_IGNORE_CONTENT_PROTECTION    2 non-null bool\n",
      "Landing_IS_AOC                       2 non-null bool\n",
      "Landing_IS_BRAND                     2 non-null bool\n",
      "Landing_IS_CAPTCHA                   2 non-null bool\n",
      "Landing_IS_SUBSCRIPTION_BLOCKED      2 non-null bool\n",
      "Landing_MASTER_CONTENT_ID            2 non-null object\n",
      "Landing_SOURCE                       2 non-null int64\n",
      "Landing_SUBSCRIPTION                 2 non-null bool\n",
      "Landing_SUBSCRIPTION_SOURCE          2 non-null int64\n",
      "Landing_TARIFF_CATEGORY              2 non-null object\n",
      "Landing_TRIAL_PERIOD                 2 non-null bool\n",
      "Landing_sales                        2 non-null int64\n",
      "Rebil_Date                           2 non-null object\n",
      "Rebil_Sales                          2 non-null int64\n",
      "Rebill                               2 non-null bool\n",
      "Reference                            2 non-null object\n",
      "Stop_Date                            2 non-null object\n",
      "UA                                   2 non-null object\n",
      "User_Sales                           2 non-null int64\n",
      "User_type                            2 non-null object\n",
      "sub_uuid                             2 non-null object\n",
      "dtypes: bool(10), int64(9), object(24)\n",
      "memory usage: 628.0+ bytes\n"
     ]
    }
   ],
   "source": [
    "DeadLine_Time.info()"
   ]
  },
  {
   "cell_type": "code",
   "execution_count": null,
   "metadata": {
    "collapsed": true
   },
   "outputs": [],
   "source": []
  }
 ],
 "metadata": {
  "kernelspec": {
   "display_name": "Python 3",
   "language": "python",
   "name": "python3"
  },
  "language_info": {
   "codemirror_mode": {
    "name": "ipython",
    "version": 3
   },
   "file_extension": ".py",
   "mimetype": "text/x-python",
   "name": "python",
   "nbconvert_exporter": "python",
   "pygments_lexer": "ipython3",
   "version": "3.6.1"
  }
 },
 "nbformat": 4,
 "nbformat_minor": 2
}
