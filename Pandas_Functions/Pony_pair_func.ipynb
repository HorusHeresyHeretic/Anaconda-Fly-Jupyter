{
 "cells": [
  {
   "cell_type": "code",
   "execution_count": 1,
   "metadata": {
    "collapsed": true
   },
   "outputs": [],
   "source": [
    "import pandas as pd"
   ]
  },
  {
   "cell_type": "code",
   "execution_count": 2,
   "metadata": {},
   "outputs": [
    {
     "name": "stdout",
     "output_type": "stream",
     "text": [
      "Populating the interactive namespace from numpy and matplotlib\n"
     ]
    }
   ],
   "source": [
    "import warnings\n",
    "warnings.simplefilter('ignore')\n",
    "%pylab inline                 \n",
    "from pylab import rcParams    \n",
    "rcParams['figure.figsize'] = 25, 18\n",
    "import seaborn as sns\n",
    "sns.set(rc={'figure.figsize':(11.7,8.27)})"
   ]
  },
  {
   "cell_type": "code",
   "execution_count": 3,
   "metadata": {
    "collapsed": true
   },
   "outputs": [],
   "source": [
    "df = pd.read_csv('C:/Users/Battlestation/ML_2018_Edition/Pony_train.csv', sep=',')"
   ]
  },
  {
   "cell_type": "code",
   "execution_count": 8,
   "metadata": {},
   "outputs": [],
   "source": [
    "df = df.drop(['Unnamed: 0'], axis=1)"
   ]
  },
  {
   "cell_type": "code",
   "execution_count": 9,
   "metadata": {},
   "outputs": [
    {
     "name": "stdout",
     "output_type": "stream",
     "text": [
      "<class 'pandas.core.frame.DataFrame'>\n",
      "RangeIndex: 891 entries, 0 to 890\n",
      "Data columns (total 73 columns):\n",
      "PassengerId     891 non-null int64\n",
      "Survived        891 non-null int64\n",
      "Pclass          891 non-null int64\n",
      "Name            891 non-null object\n",
      "Sex             891 non-null object\n",
      "Age             714 non-null float64\n",
      "SibSp           891 non-null int64\n",
      "Parch           891 non-null int64\n",
      "Ticket          891 non-null object\n",
      "Fare            891 non-null float64\n",
      "Cabin           204 non-null object\n",
      "Embarked        889 non-null object\n",
      "Embarked_S      891 non-null int64\n",
      "Embarked_S_M    891 non-null int64\n",
      "Embarked_S_F    891 non-null int64\n",
      "Embarked_C      891 non-null int64\n",
      "Embarked_C_M    891 non-null int64\n",
      "Embarked_C_F    891 non-null int64\n",
      "Embarked_Q      891 non-null int64\n",
      "Embarked_Q_M    891 non-null int64\n",
      "Embarked_Q_F    891 non-null int64\n",
      "Parch_0         891 non-null int64\n",
      "Parch_0_M       891 non-null int64\n",
      "Parch_0_F       891 non-null int64\n",
      "Parch_1         891 non-null int64\n",
      "Parch_1_M       891 non-null int64\n",
      "Parch_1_F       891 non-null int64\n",
      "Parch_2         891 non-null int64\n",
      "Parch_2_M       891 non-null int64\n",
      "Parch_2_F       891 non-null int64\n",
      "Parch_3         891 non-null int64\n",
      "Parch_3_M       891 non-null int64\n",
      "Parch_3_F       891 non-null int64\n",
      "Parch_4         891 non-null int64\n",
      "Parch_4_M       891 non-null int64\n",
      "Parch_4_F       891 non-null int64\n",
      "Parch_5         891 non-null int64\n",
      "Parch_5_M       891 non-null int64\n",
      "Parch_5_F       891 non-null int64\n",
      "Parch_6         891 non-null int64\n",
      "Parch_6_M       891 non-null int64\n",
      "Parch_6_F       891 non-null int64\n",
      "SibSp_0         891 non-null int64\n",
      "SibSp_0_M       891 non-null int64\n",
      "SibSp_0_F       891 non-null int64\n",
      "SibSp_1         891 non-null int64\n",
      "SibSp_1_M       891 non-null int64\n",
      "SibSp_1_F       891 non-null int64\n",
      "SibSp_2         891 non-null int64\n",
      "SibSp_2_M       891 non-null int64\n",
      "SibSp_2_F       891 non-null int64\n",
      "SibSp_3         891 non-null int64\n",
      "SibSp_3_M       891 non-null int64\n",
      "SibSp_3_F       891 non-null int64\n",
      "SibSp_4         891 non-null int64\n",
      "SibSp_4_M       891 non-null int64\n",
      "SibSp_4_F       891 non-null int64\n",
      "SibSp_5         891 non-null int64\n",
      "SibSp_5_M       891 non-null int64\n",
      "SibSp_5_F       891 non-null int64\n",
      "SibSp_8         891 non-null int64\n",
      "SibSp_8_M       891 non-null int64\n",
      "SibSp_8_F       891 non-null int64\n",
      "Pclass_1        891 non-null int64\n",
      "Pclass_1_M      891 non-null int64\n",
      "Pclass_1_F      891 non-null int64\n",
      "Pclass_2        891 non-null int64\n",
      "Pclass_2_M      891 non-null int64\n",
      "Pclass_2_F      891 non-null int64\n",
      "Pclass_3        891 non-null int64\n",
      "Pclass_3_M      891 non-null int64\n",
      "Pclass_3_F      891 non-null int64\n",
      "age_S           290 non-null float64\n",
      "dtypes: float64(3), int64(65), object(5)\n",
      "memory usage: 508.2+ KB\n"
     ]
    }
   ],
   "source": [
    "df.info()"
   ]
  },
  {
   "cell_type": "code",
   "execution_count": 10,
   "metadata": {
    "collapsed": true
   },
   "outputs": [],
   "source": [
    "def pony_pair(x,y,q):\n",
    "    \"\"\"\n",
    "    Версия 1 возвращает принт\n",
    "    Функция обрабатывает датафреймы - аргумент [х].\n",
    "    Фукнция использует коофициенты корреляции - аргумент [y], Типы аргумента [y] - 'pearson', 'kendall', 'spearman'.\n",
    "    Функция проверяет поля матрицы заполнены только одним одинаковым значением в матрице корреляции и отбрасывает их.\n",
    "    Фукнция возвращает связанные пары признаков которые коррелируют между собой согласно аргументам [z] и [q].\n",
    "    Типы аргументов [z] и [q]\n",
    "    [z] - логический оператор (пока, не реализованно)\n",
    "    [q] - арифмитическое значение\n",
    "    \"\"\"\n",
    "    Corr_type = x.corr(y)\n",
    "    Corr_type_check = [i for i in Corr_type if Corr_type[i].isnull().drop_duplicates().values[0]]\n",
    "    Corr_type_df = x.drop(Corr_type_check, axis = 1)\n",
    "    Corr_type_matrix = Corr_type_df.corr()\n",
    "    Corr_pair_list = []\n",
    "    for pony in Corr_type_matrix:\n",
    "        for warp in Corr_type_matrix.index[Corr_type_matrix[pony] > q]:\n",
    "            if pony != warp and warp not in Corr_pair_list and pony not in Corr_pair_list:\n",
    "                Corr_pair_list.append(warp)\n",
    "                print(\"%s-->%s: r^2=%f\" % (pony,warp, Corr_type_matrix[pony][Corr_type_matrix.index==warp].values[0]))"
   ]
  },
  {
   "cell_type": "code",
   "execution_count": 11,
   "metadata": {},
   "outputs": [
    {
     "name": "stdout",
     "output_type": "stream",
     "text": [
      "Age-->age_S: r^2=1.000000\n",
      "Embarked_Q-->Embarked_Q_F: r^2=0.947035\n",
      "Parch_3-->Parch_3_F: r^2=1.000000\n",
      "Parch_5-->Parch_5_F: r^2=1.000000\n",
      "Parch_5-->Parch_6_F: r^2=1.000000\n",
      "SibSp_3-->SibSp_3_F: r^2=1.000000\n"
     ]
    }
   ],
   "source": [
    "pony_pair(df,'pearson', 0.9)"
   ]
  },
  {
   "cell_type": "code",
   "execution_count": 24,
   "metadata": {
    "collapsed": true
   },
   "outputs": [],
   "source": [
    "def pony_pair(df,corr_type,corr_score):\n",
    "    \"\"\"\n",
    "    Версия 2 - возвращает датафрейм \n",
    "    Функция обрабатывает датафреймы - аргумент [df].\n",
    "    Фукнция использует коофициенты корреляции - аргумент [corr_type], Типы аргумента - 'pearson', 'kendall', 'spearman'.\n",
    "    Функция проверяет поля матрицы заполнены только одним одинаковым значением в матрице корреляции и отбрасывает их.\n",
    "    Фукнция возвращает связанные пары признаков которые коррелируют между собой согласно аргументу [corr_score].\n",
    "    Функция возвращает датафрейм в котором удалены признаки, соотвеству.щие установленному порогу корреляции.\n",
    "    \"\"\"\n",
    "    Corr_type = df.corr(corr_type)\n",
    "    Corr_type_check = [i for i in Corr_type if Corr_type[i].isnull().drop_duplicates().values[0]]\n",
    "    Corr_type_df = df.drop(Corr_type_check, axis = 1)\n",
    "    Corr_type_matrix = Corr_type_df.corr()\n",
    "    Corr_pair_list = []\n",
    "    for pony in Corr_type_matrix:\n",
    "        for warp in Corr_type_matrix.index[Corr_type_matrix[pony] > corr_score]:\n",
    "            if pony != warp and warp not in Corr_pair_list and pony not in Corr_pair_list:\n",
    "                Corr_pair_list.append(warp)\n",
    "                print(\"%s-->%s: r^2=%f\" % (pony,warp, Corr_type_matrix[pony][Corr_type_matrix.index==warp].values[0]))\n",
    "    df_pair_drop = Corr_type_df.drop(Corr_pair_list, axis = 1)\n",
    "    return df_pair_drop           "
   ]
  },
  {
   "cell_type": "code",
   "execution_count": 25,
   "metadata": {},
   "outputs": [
    {
     "name": "stdout",
     "output_type": "stream",
     "text": [
      "Age-->age_S: r^2=1.000000\n",
      "Parch_3-->Parch_3_F: r^2=1.000000\n",
      "Parch_5-->Parch_5_F: r^2=1.000000\n",
      "Parch_5-->Parch_6_F: r^2=1.000000\n",
      "SibSp_3-->SibSp_3_F: r^2=1.000000\n"
     ]
    }
   ],
   "source": [
    "pony_tail_df = pony_pair(df,'pearson', 0.95)"
   ]
  },
  {
   "cell_type": "code",
   "execution_count": 26,
   "metadata": {},
   "outputs": [
    {
     "name": "stdout",
     "output_type": "stream",
     "text": [
      "<class 'pandas.core.frame.DataFrame'>\n",
      "RangeIndex: 891 entries, 0 to 890\n",
      "Data columns (total 54 columns):\n",
      "PassengerId     891 non-null int64\n",
      "Survived        891 non-null int64\n",
      "Pclass          891 non-null int64\n",
      "Name            891 non-null object\n",
      "Sex             891 non-null object\n",
      "Age             714 non-null float64\n",
      "SibSp           891 non-null int64\n",
      "Parch           891 non-null int64\n",
      "Ticket          891 non-null object\n",
      "Fare            891 non-null float64\n",
      "Cabin           204 non-null object\n",
      "Embarked        889 non-null object\n",
      "Embarked_S      891 non-null int64\n",
      "Embarked_S_M    891 non-null int64\n",
      "Embarked_S_F    891 non-null int64\n",
      "Embarked_C      891 non-null int64\n",
      "Embarked_C_M    891 non-null int64\n",
      "Embarked_C_F    891 non-null int64\n",
      "Embarked_Q      891 non-null int64\n",
      "Embarked_Q_M    891 non-null int64\n",
      "Embarked_Q_F    891 non-null int64\n",
      "Parch_0         891 non-null int64\n",
      "Parch_0_M       891 non-null int64\n",
      "Parch_0_F       891 non-null int64\n",
      "Parch_1         891 non-null int64\n",
      "Parch_1_M       891 non-null int64\n",
      "Parch_1_F       891 non-null int64\n",
      "Parch_2         891 non-null int64\n",
      "Parch_2_M       891 non-null int64\n",
      "Parch_2_F       891 non-null int64\n",
      "Parch_3         891 non-null int64\n",
      "Parch_5         891 non-null int64\n",
      "SibSp_0         891 non-null int64\n",
      "SibSp_0_M       891 non-null int64\n",
      "SibSp_0_F       891 non-null int64\n",
      "SibSp_1         891 non-null int64\n",
      "SibSp_1_M       891 non-null int64\n",
      "SibSp_1_F       891 non-null int64\n",
      "SibSp_2         891 non-null int64\n",
      "SibSp_2_M       891 non-null int64\n",
      "SibSp_2_F       891 non-null int64\n",
      "SibSp_3         891 non-null int64\n",
      "SibSp_4         891 non-null int64\n",
      "SibSp_4_M       891 non-null int64\n",
      "SibSp_4_F       891 non-null int64\n",
      "Pclass_1        891 non-null int64\n",
      "Pclass_1_M      891 non-null int64\n",
      "Pclass_1_F      891 non-null int64\n",
      "Pclass_2        891 non-null int64\n",
      "Pclass_2_M      891 non-null int64\n",
      "Pclass_2_F      891 non-null int64\n",
      "Pclass_3        891 non-null int64\n",
      "Pclass_3_M      891 non-null int64\n",
      "Pclass_3_F      891 non-null int64\n",
      "dtypes: float64(2), int64(47), object(5)\n",
      "memory usage: 376.0+ KB\n"
     ]
    }
   ],
   "source": [
    "pony_tail_df.info()"
   ]
  },
  {
   "cell_type": "code",
   "execution_count": null,
   "metadata": {
    "collapsed": true
   },
   "outputs": [],
   "source": []
  }
 ],
 "metadata": {
  "kernelspec": {
   "display_name": "Python 3",
   "language": "python",
   "name": "python3"
  },
  "language_info": {
   "codemirror_mode": {
    "name": "ipython",
    "version": 3
   },
   "file_extension": ".py",
   "mimetype": "text/x-python",
   "name": "python",
   "nbconvert_exporter": "python",
   "pygments_lexer": "ipython3",
   "version": "3.6.1"
  }
 },
 "nbformat": 4,
 "nbformat_minor": 2
}
